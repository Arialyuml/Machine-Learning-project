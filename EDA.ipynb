{
 "cells": [
  {
   "cell_type": "code",
   "execution_count": 1,
   "metadata": {},
   "outputs": [
    {
     "data": {
      "text/html": [
       "        <script type=\"text/javascript\">\n",
       "        window.PlotlyConfig = {MathJaxConfig: 'local'};\n",
       "        if (window.MathJax && window.MathJax.Hub && window.MathJax.Hub.Config) {window.MathJax.Hub.Config({SVG: {font: \"STIX-Web\"}});}\n",
       "        if (typeof require !== 'undefined') {\n",
       "        require.undef(\"plotly\");\n",
       "        requirejs.config({\n",
       "            paths: {\n",
       "                'plotly': ['https://cdn.plot.ly/plotly-2.18.0.min']\n",
       "            }\n",
       "        });\n",
       "        require(['plotly'], function(Plotly) {\n",
       "            window._Plotly = Plotly;\n",
       "        });\n",
       "        }\n",
       "        </script>\n",
       "        "
      ]
     },
     "metadata": {},
     "output_type": "display_data"
    }
   ],
   "source": [
    "import numpy as np # linear algebra\n",
    "import pandas as pd # data processing, CSV file I/O (e.g. pd.read_csv)\n",
    "import matplotlib.pyplot as plt\n",
    "from itertools import cycle, islice\n",
    "import seaborn as sb\n",
    "import matplotlib.dates as dates\n",
    "import datetime as dt\n",
    "\n",
    "import plotly.offline as py\n",
    "py.init_notebook_mode(connected=True)\n",
    "from plotly import tools, subplots\n",
    "import plotly.figure_factory as ff\n",
    "import plotly.express as px\n",
    "import plotly.graph_objects as go"
   ]
  },
  {
   "cell_type": "code",
   "execution_count": 2,
   "metadata": {},
   "outputs": [
    {
     "data": {
      "text/html": [
       "<div>\n",
       "<style scoped>\n",
       "    .dataframe tbody tr th:only-of-type {\n",
       "        vertical-align: middle;\n",
       "    }\n",
       "\n",
       "    .dataframe tbody tr th {\n",
       "        vertical-align: top;\n",
       "    }\n",
       "\n",
       "    .dataframe thead th {\n",
       "        text-align: right;\n",
       "    }\n",
       "</style>\n",
       "<table border=\"1\" class=\"dataframe\">\n",
       "  <thead>\n",
       "    <tr style=\"text-align: right;\">\n",
       "      <th></th>\n",
       "      <th>Id</th>\n",
       "      <th>Province_State</th>\n",
       "      <th>Country_Region</th>\n",
       "      <th>Date</th>\n",
       "      <th>ConfirmedCases</th>\n",
       "      <th>Fatalities</th>\n",
       "    </tr>\n",
       "  </thead>\n",
       "  <tbody>\n",
       "    <tr>\n",
       "      <th>0</th>\n",
       "      <td>1</td>\n",
       "      <td>NaN</td>\n",
       "      <td>Afghanistan</td>\n",
       "      <td>2020-01-22</td>\n",
       "      <td>0.0</td>\n",
       "      <td>0.0</td>\n",
       "    </tr>\n",
       "    <tr>\n",
       "      <th>1</th>\n",
       "      <td>2</td>\n",
       "      <td>NaN</td>\n",
       "      <td>Afghanistan</td>\n",
       "      <td>2020-01-23</td>\n",
       "      <td>0.0</td>\n",
       "      <td>0.0</td>\n",
       "    </tr>\n",
       "    <tr>\n",
       "      <th>2</th>\n",
       "      <td>3</td>\n",
       "      <td>NaN</td>\n",
       "      <td>Afghanistan</td>\n",
       "      <td>2020-01-24</td>\n",
       "      <td>0.0</td>\n",
       "      <td>0.0</td>\n",
       "    </tr>\n",
       "    <tr>\n",
       "      <th>3</th>\n",
       "      <td>4</td>\n",
       "      <td>NaN</td>\n",
       "      <td>Afghanistan</td>\n",
       "      <td>2020-01-25</td>\n",
       "      <td>0.0</td>\n",
       "      <td>0.0</td>\n",
       "    </tr>\n",
       "    <tr>\n",
       "      <th>4</th>\n",
       "      <td>5</td>\n",
       "      <td>NaN</td>\n",
       "      <td>Afghanistan</td>\n",
       "      <td>2020-01-26</td>\n",
       "      <td>0.0</td>\n",
       "      <td>0.0</td>\n",
       "    </tr>\n",
       "  </tbody>\n",
       "</table>\n",
       "</div>"
      ],
      "text/plain": [
       "   Id Province_State Country_Region        Date  ConfirmedCases  Fatalities\n",
       "0   1            NaN    Afghanistan  2020-01-22             0.0         0.0\n",
       "1   2            NaN    Afghanistan  2020-01-23             0.0         0.0\n",
       "2   3            NaN    Afghanistan  2020-01-24             0.0         0.0\n",
       "3   4            NaN    Afghanistan  2020-01-25             0.0         0.0\n",
       "4   5            NaN    Afghanistan  2020-01-26             0.0         0.0"
      ]
     },
     "metadata": {},
     "output_type": "display_data"
    },
    {
     "data": {
      "text/html": [
       "<div>\n",
       "<style scoped>\n",
       "    .dataframe tbody tr th:only-of-type {\n",
       "        vertical-align: middle;\n",
       "    }\n",
       "\n",
       "    .dataframe tbody tr th {\n",
       "        vertical-align: top;\n",
       "    }\n",
       "\n",
       "    .dataframe thead th {\n",
       "        text-align: right;\n",
       "    }\n",
       "</style>\n",
       "<table border=\"1\" class=\"dataframe\">\n",
       "  <thead>\n",
       "    <tr style=\"text-align: right;\">\n",
       "      <th></th>\n",
       "      <th>ForecastId</th>\n",
       "      <th>Province_State</th>\n",
       "      <th>Country_Region</th>\n",
       "      <th>Date</th>\n",
       "    </tr>\n",
       "  </thead>\n",
       "  <tbody>\n",
       "    <tr>\n",
       "      <th>0</th>\n",
       "      <td>1</td>\n",
       "      <td>NaN</td>\n",
       "      <td>Afghanistan</td>\n",
       "      <td>2020-04-02</td>\n",
       "    </tr>\n",
       "    <tr>\n",
       "      <th>1</th>\n",
       "      <td>2</td>\n",
       "      <td>NaN</td>\n",
       "      <td>Afghanistan</td>\n",
       "      <td>2020-04-03</td>\n",
       "    </tr>\n",
       "    <tr>\n",
       "      <th>2</th>\n",
       "      <td>3</td>\n",
       "      <td>NaN</td>\n",
       "      <td>Afghanistan</td>\n",
       "      <td>2020-04-04</td>\n",
       "    </tr>\n",
       "    <tr>\n",
       "      <th>3</th>\n",
       "      <td>4</td>\n",
       "      <td>NaN</td>\n",
       "      <td>Afghanistan</td>\n",
       "      <td>2020-04-05</td>\n",
       "    </tr>\n",
       "    <tr>\n",
       "      <th>4</th>\n",
       "      <td>5</td>\n",
       "      <td>NaN</td>\n",
       "      <td>Afghanistan</td>\n",
       "      <td>2020-04-06</td>\n",
       "    </tr>\n",
       "  </tbody>\n",
       "</table>\n",
       "</div>"
      ],
      "text/plain": [
       "   ForecastId Province_State Country_Region        Date\n",
       "0           1            NaN    Afghanistan  2020-04-02\n",
       "1           2            NaN    Afghanistan  2020-04-03\n",
       "2           3            NaN    Afghanistan  2020-04-04\n",
       "3           4            NaN    Afghanistan  2020-04-05\n",
       "4           5            NaN    Afghanistan  2020-04-06"
      ]
     },
     "metadata": {},
     "output_type": "display_data"
    }
   ],
   "source": [
    "train_data = pd.read_csv(\"train.csv\")#index_col=0\n",
    "display(train_data.head())\n",
    "test_data = pd.read_csv(\"test.csv\")#index_col=0\n",
    "display(test_data.head())"
   ]
  },
  {
   "cell_type": "code",
   "execution_count": 3,
   "metadata": {},
   "outputs": [
    {
     "data": {
      "text/html": [
       "<div>\n",
       "<style scoped>\n",
       "    .dataframe tbody tr th:only-of-type {\n",
       "        vertical-align: middle;\n",
       "    }\n",
       "\n",
       "    .dataframe tbody tr th {\n",
       "        vertical-align: top;\n",
       "    }\n",
       "\n",
       "    .dataframe thead th {\n",
       "        text-align: right;\n",
       "    }\n",
       "</style>\n",
       "<table border=\"1\" class=\"dataframe\">\n",
       "  <thead>\n",
       "    <tr style=\"text-align: right;\">\n",
       "      <th></th>\n",
       "      <th>Id</th>\n",
       "      <th>Province_State</th>\n",
       "      <th>Country_Region</th>\n",
       "      <th>Date</th>\n",
       "      <th>ConfirmedCases</th>\n",
       "      <th>Fatalities</th>\n",
       "      <th>NewConfirmedCases</th>\n",
       "      <th>NewFatalities</th>\n",
       "      <th>MortalityRate</th>\n",
       "      <th>GrowthRate</th>\n",
       "    </tr>\n",
       "  </thead>\n",
       "  <tbody>\n",
       "    <tr>\n",
       "      <th>0</th>\n",
       "      <td>1</td>\n",
       "      <td>NaN</td>\n",
       "      <td>Afghanistan</td>\n",
       "      <td>2020-01-22</td>\n",
       "      <td>0.0</td>\n",
       "      <td>0.0</td>\n",
       "      <td>0.0</td>\n",
       "      <td>0.0</td>\n",
       "      <td>0.0</td>\n",
       "      <td>0.0</td>\n",
       "    </tr>\n",
       "    <tr>\n",
       "      <th>1</th>\n",
       "      <td>2</td>\n",
       "      <td>NaN</td>\n",
       "      <td>Afghanistan</td>\n",
       "      <td>2020-01-23</td>\n",
       "      <td>0.0</td>\n",
       "      <td>0.0</td>\n",
       "      <td>0.0</td>\n",
       "      <td>0.0</td>\n",
       "      <td>0.0</td>\n",
       "      <td>0.0</td>\n",
       "    </tr>\n",
       "    <tr>\n",
       "      <th>2</th>\n",
       "      <td>3</td>\n",
       "      <td>NaN</td>\n",
       "      <td>Afghanistan</td>\n",
       "      <td>2020-01-24</td>\n",
       "      <td>0.0</td>\n",
       "      <td>0.0</td>\n",
       "      <td>0.0</td>\n",
       "      <td>0.0</td>\n",
       "      <td>0.0</td>\n",
       "      <td>0.0</td>\n",
       "    </tr>\n",
       "    <tr>\n",
       "      <th>3</th>\n",
       "      <td>4</td>\n",
       "      <td>NaN</td>\n",
       "      <td>Afghanistan</td>\n",
       "      <td>2020-01-25</td>\n",
       "      <td>0.0</td>\n",
       "      <td>0.0</td>\n",
       "      <td>0.0</td>\n",
       "      <td>0.0</td>\n",
       "      <td>0.0</td>\n",
       "      <td>0.0</td>\n",
       "    </tr>\n",
       "    <tr>\n",
       "      <th>4</th>\n",
       "      <td>5</td>\n",
       "      <td>NaN</td>\n",
       "      <td>Afghanistan</td>\n",
       "      <td>2020-01-26</td>\n",
       "      <td>0.0</td>\n",
       "      <td>0.0</td>\n",
       "      <td>0.0</td>\n",
       "      <td>0.0</td>\n",
       "      <td>0.0</td>\n",
       "      <td>0.0</td>\n",
       "    </tr>\n",
       "  </tbody>\n",
       "</table>\n",
       "</div>"
      ],
      "text/plain": [
       "   Id Province_State Country_Region        Date  ConfirmedCases  Fatalities  \\\n",
       "0   1            NaN    Afghanistan  2020-01-22             0.0         0.0   \n",
       "1   2            NaN    Afghanistan  2020-01-23             0.0         0.0   \n",
       "2   3            NaN    Afghanistan  2020-01-24             0.0         0.0   \n",
       "3   4            NaN    Afghanistan  2020-01-25             0.0         0.0   \n",
       "4   5            NaN    Afghanistan  2020-01-26             0.0         0.0   \n",
       "\n",
       "   NewConfirmedCases  NewFatalities  MortalityRate  GrowthRate  \n",
       "0                0.0            0.0            0.0         0.0  \n",
       "1                0.0            0.0            0.0         0.0  \n",
       "2                0.0            0.0            0.0         0.0  \n",
       "3                0.0            0.0            0.0         0.0  \n",
       "4                0.0            0.0            0.0         0.0  "
      ]
     },
     "metadata": {},
     "output_type": "display_data"
    }
   ],
   "source": [
    "train_data['NewConfirmedCases'] = train_data['ConfirmedCases'] - train_data['ConfirmedCases'].shift(1)\n",
    "train_data['NewConfirmedCases'] = train_data['NewConfirmedCases'].fillna(0.0)\n",
    "train_data['NewFatalities']     = train_data['Fatalities'] - train_data['Fatalities'].shift(1)\n",
    "train_data['NewFatalities']     = train_data['NewFatalities'].fillna(0.0)#.astype(int)\n",
    "train_data['MortalityRate']     = train_data['Fatalities'] / train_data['ConfirmedCases']\n",
    "train_data['MortalityRate']     = train_data['MortalityRate'].fillna(0.0)\n",
    "train_data['GrowthRate']        = train_data['NewConfirmedCases']/train_data['NewConfirmedCases'].shift(1)\n",
    "train_data['GrowthRate']        = train_data['GrowthRate'].replace([-np.inf, np.inf],  0.0)\n",
    "train_data['GrowthRate']        = train_data['GrowthRate'].fillna(0.0) \n",
    "display(train_data.head())"
   ]
  },
  {
   "cell_type": "code",
   "execution_count": 4,
   "metadata": {},
   "outputs": [
    {
     "name": "stdout",
     "output_type": "stream",
     "text": [
      "<==Train data==> \n",
      " # of Province_State: 133 , # of Country_Region:184 , Time Period: 2020-01-22 to 2020-05-15 ==> days: 115\n",
      "\n",
      " Countries with Province/State information:   ['Australia' 'Canada' 'China' 'Denmark' 'France' 'Netherlands' 'US'\n",
      " 'United Kingdom']\n",
      "\n",
      " <==Test  data==> \n",
      " # of Province_State: 133 , # of Country_Region:184 , Time Period: 2020-04-02 to 2020-05-14 ==> days: 43\n",
      "\n",
      " overlap days with training data:  13 , total days:  145\n"
     ]
    }
   ],
   "source": [
    "def getColumnInfo(df):\n",
    "    n_province =  df['Province_State'].nunique()\n",
    "    n_country  =  df['Country_Region'].nunique()\n",
    "    n_days     =  df['Date'].nunique()\n",
    "    start_date =  df['Date'].unique()[0]\n",
    "    end_date   =  df['Date'].unique()[-1]\n",
    "    return n_province, n_country, n_days, start_date, end_date\n",
    "\n",
    "n_train = train_data.shape[0]\n",
    "n_test = test_data.shape[0]\n",
    "\n",
    "n_prov_train, n_count_train, n_train_days, start_date_train, end_date_train = getColumnInfo(train_data)\n",
    "n_prov_test,  n_count_test,  n_test_days,  start_date_test,  end_date_test  = getColumnInfo(test_data)\n",
    "\n",
    "print ('<==Train data==> \\n # of Province_State: '+str(n_prov_train),', # of Country_Region:'+str(n_count_train), \n",
    "       ', Time Period: '+str(start_date_train)+' to '+str(end_date_train), '==> days:',str(n_train_days))\n",
    "print(\"\\n Countries with Province/State information:  \", train_data[train_data['Province_State'].isna()==False]['Country_Region'].unique())\n",
    "print ('\\n <==Test  data==> \\n # of Province_State: '+str(n_prov_test),', # of Country_Region:'+str(n_count_test),\n",
    "       ', Time Period: '+start_date_test+' to '+end_date_test, '==> days:',n_test_days)\n",
    "\n",
    "df_test = test_data.loc[test_data.Date > '2020-04-14']\n",
    "overlap_days = n_test_days - df_test.Date.nunique()\n",
    "print('\\n overlap days with training data: ', overlap_days, ', total days: ', n_train_days+n_test_days-overlap_days)"
   ]
  },
  {
   "cell_type": "code",
   "execution_count": 5,
   "metadata": {},
   "outputs": [
    {
     "name": "stdout",
     "output_type": "stream",
     "text": [
      "Percentage of confirmed case records = 23521/35995 = 65.3%\n",
      "Percentage of fatality records = 15706/35995 = 43.6%\n"
     ]
    }
   ],
   "source": [
    "prob_confirm_check_train = train_data.ConfirmedCases.value_counts(normalize=True)\n",
    "prob_fatal_check_train = train_data.Fatalities.value_counts(normalize=True)\n",
    "\n",
    "n_confirm_train = train_data.ConfirmedCases.value_counts()[1:].sum()\n",
    "n_fatal_train = train_data.Fatalities.value_counts()[1:].sum()\n",
    "\n",
    "print('Percentage of confirmed case records = {0:<2.0f}/{1:<2.0f} = {2:<2.1f}%'.format(n_confirm_train, n_train, prob_confirm_check_train[1:].sum()*100))\n",
    "print('Percentage of fatality records = {0:<2.0f}/{1:<2.0f} = {2:<2.1f}%'.format(n_fatal_train, n_train, prob_fatal_check_train[1:].sum()*100))"
   ]
  },
  {
   "cell_type": "markdown",
   "metadata": {},
   "source": [
    "Trend by Country/Region for the maximum cases"
   ]
  },
  {
   "cell_type": "code",
   "execution_count": 6,
   "metadata": {},
   "outputs": [
    {
     "data": {
      "text/html": [
       "<style  type=\"text/css\" >\n",
       "#T_ca50897a_edcf_11ed_9534_70c94eff7636row0_col1,#T_ca50897a_edcf_11ed_9534_70c94eff7636row0_col2,#T_ca50897a_edcf_11ed_9534_70c94eff7636row20_col3{\n",
       "            background-color:  #67000d;\n",
       "            color:  #f1f1f1;\n",
       "        }#T_ca50897a_edcf_11ed_9534_70c94eff7636row0_col3,#T_ca50897a_edcf_11ed_9534_70c94eff7636row1_col3,#T_ca50897a_edcf_11ed_9534_70c94eff7636row2_col3,#T_ca50897a_edcf_11ed_9534_70c94eff7636row8_col3,#T_ca50897a_edcf_11ed_9534_70c94eff7636row9_col3,#T_ca50897a_edcf_11ed_9534_70c94eff7636row14_col3,#T_ca50897a_edcf_11ed_9534_70c94eff7636row15_col3,#T_ca50897a_edcf_11ed_9534_70c94eff7636row16_col3,#T_ca50897a_edcf_11ed_9534_70c94eff7636row21_col3,#T_ca50897a_edcf_11ed_9534_70c94eff7636row25_col3,#T_ca50897a_edcf_11ed_9534_70c94eff7636row26_col3,#T_ca50897a_edcf_11ed_9534_70c94eff7636row28_col3,#T_ca50897a_edcf_11ed_9534_70c94eff7636row29_col3,#T_ca50897a_edcf_11ed_9534_70c94eff7636row30_col3,#T_ca50897a_edcf_11ed_9534_70c94eff7636row31_col3,#T_ca50897a_edcf_11ed_9534_70c94eff7636row35_col3,#T_ca50897a_edcf_11ed_9534_70c94eff7636row38_col3,#T_ca50897a_edcf_11ed_9534_70c94eff7636row42_col3,#T_ca50897a_edcf_11ed_9534_70c94eff7636row48_col3,#T_ca50897a_edcf_11ed_9534_70c94eff7636row53_col3,#T_ca50897a_edcf_11ed_9534_70c94eff7636row54_col3,#T_ca50897a_edcf_11ed_9534_70c94eff7636row56_col3,#T_ca50897a_edcf_11ed_9534_70c94eff7636row67_col3,#T_ca50897a_edcf_11ed_9534_70c94eff7636row71_col3,#T_ca50897a_edcf_11ed_9534_70c94eff7636row77_col3,#T_ca50897a_edcf_11ed_9534_70c94eff7636row82_col3,#T_ca50897a_edcf_11ed_9534_70c94eff7636row88_col3,#T_ca50897a_edcf_11ed_9534_70c94eff7636row93_col3,#T_ca50897a_edcf_11ed_9534_70c94eff7636row99_col3,#T_ca50897a_edcf_11ed_9534_70c94eff7636row100_col3,#T_ca50897a_edcf_11ed_9534_70c94eff7636row107_col3,#T_ca50897a_edcf_11ed_9534_70c94eff7636row124_col3{\n",
       "            background-color:  #fcbda4;\n",
       "            color:  #000000;\n",
       "        }#T_ca50897a_edcf_11ed_9534_70c94eff7636row1_col1{\n",
       "            background-color:  #fdd0bc;\n",
       "            color:  #000000;\n",
       "        }#T_ca50897a_edcf_11ed_9534_70c94eff7636row1_col2,#T_ca50897a_edcf_11ed_9534_70c94eff7636row16_col1,#T_ca50897a_edcf_11ed_9534_70c94eff7636row17_col1,#T_ca50897a_edcf_11ed_9534_70c94eff7636row20_col2{\n",
       "            background-color:  #fff0e9;\n",
       "            color:  #000000;\n",
       "        }#T_ca50897a_edcf_11ed_9534_70c94eff7636row2_col1{\n",
       "            background-color:  #fdd4c2;\n",
       "            color:  #000000;\n",
       "        }#T_ca50897a_edcf_11ed_9534_70c94eff7636row2_col2{\n",
       "            background-color:  #fc8e6e;\n",
       "            color:  #000000;\n",
       "        }#T_ca50897a_edcf_11ed_9534_70c94eff7636row3_col1{\n",
       "            background-color:  #fdd7c6;\n",
       "            color:  #000000;\n",
       "        }#T_ca50897a_edcf_11ed_9534_70c94eff7636row3_col2,#T_ca50897a_edcf_11ed_9534_70c94eff7636row6_col2{\n",
       "            background-color:  #fca689;\n",
       "            color:  #000000;\n",
       "        }#T_ca50897a_edcf_11ed_9534_70c94eff7636row3_col3,#T_ca50897a_edcf_11ed_9534_70c94eff7636row4_col3,#T_ca50897a_edcf_11ed_9534_70c94eff7636row6_col3,#T_ca50897a_edcf_11ed_9534_70c94eff7636row10_col3,#T_ca50897a_edcf_11ed_9534_70c94eff7636row11_col3,#T_ca50897a_edcf_11ed_9534_70c94eff7636row17_col3,#T_ca50897a_edcf_11ed_9534_70c94eff7636row18_col3,#T_ca50897a_edcf_11ed_9534_70c94eff7636row22_col3,#T_ca50897a_edcf_11ed_9534_70c94eff7636row23_col3,#T_ca50897a_edcf_11ed_9534_70c94eff7636row33_col3,#T_ca50897a_edcf_11ed_9534_70c94eff7636row34_col3,#T_ca50897a_edcf_11ed_9534_70c94eff7636row36_col3,#T_ca50897a_edcf_11ed_9534_70c94eff7636row37_col3,#T_ca50897a_edcf_11ed_9534_70c94eff7636row39_col3,#T_ca50897a_edcf_11ed_9534_70c94eff7636row40_col3,#T_ca50897a_edcf_11ed_9534_70c94eff7636row43_col3,#T_ca50897a_edcf_11ed_9534_70c94eff7636row45_col3,#T_ca50897a_edcf_11ed_9534_70c94eff7636row46_col3,#T_ca50897a_edcf_11ed_9534_70c94eff7636row47_col3,#T_ca50897a_edcf_11ed_9534_70c94eff7636row51_col3,#T_ca50897a_edcf_11ed_9534_70c94eff7636row55_col3,#T_ca50897a_edcf_11ed_9534_70c94eff7636row58_col3,#T_ca50897a_edcf_11ed_9534_70c94eff7636row59_col3,#T_ca50897a_edcf_11ed_9534_70c94eff7636row61_col3,#T_ca50897a_edcf_11ed_9534_70c94eff7636row63_col3,#T_ca50897a_edcf_11ed_9534_70c94eff7636row64_col3,#T_ca50897a_edcf_11ed_9534_70c94eff7636row65_col3,#T_ca50897a_edcf_11ed_9534_70c94eff7636row69_col3,#T_ca50897a_edcf_11ed_9534_70c94eff7636row78_col3,#T_ca50897a_edcf_11ed_9534_70c94eff7636row84_col3,#T_ca50897a_edcf_11ed_9534_70c94eff7636row90_col3,#T_ca50897a_edcf_11ed_9534_70c94eff7636row94_col3,#T_ca50897a_edcf_11ed_9534_70c94eff7636row97_col3,#T_ca50897a_edcf_11ed_9534_70c94eff7636row105_col3,#T_ca50897a_edcf_11ed_9534_70c94eff7636row115_col3,#T_ca50897a_edcf_11ed_9534_70c94eff7636row118_col3,#T_ca50897a_edcf_11ed_9534_70c94eff7636row132_col3{\n",
       "            background-color:  #fcbea5;\n",
       "            color:  #000000;\n",
       "        }#T_ca50897a_edcf_11ed_9534_70c94eff7636row4_col1,#T_ca50897a_edcf_11ed_9534_70c94eff7636row5_col1{\n",
       "            background-color:  #fed8c7;\n",
       "            color:  #000000;\n",
       "        }#T_ca50897a_edcf_11ed_9534_70c94eff7636row4_col2{\n",
       "            background-color:  #fc9777;\n",
       "            color:  #000000;\n",
       "        }#T_ca50897a_edcf_11ed_9534_70c94eff7636row5_col2{\n",
       "            background-color:  #fdd3c1;\n",
       "            color:  #000000;\n",
       "        }#T_ca50897a_edcf_11ed_9534_70c94eff7636row5_col3,#T_ca50897a_edcf_11ed_9534_70c94eff7636row24_col3,#T_ca50897a_edcf_11ed_9534_70c94eff7636row49_col3,#T_ca50897a_edcf_11ed_9534_70c94eff7636row57_col3,#T_ca50897a_edcf_11ed_9534_70c94eff7636row60_col3,#T_ca50897a_edcf_11ed_9534_70c94eff7636row62_col3,#T_ca50897a_edcf_11ed_9534_70c94eff7636row74_col3,#T_ca50897a_edcf_11ed_9534_70c94eff7636row89_col3,#T_ca50897a_edcf_11ed_9534_70c94eff7636row92_col3,#T_ca50897a_edcf_11ed_9534_70c94eff7636row102_col3,#T_ca50897a_edcf_11ed_9534_70c94eff7636row106_col3,#T_ca50897a_edcf_11ed_9534_70c94eff7636row137_col3{\n",
       "            background-color:  #fcbca2;\n",
       "            color:  #000000;\n",
       "        }#T_ca50897a_edcf_11ed_9534_70c94eff7636row6_col1,#T_ca50897a_edcf_11ed_9534_70c94eff7636row7_col1{\n",
       "            background-color:  #fee1d3;\n",
       "            color:  #000000;\n",
       "        }#T_ca50897a_edcf_11ed_9534_70c94eff7636row7_col2{\n",
       "            background-color:  #fee6da;\n",
       "            color:  #000000;\n",
       "        }#T_ca50897a_edcf_11ed_9534_70c94eff7636row7_col3,#T_ca50897a_edcf_11ed_9534_70c94eff7636row85_col3,#T_ca50897a_edcf_11ed_9534_70c94eff7636row141_col3,#T_ca50897a_edcf_11ed_9534_70c94eff7636row142_col3{\n",
       "            background-color:  #fcb99f;\n",
       "            color:  #000000;\n",
       "        }#T_ca50897a_edcf_11ed_9534_70c94eff7636row8_col1{\n",
       "            background-color:  #fee5d8;\n",
       "            color:  #000000;\n",
       "        }#T_ca50897a_edcf_11ed_9534_70c94eff7636row8_col2{\n",
       "            background-color:  #ffeee6;\n",
       "            color:  #000000;\n",
       "        }#T_ca50897a_edcf_11ed_9534_70c94eff7636row9_col1,#T_ca50897a_edcf_11ed_9534_70c94eff7636row9_col2{\n",
       "            background-color:  #fee8dd;\n",
       "            color:  #000000;\n",
       "        }#T_ca50897a_edcf_11ed_9534_70c94eff7636row10_col1{\n",
       "            background-color:  #ffebe2;\n",
       "            color:  #000000;\n",
       "        }#T_ca50897a_edcf_11ed_9534_70c94eff7636row10_col2,#T_ca50897a_edcf_11ed_9534_70c94eff7636row15_col1{\n",
       "            background-color:  #fff0e8;\n",
       "            color:  #000000;\n",
       "        }#T_ca50897a_edcf_11ed_9534_70c94eff7636row11_col1,#T_ca50897a_edcf_11ed_9534_70c94eff7636row12_col1{\n",
       "            background-color:  #ffece3;\n",
       "            color:  #000000;\n",
       "        }#T_ca50897a_edcf_11ed_9534_70c94eff7636row11_col2,#T_ca50897a_edcf_11ed_9534_70c94eff7636row18_col1,#T_ca50897a_edcf_11ed_9534_70c94eff7636row19_col1{\n",
       "            background-color:  #fff1ea;\n",
       "            color:  #000000;\n",
       "        }#T_ca50897a_edcf_11ed_9534_70c94eff7636row12_col2,#T_ca50897a_edcf_11ed_9534_70c94eff7636row13_col1,#T_ca50897a_edcf_11ed_9534_70c94eff7636row16_col2{\n",
       "            background-color:  #ffece4;\n",
       "            color:  #000000;\n",
       "        }#T_ca50897a_edcf_11ed_9534_70c94eff7636row12_col3,#T_ca50897a_edcf_11ed_9534_70c94eff7636row13_col3,#T_ca50897a_edcf_11ed_9534_70c94eff7636row50_col3,#T_ca50897a_edcf_11ed_9534_70c94eff7636row72_col3,#T_ca50897a_edcf_11ed_9534_70c94eff7636row79_col3,#T_ca50897a_edcf_11ed_9534_70c94eff7636row81_col3,#T_ca50897a_edcf_11ed_9534_70c94eff7636row86_col3,#T_ca50897a_edcf_11ed_9534_70c94eff7636row91_col3,#T_ca50897a_edcf_11ed_9534_70c94eff7636row95_col3,#T_ca50897a_edcf_11ed_9534_70c94eff7636row98_col3,#T_ca50897a_edcf_11ed_9534_70c94eff7636row101_col3,#T_ca50897a_edcf_11ed_9534_70c94eff7636row108_col3,#T_ca50897a_edcf_11ed_9534_70c94eff7636row109_col3,#T_ca50897a_edcf_11ed_9534_70c94eff7636row112_col3,#T_ca50897a_edcf_11ed_9534_70c94eff7636row114_col3,#T_ca50897a_edcf_11ed_9534_70c94eff7636row119_col3,#T_ca50897a_edcf_11ed_9534_70c94eff7636row120_col3,#T_ca50897a_edcf_11ed_9534_70c94eff7636row123_col3,#T_ca50897a_edcf_11ed_9534_70c94eff7636row125_col3,#T_ca50897a_edcf_11ed_9534_70c94eff7636row126_col3,#T_ca50897a_edcf_11ed_9534_70c94eff7636row127_col3,#T_ca50897a_edcf_11ed_9534_70c94eff7636row128_col3,#T_ca50897a_edcf_11ed_9534_70c94eff7636row130_col3,#T_ca50897a_edcf_11ed_9534_70c94eff7636row133_col3,#T_ca50897a_edcf_11ed_9534_70c94eff7636row134_col3,#T_ca50897a_edcf_11ed_9534_70c94eff7636row139_col3,#T_ca50897a_edcf_11ed_9534_70c94eff7636row140_col3,#T_ca50897a_edcf_11ed_9534_70c94eff7636row143_col3,#T_ca50897a_edcf_11ed_9534_70c94eff7636row144_col3,#T_ca50897a_edcf_11ed_9534_70c94eff7636row145_col3,#T_ca50897a_edcf_11ed_9534_70c94eff7636row146_col3,#T_ca50897a_edcf_11ed_9534_70c94eff7636row148_col3,#T_ca50897a_edcf_11ed_9534_70c94eff7636row149_col3{\n",
       "            background-color:  #fcc2aa;\n",
       "            color:  #000000;\n",
       "        }#T_ca50897a_edcf_11ed_9534_70c94eff7636row13_col2,#T_ca50897a_edcf_11ed_9534_70c94eff7636row17_col2{\n",
       "            background-color:  #feeae1;\n",
       "            color:  #000000;\n",
       "        }#T_ca50897a_edcf_11ed_9534_70c94eff7636row14_col1{\n",
       "            background-color:  #ffefe8;\n",
       "            color:  #000000;\n",
       "        }#T_ca50897a_edcf_11ed_9534_70c94eff7636row14_col2{\n",
       "            background-color:  #fee4d8;\n",
       "            color:  #000000;\n",
       "        }#T_ca50897a_edcf_11ed_9534_70c94eff7636row15_col2,#T_ca50897a_edcf_11ed_9534_70c94eff7636row22_col2,#T_ca50897a_edcf_11ed_9534_70c94eff7636row25_col2,#T_ca50897a_edcf_11ed_9534_70c94eff7636row26_col2,#T_ca50897a_edcf_11ed_9534_70c94eff7636row28_col2,#T_ca50897a_edcf_11ed_9534_70c94eff7636row29_col2,#T_ca50897a_edcf_11ed_9534_70c94eff7636row32_col2,#T_ca50897a_edcf_11ed_9534_70c94eff7636row38_col2,#T_ca50897a_edcf_11ed_9534_70c94eff7636row39_col2,#T_ca50897a_edcf_11ed_9534_70c94eff7636row43_col2,#T_ca50897a_edcf_11ed_9534_70c94eff7636row45_col2,#T_ca50897a_edcf_11ed_9534_70c94eff7636row46_col2,#T_ca50897a_edcf_11ed_9534_70c94eff7636row47_col2,#T_ca50897a_edcf_11ed_9534_70c94eff7636row48_col2,#T_ca50897a_edcf_11ed_9534_70c94eff7636row50_col2,#T_ca50897a_edcf_11ed_9534_70c94eff7636row51_col2,#T_ca50897a_edcf_11ed_9534_70c94eff7636row52_col2,#T_ca50897a_edcf_11ed_9534_70c94eff7636row54_col2,#T_ca50897a_edcf_11ed_9534_70c94eff7636row55_col2,#T_ca50897a_edcf_11ed_9534_70c94eff7636row56_col2,#T_ca50897a_edcf_11ed_9534_70c94eff7636row57_col1,#T_ca50897a_edcf_11ed_9534_70c94eff7636row57_col2,#T_ca50897a_edcf_11ed_9534_70c94eff7636row58_col1,#T_ca50897a_edcf_11ed_9534_70c94eff7636row58_col2,#T_ca50897a_edcf_11ed_9534_70c94eff7636row59_col1,#T_ca50897a_edcf_11ed_9534_70c94eff7636row59_col2,#T_ca50897a_edcf_11ed_9534_70c94eff7636row60_col1,#T_ca50897a_edcf_11ed_9534_70c94eff7636row60_col2,#T_ca50897a_edcf_11ed_9534_70c94eff7636row61_col1,#T_ca50897a_edcf_11ed_9534_70c94eff7636row61_col2,#T_ca50897a_edcf_11ed_9534_70c94eff7636row62_col1,#T_ca50897a_edcf_11ed_9534_70c94eff7636row62_col2,#T_ca50897a_edcf_11ed_9534_70c94eff7636row63_col1,#T_ca50897a_edcf_11ed_9534_70c94eff7636row63_col2,#T_ca50897a_edcf_11ed_9534_70c94eff7636row64_col1,#T_ca50897a_edcf_11ed_9534_70c94eff7636row64_col2,#T_ca50897a_edcf_11ed_9534_70c94eff7636row65_col1,#T_ca50897a_edcf_11ed_9534_70c94eff7636row66_col1,#T_ca50897a_edcf_11ed_9534_70c94eff7636row66_col2,#T_ca50897a_edcf_11ed_9534_70c94eff7636row67_col1,#T_ca50897a_edcf_11ed_9534_70c94eff7636row67_col2,#T_ca50897a_edcf_11ed_9534_70c94eff7636row68_col1,#T_ca50897a_edcf_11ed_9534_70c94eff7636row68_col2,#T_ca50897a_edcf_11ed_9534_70c94eff7636row69_col1,#T_ca50897a_edcf_11ed_9534_70c94eff7636row69_col2,#T_ca50897a_edcf_11ed_9534_70c94eff7636row70_col1,#T_ca50897a_edcf_11ed_9534_70c94eff7636row70_col2,#T_ca50897a_edcf_11ed_9534_70c94eff7636row71_col1,#T_ca50897a_edcf_11ed_9534_70c94eff7636row71_col2,#T_ca50897a_edcf_11ed_9534_70c94eff7636row72_col1,#T_ca50897a_edcf_11ed_9534_70c94eff7636row72_col2,#T_ca50897a_edcf_11ed_9534_70c94eff7636row73_col1,#T_ca50897a_edcf_11ed_9534_70c94eff7636row73_col2,#T_ca50897a_edcf_11ed_9534_70c94eff7636row74_col1,#T_ca50897a_edcf_11ed_9534_70c94eff7636row74_col2,#T_ca50897a_edcf_11ed_9534_70c94eff7636row75_col1,#T_ca50897a_edcf_11ed_9534_70c94eff7636row75_col2,#T_ca50897a_edcf_11ed_9534_70c94eff7636row76_col1,#T_ca50897a_edcf_11ed_9534_70c94eff7636row76_col2,#T_ca50897a_edcf_11ed_9534_70c94eff7636row77_col1,#T_ca50897a_edcf_11ed_9534_70c94eff7636row77_col2,#T_ca50897a_edcf_11ed_9534_70c94eff7636row78_col1,#T_ca50897a_edcf_11ed_9534_70c94eff7636row78_col2,#T_ca50897a_edcf_11ed_9534_70c94eff7636row79_col1,#T_ca50897a_edcf_11ed_9534_70c94eff7636row79_col2,#T_ca50897a_edcf_11ed_9534_70c94eff7636row80_col1,#T_ca50897a_edcf_11ed_9534_70c94eff7636row80_col2,#T_ca50897a_edcf_11ed_9534_70c94eff7636row81_col1,#T_ca50897a_edcf_11ed_9534_70c94eff7636row81_col2,#T_ca50897a_edcf_11ed_9534_70c94eff7636row82_col1,#T_ca50897a_edcf_11ed_9534_70c94eff7636row82_col2,#T_ca50897a_edcf_11ed_9534_70c94eff7636row83_col1,#T_ca50897a_edcf_11ed_9534_70c94eff7636row83_col2,#T_ca50897a_edcf_11ed_9534_70c94eff7636row84_col1,#T_ca50897a_edcf_11ed_9534_70c94eff7636row84_col2,#T_ca50897a_edcf_11ed_9534_70c94eff7636row85_col1,#T_ca50897a_edcf_11ed_9534_70c94eff7636row85_col2,#T_ca50897a_edcf_11ed_9534_70c94eff7636row86_col1,#T_ca50897a_edcf_11ed_9534_70c94eff7636row86_col2,#T_ca50897a_edcf_11ed_9534_70c94eff7636row87_col1,#T_ca50897a_edcf_11ed_9534_70c94eff7636row87_col2,#T_ca50897a_edcf_11ed_9534_70c94eff7636row88_col1,#T_ca50897a_edcf_11ed_9534_70c94eff7636row88_col2,#T_ca50897a_edcf_11ed_9534_70c94eff7636row89_col1,#T_ca50897a_edcf_11ed_9534_70c94eff7636row89_col2,#T_ca50897a_edcf_11ed_9534_70c94eff7636row90_col1,#T_ca50897a_edcf_11ed_9534_70c94eff7636row90_col2,#T_ca50897a_edcf_11ed_9534_70c94eff7636row91_col1,#T_ca50897a_edcf_11ed_9534_70c94eff7636row91_col2,#T_ca50897a_edcf_11ed_9534_70c94eff7636row92_col1,#T_ca50897a_edcf_11ed_9534_70c94eff7636row92_col2,#T_ca50897a_edcf_11ed_9534_70c94eff7636row93_col1,#T_ca50897a_edcf_11ed_9534_70c94eff7636row93_col2,#T_ca50897a_edcf_11ed_9534_70c94eff7636row94_col1,#T_ca50897a_edcf_11ed_9534_70c94eff7636row94_col2,#T_ca50897a_edcf_11ed_9534_70c94eff7636row95_col1,#T_ca50897a_edcf_11ed_9534_70c94eff7636row95_col2,#T_ca50897a_edcf_11ed_9534_70c94eff7636row96_col1,#T_ca50897a_edcf_11ed_9534_70c94eff7636row96_col2,#T_ca50897a_edcf_11ed_9534_70c94eff7636row97_col1,#T_ca50897a_edcf_11ed_9534_70c94eff7636row97_col2,#T_ca50897a_edcf_11ed_9534_70c94eff7636row98_col1,#T_ca50897a_edcf_11ed_9534_70c94eff7636row98_col2,#T_ca50897a_edcf_11ed_9534_70c94eff7636row99_col1,#T_ca50897a_edcf_11ed_9534_70c94eff7636row99_col2,#T_ca50897a_edcf_11ed_9534_70c94eff7636row100_col1,#T_ca50897a_edcf_11ed_9534_70c94eff7636row100_col2,#T_ca50897a_edcf_11ed_9534_70c94eff7636row101_col1,#T_ca50897a_edcf_11ed_9534_70c94eff7636row101_col2,#T_ca50897a_edcf_11ed_9534_70c94eff7636row102_col1,#T_ca50897a_edcf_11ed_9534_70c94eff7636row102_col2,#T_ca50897a_edcf_11ed_9534_70c94eff7636row103_col1,#T_ca50897a_edcf_11ed_9534_70c94eff7636row103_col2,#T_ca50897a_edcf_11ed_9534_70c94eff7636row104_col1,#T_ca50897a_edcf_11ed_9534_70c94eff7636row104_col2,#T_ca50897a_edcf_11ed_9534_70c94eff7636row105_col1,#T_ca50897a_edcf_11ed_9534_70c94eff7636row105_col2,#T_ca50897a_edcf_11ed_9534_70c94eff7636row106_col1,#T_ca50897a_edcf_11ed_9534_70c94eff7636row106_col2,#T_ca50897a_edcf_11ed_9534_70c94eff7636row107_col1,#T_ca50897a_edcf_11ed_9534_70c94eff7636row107_col2,#T_ca50897a_edcf_11ed_9534_70c94eff7636row108_col1,#T_ca50897a_edcf_11ed_9534_70c94eff7636row108_col2,#T_ca50897a_edcf_11ed_9534_70c94eff7636row109_col1,#T_ca50897a_edcf_11ed_9534_70c94eff7636row109_col2,#T_ca50897a_edcf_11ed_9534_70c94eff7636row110_col1,#T_ca50897a_edcf_11ed_9534_70c94eff7636row110_col2,#T_ca50897a_edcf_11ed_9534_70c94eff7636row111_col1,#T_ca50897a_edcf_11ed_9534_70c94eff7636row111_col2,#T_ca50897a_edcf_11ed_9534_70c94eff7636row112_col1,#T_ca50897a_edcf_11ed_9534_70c94eff7636row112_col2,#T_ca50897a_edcf_11ed_9534_70c94eff7636row113_col1,#T_ca50897a_edcf_11ed_9534_70c94eff7636row113_col2,#T_ca50897a_edcf_11ed_9534_70c94eff7636row114_col1,#T_ca50897a_edcf_11ed_9534_70c94eff7636row114_col2,#T_ca50897a_edcf_11ed_9534_70c94eff7636row115_col1,#T_ca50897a_edcf_11ed_9534_70c94eff7636row115_col2,#T_ca50897a_edcf_11ed_9534_70c94eff7636row116_col1,#T_ca50897a_edcf_11ed_9534_70c94eff7636row116_col2,#T_ca50897a_edcf_11ed_9534_70c94eff7636row117_col1,#T_ca50897a_edcf_11ed_9534_70c94eff7636row117_col2,#T_ca50897a_edcf_11ed_9534_70c94eff7636row118_col1,#T_ca50897a_edcf_11ed_9534_70c94eff7636row118_col2,#T_ca50897a_edcf_11ed_9534_70c94eff7636row119_col1,#T_ca50897a_edcf_11ed_9534_70c94eff7636row119_col2,#T_ca50897a_edcf_11ed_9534_70c94eff7636row120_col1,#T_ca50897a_edcf_11ed_9534_70c94eff7636row120_col2,#T_ca50897a_edcf_11ed_9534_70c94eff7636row121_col1,#T_ca50897a_edcf_11ed_9534_70c94eff7636row121_col2,#T_ca50897a_edcf_11ed_9534_70c94eff7636row122_col1,#T_ca50897a_edcf_11ed_9534_70c94eff7636row122_col2,#T_ca50897a_edcf_11ed_9534_70c94eff7636row123_col1,#T_ca50897a_edcf_11ed_9534_70c94eff7636row123_col2,#T_ca50897a_edcf_11ed_9534_70c94eff7636row124_col1,#T_ca50897a_edcf_11ed_9534_70c94eff7636row124_col2,#T_ca50897a_edcf_11ed_9534_70c94eff7636row125_col1,#T_ca50897a_edcf_11ed_9534_70c94eff7636row125_col2,#T_ca50897a_edcf_11ed_9534_70c94eff7636row126_col1,#T_ca50897a_edcf_11ed_9534_70c94eff7636row126_col2,#T_ca50897a_edcf_11ed_9534_70c94eff7636row127_col1,#T_ca50897a_edcf_11ed_9534_70c94eff7636row127_col2,#T_ca50897a_edcf_11ed_9534_70c94eff7636row128_col1,#T_ca50897a_edcf_11ed_9534_70c94eff7636row128_col2,#T_ca50897a_edcf_11ed_9534_70c94eff7636row129_col1,#T_ca50897a_edcf_11ed_9534_70c94eff7636row129_col2,#T_ca50897a_edcf_11ed_9534_70c94eff7636row130_col1,#T_ca50897a_edcf_11ed_9534_70c94eff7636row130_col2,#T_ca50897a_edcf_11ed_9534_70c94eff7636row131_col1,#T_ca50897a_edcf_11ed_9534_70c94eff7636row131_col2,#T_ca50897a_edcf_11ed_9534_70c94eff7636row132_col1,#T_ca50897a_edcf_11ed_9534_70c94eff7636row132_col2,#T_ca50897a_edcf_11ed_9534_70c94eff7636row133_col1,#T_ca50897a_edcf_11ed_9534_70c94eff7636row133_col2,#T_ca50897a_edcf_11ed_9534_70c94eff7636row134_col1,#T_ca50897a_edcf_11ed_9534_70c94eff7636row134_col2,#T_ca50897a_edcf_11ed_9534_70c94eff7636row135_col1,#T_ca50897a_edcf_11ed_9534_70c94eff7636row135_col2,#T_ca50897a_edcf_11ed_9534_70c94eff7636row136_col1,#T_ca50897a_edcf_11ed_9534_70c94eff7636row136_col2,#T_ca50897a_edcf_11ed_9534_70c94eff7636row136_col3,#T_ca50897a_edcf_11ed_9534_70c94eff7636row137_col1,#T_ca50897a_edcf_11ed_9534_70c94eff7636row137_col2,#T_ca50897a_edcf_11ed_9534_70c94eff7636row138_col1,#T_ca50897a_edcf_11ed_9534_70c94eff7636row138_col2,#T_ca50897a_edcf_11ed_9534_70c94eff7636row139_col1,#T_ca50897a_edcf_11ed_9534_70c94eff7636row139_col2,#T_ca50897a_edcf_11ed_9534_70c94eff7636row140_col1,#T_ca50897a_edcf_11ed_9534_70c94eff7636row140_col2,#T_ca50897a_edcf_11ed_9534_70c94eff7636row141_col1,#T_ca50897a_edcf_11ed_9534_70c94eff7636row141_col2,#T_ca50897a_edcf_11ed_9534_70c94eff7636row142_col1,#T_ca50897a_edcf_11ed_9534_70c94eff7636row142_col2,#T_ca50897a_edcf_11ed_9534_70c94eff7636row143_col1,#T_ca50897a_edcf_11ed_9534_70c94eff7636row143_col2,#T_ca50897a_edcf_11ed_9534_70c94eff7636row144_col1,#T_ca50897a_edcf_11ed_9534_70c94eff7636row144_col2,#T_ca50897a_edcf_11ed_9534_70c94eff7636row145_col1,#T_ca50897a_edcf_11ed_9534_70c94eff7636row145_col2,#T_ca50897a_edcf_11ed_9534_70c94eff7636row146_col1,#T_ca50897a_edcf_11ed_9534_70c94eff7636row146_col2,#T_ca50897a_edcf_11ed_9534_70c94eff7636row147_col1,#T_ca50897a_edcf_11ed_9534_70c94eff7636row147_col2,#T_ca50897a_edcf_11ed_9534_70c94eff7636row148_col1,#T_ca50897a_edcf_11ed_9534_70c94eff7636row148_col2,#T_ca50897a_edcf_11ed_9534_70c94eff7636row149_col1,#T_ca50897a_edcf_11ed_9534_70c94eff7636row149_col2{\n",
       "            background-color:  #fff5f0;\n",
       "            color:  #000000;\n",
       "        }#T_ca50897a_edcf_11ed_9534_70c94eff7636row18_col2,#T_ca50897a_edcf_11ed_9534_70c94eff7636row31_col2,#T_ca50897a_edcf_11ed_9534_70c94eff7636row36_col2,#T_ca50897a_edcf_11ed_9534_70c94eff7636row37_col2,#T_ca50897a_edcf_11ed_9534_70c94eff7636row41_col2,#T_ca50897a_edcf_11ed_9534_70c94eff7636row42_col1,#T_ca50897a_edcf_11ed_9534_70c94eff7636row42_col2,#T_ca50897a_edcf_11ed_9534_70c94eff7636row43_col1,#T_ca50897a_edcf_11ed_9534_70c94eff7636row44_col1,#T_ca50897a_edcf_11ed_9534_70c94eff7636row44_col2,#T_ca50897a_edcf_11ed_9534_70c94eff7636row45_col1,#T_ca50897a_edcf_11ed_9534_70c94eff7636row46_col1,#T_ca50897a_edcf_11ed_9534_70c94eff7636row47_col1,#T_ca50897a_edcf_11ed_9534_70c94eff7636row48_col1,#T_ca50897a_edcf_11ed_9534_70c94eff7636row49_col1,#T_ca50897a_edcf_11ed_9534_70c94eff7636row49_col2,#T_ca50897a_edcf_11ed_9534_70c94eff7636row50_col1,#T_ca50897a_edcf_11ed_9534_70c94eff7636row51_col1,#T_ca50897a_edcf_11ed_9534_70c94eff7636row52_col1,#T_ca50897a_edcf_11ed_9534_70c94eff7636row53_col1,#T_ca50897a_edcf_11ed_9534_70c94eff7636row53_col2,#T_ca50897a_edcf_11ed_9534_70c94eff7636row54_col1,#T_ca50897a_edcf_11ed_9534_70c94eff7636row55_col1,#T_ca50897a_edcf_11ed_9534_70c94eff7636row56_col1,#T_ca50897a_edcf_11ed_9534_70c94eff7636row65_col2{\n",
       "            background-color:  #fff4ef;\n",
       "            color:  #000000;\n",
       "        }#T_ca50897a_edcf_11ed_9534_70c94eff7636row19_col2,#T_ca50897a_edcf_11ed_9534_70c94eff7636row30_col2,#T_ca50897a_edcf_11ed_9534_70c94eff7636row32_col1,#T_ca50897a_edcf_11ed_9534_70c94eff7636row33_col1,#T_ca50897a_edcf_11ed_9534_70c94eff7636row34_col1,#T_ca50897a_edcf_11ed_9534_70c94eff7636row35_col1,#T_ca50897a_edcf_11ed_9534_70c94eff7636row35_col2,#T_ca50897a_edcf_11ed_9534_70c94eff7636row36_col1,#T_ca50897a_edcf_11ed_9534_70c94eff7636row37_col1,#T_ca50897a_edcf_11ed_9534_70c94eff7636row38_col1,#T_ca50897a_edcf_11ed_9534_70c94eff7636row39_col1,#T_ca50897a_edcf_11ed_9534_70c94eff7636row40_col1,#T_ca50897a_edcf_11ed_9534_70c94eff7636row40_col2,#T_ca50897a_edcf_11ed_9534_70c94eff7636row41_col1{\n",
       "            background-color:  #fff4ee;\n",
       "            color:  #000000;\n",
       "        }#T_ca50897a_edcf_11ed_9534_70c94eff7636row19_col3{\n",
       "            background-color:  #fca98c;\n",
       "            color:  #000000;\n",
       "        }#T_ca50897a_edcf_11ed_9534_70c94eff7636row20_col1,#T_ca50897a_edcf_11ed_9534_70c94eff7636row21_col1,#T_ca50897a_edcf_11ed_9534_70c94eff7636row21_col2,#T_ca50897a_edcf_11ed_9534_70c94eff7636row22_col1,#T_ca50897a_edcf_11ed_9534_70c94eff7636row23_col1,#T_ca50897a_edcf_11ed_9534_70c94eff7636row24_col1{\n",
       "            background-color:  #fff2eb;\n",
       "            color:  #000000;\n",
       "        }#T_ca50897a_edcf_11ed_9534_70c94eff7636row23_col2{\n",
       "            background-color:  #ffeee7;\n",
       "            color:  #000000;\n",
       "        }#T_ca50897a_edcf_11ed_9534_70c94eff7636row24_col2,#T_ca50897a_edcf_11ed_9534_70c94eff7636row28_col1,#T_ca50897a_edcf_11ed_9534_70c94eff7636row29_col1,#T_ca50897a_edcf_11ed_9534_70c94eff7636row30_col1,#T_ca50897a_edcf_11ed_9534_70c94eff7636row31_col1,#T_ca50897a_edcf_11ed_9534_70c94eff7636row33_col2,#T_ca50897a_edcf_11ed_9534_70c94eff7636row34_col2{\n",
       "            background-color:  #fff3ed;\n",
       "            color:  #000000;\n",
       "        }#T_ca50897a_edcf_11ed_9534_70c94eff7636row25_col1,#T_ca50897a_edcf_11ed_9534_70c94eff7636row26_col1,#T_ca50897a_edcf_11ed_9534_70c94eff7636row27_col1,#T_ca50897a_edcf_11ed_9534_70c94eff7636row27_col2{\n",
       "            background-color:  #fff2ec;\n",
       "            color:  #000000;\n",
       "        }#T_ca50897a_edcf_11ed_9534_70c94eff7636row27_col3,#T_ca50897a_edcf_11ed_9534_70c94eff7636row32_col3,#T_ca50897a_edcf_11ed_9534_70c94eff7636row76_col3,#T_ca50897a_edcf_11ed_9534_70c94eff7636row113_col3,#T_ca50897a_edcf_11ed_9534_70c94eff7636row117_col3,#T_ca50897a_edcf_11ed_9534_70c94eff7636row121_col3,#T_ca50897a_edcf_11ed_9534_70c94eff7636row131_col3{\n",
       "            background-color:  #fcc1a8;\n",
       "            color:  #000000;\n",
       "        }#T_ca50897a_edcf_11ed_9534_70c94eff7636row41_col3{\n",
       "            background-color:  #fcb499;\n",
       "            color:  #000000;\n",
       "        }#T_ca50897a_edcf_11ed_9534_70c94eff7636row44_col3,#T_ca50897a_edcf_11ed_9534_70c94eff7636row96_col3,#T_ca50897a_edcf_11ed_9534_70c94eff7636row111_col3,#T_ca50897a_edcf_11ed_9534_70c94eff7636row122_col3,#T_ca50897a_edcf_11ed_9534_70c94eff7636row135_col3{\n",
       "            background-color:  #fcbba1;\n",
       "            color:  #000000;\n",
       "        }#T_ca50897a_edcf_11ed_9534_70c94eff7636row52_col3,#T_ca50897a_edcf_11ed_9534_70c94eff7636row66_col3,#T_ca50897a_edcf_11ed_9534_70c94eff7636row75_col3,#T_ca50897a_edcf_11ed_9534_70c94eff7636row80_col3,#T_ca50897a_edcf_11ed_9534_70c94eff7636row83_col3,#T_ca50897a_edcf_11ed_9534_70c94eff7636row87_col3,#T_ca50897a_edcf_11ed_9534_70c94eff7636row103_col3,#T_ca50897a_edcf_11ed_9534_70c94eff7636row104_col3,#T_ca50897a_edcf_11ed_9534_70c94eff7636row110_col3,#T_ca50897a_edcf_11ed_9534_70c94eff7636row129_col3,#T_ca50897a_edcf_11ed_9534_70c94eff7636row138_col3,#T_ca50897a_edcf_11ed_9534_70c94eff7636row147_col3{\n",
       "            background-color:  #fcbfa7;\n",
       "            color:  #000000;\n",
       "        }#T_ca50897a_edcf_11ed_9534_70c94eff7636row68_col3{\n",
       "            background-color:  #fca588;\n",
       "            color:  #000000;\n",
       "        }#T_ca50897a_edcf_11ed_9534_70c94eff7636row70_col3{\n",
       "            background-color:  #fcb296;\n",
       "            color:  #000000;\n",
       "        }#T_ca50897a_edcf_11ed_9534_70c94eff7636row73_col3{\n",
       "            background-color:  #fcb89e;\n",
       "            color:  #000000;\n",
       "        }#T_ca50897a_edcf_11ed_9534_70c94eff7636row116_col3{\n",
       "            background-color:  #fcb79c;\n",
       "            color:  #000000;\n",
       "        }</style><table id=\"T_ca50897a_edcf_11ed_9534_70c94eff7636\" ><thead>    <tr>        <th class=\"blank level0\" ></th>        <th class=\"col_heading level0 col0\" >Date</th>        <th class=\"col_heading level0 col1\" >ConfirmedCases</th>        <th class=\"col_heading level0 col2\" >Fatalities</th>        <th class=\"col_heading level0 col3\" >GrowthRate</th>    </tr>    <tr>        <th class=\"index_name level0\" >Country_Region</th>        <th class=\"blank\" ></th>        <th class=\"blank\" ></th>        <th class=\"blank\" ></th>        <th class=\"blank\" ></th>    </tr></thead><tbody>\n",
       "                <tr>\n",
       "                        <th id=\"T_ca50897a_edcf_11ed_9534_70c94eff7636level0_row0\" class=\"row_heading level0 row0\" >US</th>\n",
       "                        <td id=\"T_ca50897a_edcf_11ed_9534_70c94eff7636row0_col0\" class=\"data row0 col0\" >2020-05-15</td>\n",
       "                        <td id=\"T_ca50897a_edcf_11ed_9534_70c94eff7636row0_col1\" class=\"data row0 col1\" >1442653</td>\n",
       "                        <td id=\"T_ca50897a_edcf_11ed_9534_70c94eff7636row0_col2\" class=\"data row0 col2\" >87525.000000</td>\n",
       "                        <td id=\"T_ca50897a_edcf_11ed_9534_70c94eff7636row0_col3\" class=\"data row0 col3\" >1.15</td>\n",
       "            </tr>\n",
       "            <tr>\n",
       "                        <th id=\"T_ca50897a_edcf_11ed_9534_70c94eff7636level0_row1\" class=\"row_heading level0 row1\" >Russia</th>\n",
       "                        <td id=\"T_ca50897a_edcf_11ed_9534_70c94eff7636row1_col0\" class=\"data row1 col0\" >2020-05-15</td>\n",
       "                        <td id=\"T_ca50897a_edcf_11ed_9534_70c94eff7636row1_col1\" class=\"data row1 col1\" >262843</td>\n",
       "                        <td id=\"T_ca50897a_edcf_11ed_9534_70c94eff7636row1_col2\" class=\"data row1 col2\" >2418.000000</td>\n",
       "                        <td id=\"T_ca50897a_edcf_11ed_9534_70c94eff7636row1_col3\" class=\"data row1 col3\" >1.06</td>\n",
       "            </tr>\n",
       "            <tr>\n",
       "                        <th id=\"T_ca50897a_edcf_11ed_9534_70c94eff7636level0_row2\" class=\"row_heading level0 row2\" >United Kingdom</th>\n",
       "                        <td id=\"T_ca50897a_edcf_11ed_9534_70c94eff7636row2_col0\" class=\"data row2 col0\" >2020-05-15</td>\n",
       "                        <td id=\"T_ca50897a_edcf_11ed_9534_70c94eff7636row2_col1\" class=\"data row2 col1\" >238004</td>\n",
       "                        <td id=\"T_ca50897a_edcf_11ed_9534_70c94eff7636row2_col2\" class=\"data row2 col2\" >34078.000000</td>\n",
       "                        <td id=\"T_ca50897a_edcf_11ed_9534_70c94eff7636row2_col3\" class=\"data row2 col3\" >1.03</td>\n",
       "            </tr>\n",
       "            <tr>\n",
       "                        <th id=\"T_ca50897a_edcf_11ed_9534_70c94eff7636level0_row3\" class=\"row_heading level0 row3\" >Spain</th>\n",
       "                        <td id=\"T_ca50897a_edcf_11ed_9534_70c94eff7636row3_col0\" class=\"data row3 col0\" >2020-05-15</td>\n",
       "                        <td id=\"T_ca50897a_edcf_11ed_9534_70c94eff7636row3_col1\" class=\"data row3 col1\" >230183</td>\n",
       "                        <td id=\"T_ca50897a_edcf_11ed_9534_70c94eff7636row3_col2\" class=\"data row3 col2\" >27459.000000</td>\n",
       "                        <td id=\"T_ca50897a_edcf_11ed_9534_70c94eff7636row3_col3\" class=\"data row3 col3\" >0.76</td>\n",
       "            </tr>\n",
       "            <tr>\n",
       "                        <th id=\"T_ca50897a_edcf_11ed_9534_70c94eff7636level0_row4\" class=\"row_heading level0 row4\" >Italy</th>\n",
       "                        <td id=\"T_ca50897a_edcf_11ed_9534_70c94eff7636row4_col0\" class=\"data row4 col0\" >2020-05-15</td>\n",
       "                        <td id=\"T_ca50897a_edcf_11ed_9534_70c94eff7636row4_col1\" class=\"data row4 col1\" >223885</td>\n",
       "                        <td id=\"T_ca50897a_edcf_11ed_9534_70c94eff7636row4_col2\" class=\"data row4 col2\" >31610.000000</td>\n",
       "                        <td id=\"T_ca50897a_edcf_11ed_9534_70c94eff7636row4_col3\" class=\"data row4 col3\" >0.80</td>\n",
       "            </tr>\n",
       "            <tr>\n",
       "                        <th id=\"T_ca50897a_edcf_11ed_9534_70c94eff7636level0_row5\" class=\"row_heading level0 row5\" >Brazil</th>\n",
       "                        <td id=\"T_ca50897a_edcf_11ed_9534_70c94eff7636row5_col0\" class=\"data row5 col0\" >2020-05-15</td>\n",
       "                        <td id=\"T_ca50897a_edcf_11ed_9534_70c94eff7636row5_col1\" class=\"data row5 col1\" >220291</td>\n",
       "                        <td id=\"T_ca50897a_edcf_11ed_9534_70c94eff7636row5_col2\" class=\"data row5 col2\" >14962.000000</td>\n",
       "                        <td id=\"T_ca50897a_edcf_11ed_9534_70c94eff7636row5_col3\" class=\"data row5 col3\" >1.31</td>\n",
       "            </tr>\n",
       "            <tr>\n",
       "                        <th id=\"T_ca50897a_edcf_11ed_9534_70c94eff7636level0_row6\" class=\"row_heading level0 row6\" >France</th>\n",
       "                        <td id=\"T_ca50897a_edcf_11ed_9534_70c94eff7636row6_col0\" class=\"data row6 col0\" >2020-05-15</td>\n",
       "                        <td id=\"T_ca50897a_edcf_11ed_9534_70c94eff7636row6_col1\" class=\"data row6 col1\" >179630</td>\n",
       "                        <td id=\"T_ca50897a_edcf_11ed_9534_70c94eff7636row6_col2\" class=\"data row6 col2\" >27532.000000</td>\n",
       "                        <td id=\"T_ca50897a_edcf_11ed_9534_70c94eff7636row6_col3\" class=\"data row6 col3\" >0.83</td>\n",
       "            </tr>\n",
       "            <tr>\n",
       "                        <th id=\"T_ca50897a_edcf_11ed_9534_70c94eff7636level0_row7\" class=\"row_heading level0 row7\" >Germany</th>\n",
       "                        <td id=\"T_ca50897a_edcf_11ed_9534_70c94eff7636row7_col0\" class=\"data row7 col0\" >2020-05-15</td>\n",
       "                        <td id=\"T_ca50897a_edcf_11ed_9534_70c94eff7636row7_col1\" class=\"data row7 col1\" >175233</td>\n",
       "                        <td id=\"T_ca50897a_edcf_11ed_9534_70c94eff7636row7_col2\" class=\"data row7 col2\" >7897.000000</td>\n",
       "                        <td id=\"T_ca50897a_edcf_11ed_9534_70c94eff7636row7_col3\" class=\"data row7 col3\" >1.99</td>\n",
       "            </tr>\n",
       "            <tr>\n",
       "                        <th id=\"T_ca50897a_edcf_11ed_9534_70c94eff7636level0_row8\" class=\"row_heading level0 row8\" >Turkey</th>\n",
       "                        <td id=\"T_ca50897a_edcf_11ed_9534_70c94eff7636row8_col0\" class=\"data row8 col0\" >2020-05-15</td>\n",
       "                        <td id=\"T_ca50897a_edcf_11ed_9534_70c94eff7636row8_col1\" class=\"data row8 col1\" >146457</td>\n",
       "                        <td id=\"T_ca50897a_edcf_11ed_9534_70c94eff7636row8_col2\" class=\"data row8 col2\" >4055.000000</td>\n",
       "                        <td id=\"T_ca50897a_edcf_11ed_9534_70c94eff7636row8_col3\" class=\"data row8 col3\" >1.04</td>\n",
       "            </tr>\n",
       "            <tr>\n",
       "                        <th id=\"T_ca50897a_edcf_11ed_9534_70c94eff7636level0_row9\" class=\"row_heading level0 row9\" >Iran</th>\n",
       "                        <td id=\"T_ca50897a_edcf_11ed_9534_70c94eff7636row9_col0\" class=\"data row9 col0\" >2020-05-15</td>\n",
       "                        <td id=\"T_ca50897a_edcf_11ed_9534_70c94eff7636row9_col1\" class=\"data row9 col1\" >116635</td>\n",
       "                        <td id=\"T_ca50897a_edcf_11ed_9534_70c94eff7636row9_col2\" class=\"data row9 col2\" >6902.000000</td>\n",
       "                        <td id=\"T_ca50897a_edcf_11ed_9534_70c94eff7636row9_col3\" class=\"data row9 col3\" >1.16</td>\n",
       "            </tr>\n",
       "            <tr>\n",
       "                        <th id=\"T_ca50897a_edcf_11ed_9534_70c94eff7636level0_row10\" class=\"row_heading level0 row10\" >India</th>\n",
       "                        <td id=\"T_ca50897a_edcf_11ed_9534_70c94eff7636row10_col0\" class=\"data row10 col0\" >2020-05-15</td>\n",
       "                        <td id=\"T_ca50897a_edcf_11ed_9534_70c94eff7636row10_col1\" class=\"data row10 col1\" >85784</td>\n",
       "                        <td id=\"T_ca50897a_edcf_11ed_9534_70c94eff7636row10_col2\" class=\"data row10 col2\" >2753.000000</td>\n",
       "                        <td id=\"T_ca50897a_edcf_11ed_9534_70c94eff7636row10_col3\" class=\"data row10 col3\" >0.96</td>\n",
       "            </tr>\n",
       "            <tr>\n",
       "                        <th id=\"T_ca50897a_edcf_11ed_9534_70c94eff7636level0_row11\" class=\"row_heading level0 row11\" >Peru</th>\n",
       "                        <td id=\"T_ca50897a_edcf_11ed_9534_70c94eff7636row11_col0\" class=\"data row11 col0\" >2020-05-15</td>\n",
       "                        <td id=\"T_ca50897a_edcf_11ed_9534_70c94eff7636row11_col1\" class=\"data row11 col1\" >84495</td>\n",
       "                        <td id=\"T_ca50897a_edcf_11ed_9534_70c94eff7636row11_col2\" class=\"data row11 col2\" >2392.000000</td>\n",
       "                        <td id=\"T_ca50897a_edcf_11ed_9534_70c94eff7636row11_col3\" class=\"data row11 col3\" >0.91</td>\n",
       "            </tr>\n",
       "            <tr>\n",
       "                        <th id=\"T_ca50897a_edcf_11ed_9534_70c94eff7636level0_row12\" class=\"row_heading level0 row12\" >China</th>\n",
       "                        <td id=\"T_ca50897a_edcf_11ed_9534_70c94eff7636row12_col0\" class=\"data row12 col0\" >2020-05-15</td>\n",
       "                        <td id=\"T_ca50897a_edcf_11ed_9534_70c94eff7636row12_col1\" class=\"data row12 col1\" >84038</td>\n",
       "                        <td id=\"T_ca50897a_edcf_11ed_9534_70c94eff7636row12_col2\" class=\"data row12 col2\" >4637.000000</td>\n",
       "                        <td id=\"T_ca50897a_edcf_11ed_9534_70c94eff7636row12_col3\" class=\"data row12 col3\" >0.00</td>\n",
       "            </tr>\n",
       "            <tr>\n",
       "                        <th id=\"T_ca50897a_edcf_11ed_9534_70c94eff7636level0_row13\" class=\"row_heading level0 row13\" >Canada</th>\n",
       "                        <td id=\"T_ca50897a_edcf_11ed_9534_70c94eff7636row13_col0\" class=\"data row13 col0\" >2020-05-15</td>\n",
       "                        <td id=\"T_ca50897a_edcf_11ed_9534_70c94eff7636row13_col1\" class=\"data row13 col1\" >75945</td>\n",
       "                        <td id=\"T_ca50897a_edcf_11ed_9534_70c94eff7636row13_col2\" class=\"data row13 col2\" >5678.000000</td>\n",
       "                        <td id=\"T_ca50897a_edcf_11ed_9534_70c94eff7636row13_col3\" class=\"data row13 col3\" >0.00</td>\n",
       "            </tr>\n",
       "            <tr>\n",
       "                        <th id=\"T_ca50897a_edcf_11ed_9534_70c94eff7636level0_row14\" class=\"row_heading level0 row14\" >Belgium</th>\n",
       "                        <td id=\"T_ca50897a_edcf_11ed_9534_70c94eff7636row14_col0\" class=\"data row14 col0\" >2020-05-15</td>\n",
       "                        <td id=\"T_ca50897a_edcf_11ed_9534_70c94eff7636row14_col1\" class=\"data row14 col1\" >54644</td>\n",
       "                        <td id=\"T_ca50897a_edcf_11ed_9534_70c94eff7636row14_col2\" class=\"data row14 col2\" >8959.000000</td>\n",
       "                        <td id=\"T_ca50897a_edcf_11ed_9534_70c94eff7636row14_col3\" class=\"data row14 col3\" >1.16</td>\n",
       "            </tr>\n",
       "            <tr>\n",
       "                        <th id=\"T_ca50897a_edcf_11ed_9534_70c94eff7636level0_row15\" class=\"row_heading level0 row15\" >Saudi Arabia</th>\n",
       "                        <td id=\"T_ca50897a_edcf_11ed_9534_70c94eff7636row15_col0\" class=\"data row15 col0\" >2020-05-15</td>\n",
       "                        <td id=\"T_ca50897a_edcf_11ed_9534_70c94eff7636row15_col1\" class=\"data row15 col1\" >49176</td>\n",
       "                        <td id=\"T_ca50897a_edcf_11ed_9534_70c94eff7636row15_col2\" class=\"data row15 col2\" >292.000000</td>\n",
       "                        <td id=\"T_ca50897a_edcf_11ed_9534_70c94eff7636row15_col3\" class=\"data row15 col3\" >1.13</td>\n",
       "            </tr>\n",
       "            <tr>\n",
       "                        <th id=\"T_ca50897a_edcf_11ed_9534_70c94eff7636level0_row16\" class=\"row_heading level0 row16\" >Mexico</th>\n",
       "                        <td id=\"T_ca50897a_edcf_11ed_9534_70c94eff7636row16_col0\" class=\"data row16 col0\" >2020-05-15</td>\n",
       "                        <td id=\"T_ca50897a_edcf_11ed_9534_70c94eff7636row16_col1\" class=\"data row16 col1\" >45032</td>\n",
       "                        <td id=\"T_ca50897a_edcf_11ed_9534_70c94eff7636row16_col2\" class=\"data row16 col2\" >4767.000000</td>\n",
       "                        <td id=\"T_ca50897a_edcf_11ed_9534_70c94eff7636row16_col3\" class=\"data row16 col3\" >1.01</td>\n",
       "            </tr>\n",
       "            <tr>\n",
       "                        <th id=\"T_ca50897a_edcf_11ed_9534_70c94eff7636level0_row17\" class=\"row_heading level0 row17\" >Netherlands</th>\n",
       "                        <td id=\"T_ca50897a_edcf_11ed_9534_70c94eff7636row17_col0\" class=\"data row17 col0\" >2020-05-15</td>\n",
       "                        <td id=\"T_ca50897a_edcf_11ed_9534_70c94eff7636row17_col1\" class=\"data row17 col1\" >43880</td>\n",
       "                        <td id=\"T_ca50897a_edcf_11ed_9534_70c94eff7636row17_col2\" class=\"data row17 col2\" >5662.000000</td>\n",
       "                        <td id=\"T_ca50897a_edcf_11ed_9534_70c94eff7636row17_col3\" class=\"data row17 col3\" >0.74</td>\n",
       "            </tr>\n",
       "            <tr>\n",
       "                        <th id=\"T_ca50897a_edcf_11ed_9534_70c94eff7636level0_row18\" class=\"row_heading level0 row18\" >Chile</th>\n",
       "                        <td id=\"T_ca50897a_edcf_11ed_9534_70c94eff7636row18_col0\" class=\"data row18 col0\" >2020-05-15</td>\n",
       "                        <td id=\"T_ca50897a_edcf_11ed_9534_70c94eff7636row18_col1\" class=\"data row18 col1\" >39542</td>\n",
       "                        <td id=\"T_ca50897a_edcf_11ed_9534_70c94eff7636row18_col2\" class=\"data row18 col2\" >394.000000</td>\n",
       "                        <td id=\"T_ca50897a_edcf_11ed_9534_70c94eff7636row18_col3\" class=\"data row18 col3\" >0.94</td>\n",
       "            </tr>\n",
       "            <tr>\n",
       "                        <th id=\"T_ca50897a_edcf_11ed_9534_70c94eff7636level0_row19\" class=\"row_heading level0 row19\" >Pakistan</th>\n",
       "                        <td id=\"T_ca50897a_edcf_11ed_9534_70c94eff7636row19_col0\" class=\"data row19 col0\" >2020-05-15</td>\n",
       "                        <td id=\"T_ca50897a_edcf_11ed_9534_70c94eff7636row19_col1\" class=\"data row19 col1\" >38799</td>\n",
       "                        <td id=\"T_ca50897a_edcf_11ed_9534_70c94eff7636row19_col2\" class=\"data row19 col2\" >834.000000</td>\n",
       "                        <td id=\"T_ca50897a_edcf_11ed_9534_70c94eff7636row19_col3\" class=\"data row19 col3\" >6.14</td>\n",
       "            </tr>\n",
       "            <tr>\n",
       "                        <th id=\"T_ca50897a_edcf_11ed_9534_70c94eff7636level0_row20\" class=\"row_heading level0 row20\" >Ecuador</th>\n",
       "                        <td id=\"T_ca50897a_edcf_11ed_9534_70c94eff7636row20_col0\" class=\"data row20 col0\" >2020-05-15</td>\n",
       "                        <td id=\"T_ca50897a_edcf_11ed_9534_70c94eff7636row20_col1\" class=\"data row20 col1\" >31467</td>\n",
       "                        <td id=\"T_ca50897a_edcf_11ed_9534_70c94eff7636row20_col2\" class=\"data row20 col2\" >2594.000000</td>\n",
       "                        <td id=\"T_ca50897a_edcf_11ed_9534_70c94eff7636row20_col3\" class=\"data row20 col3\" >60.31</td>\n",
       "            </tr>\n",
       "            <tr>\n",
       "                        <th id=\"T_ca50897a_edcf_11ed_9534_70c94eff7636level0_row21\" class=\"row_heading level0 row21\" >Switzerland</th>\n",
       "                        <td id=\"T_ca50897a_edcf_11ed_9534_70c94eff7636row21_col0\" class=\"data row21 col0\" >2020-05-15</td>\n",
       "                        <td id=\"T_ca50897a_edcf_11ed_9534_70c94eff7636row21_col1\" class=\"data row21 col1\" >30514</td>\n",
       "                        <td id=\"T_ca50897a_edcf_11ed_9534_70c94eff7636row21_col2\" class=\"data row21 col2\" >1878.000000</td>\n",
       "                        <td id=\"T_ca50897a_edcf_11ed_9534_70c94eff7636row21_col3\" class=\"data row21 col3\" >1.02</td>\n",
       "            </tr>\n",
       "            <tr>\n",
       "                        <th id=\"T_ca50897a_edcf_11ed_9534_70c94eff7636level0_row22\" class=\"row_heading level0 row22\" >Qatar</th>\n",
       "                        <td id=\"T_ca50897a_edcf_11ed_9534_70c94eff7636row22_col0\" class=\"data row22 col0\" >2020-05-15</td>\n",
       "                        <td id=\"T_ca50897a_edcf_11ed_9534_70c94eff7636row22_col1\" class=\"data row22 col1\" >29425</td>\n",
       "                        <td id=\"T_ca50897a_edcf_11ed_9534_70c94eff7636row22_col2\" class=\"data row22 col2\" >14.000000</td>\n",
       "                        <td id=\"T_ca50897a_edcf_11ed_9534_70c94eff7636row22_col3\" class=\"data row22 col3\" >0.67</td>\n",
       "            </tr>\n",
       "            <tr>\n",
       "                        <th id=\"T_ca50897a_edcf_11ed_9534_70c94eff7636level0_row23\" class=\"row_heading level0 row23\" >Sweden</th>\n",
       "                        <td id=\"T_ca50897a_edcf_11ed_9534_70c94eff7636row23_col0\" class=\"data row23 col0\" >2020-05-15</td>\n",
       "                        <td id=\"T_ca50897a_edcf_11ed_9534_70c94eff7636row23_col1\" class=\"data row23 col1\" >29207</td>\n",
       "                        <td id=\"T_ca50897a_edcf_11ed_9534_70c94eff7636row23_col2\" class=\"data row23 col2\" >3646.000000</td>\n",
       "                        <td id=\"T_ca50897a_edcf_11ed_9534_70c94eff7636row23_col3\" class=\"data row23 col3\" >0.93</td>\n",
       "            </tr>\n",
       "            <tr>\n",
       "                        <th id=\"T_ca50897a_edcf_11ed_9534_70c94eff7636level0_row24\" class=\"row_heading level0 row24\" >Portugal</th>\n",
       "                        <td id=\"T_ca50897a_edcf_11ed_9534_70c94eff7636row24_col0\" class=\"data row24 col0\" >2020-05-15</td>\n",
       "                        <td id=\"T_ca50897a_edcf_11ed_9534_70c94eff7636row24_col1\" class=\"data row24 col1\" >28583</td>\n",
       "                        <td id=\"T_ca50897a_edcf_11ed_9534_70c94eff7636row24_col2\" class=\"data row24 col2\" >1190.000000</td>\n",
       "                        <td id=\"T_ca50897a_edcf_11ed_9534_70c94eff7636row24_col3\" class=\"data row24 col3\" >1.41</td>\n",
       "            </tr>\n",
       "            <tr>\n",
       "                        <th id=\"T_ca50897a_edcf_11ed_9534_70c94eff7636level0_row25\" class=\"row_heading level0 row25\" >Belarus</th>\n",
       "                        <td id=\"T_ca50897a_edcf_11ed_9534_70c94eff7636row25_col0\" class=\"data row25 col0\" >2020-05-15</td>\n",
       "                        <td id=\"T_ca50897a_edcf_11ed_9534_70c94eff7636row25_col1\" class=\"data row25 col1\" >27730</td>\n",
       "                        <td id=\"T_ca50897a_edcf_11ed_9534_70c94eff7636row25_col2\" class=\"data row25 col2\" >156.000000</td>\n",
       "                        <td id=\"T_ca50897a_edcf_11ed_9534_70c94eff7636row25_col3\" class=\"data row25 col3\" >1.01</td>\n",
       "            </tr>\n",
       "            <tr>\n",
       "                        <th id=\"T_ca50897a_edcf_11ed_9534_70c94eff7636level0_row26\" class=\"row_heading level0 row26\" >Singapore</th>\n",
       "                        <td id=\"T_ca50897a_edcf_11ed_9534_70c94eff7636row26_col0\" class=\"data row26 col0\" >2020-05-15</td>\n",
       "                        <td id=\"T_ca50897a_edcf_11ed_9534_70c94eff7636row26_col1\" class=\"data row26 col1\" >26891</td>\n",
       "                        <td id=\"T_ca50897a_edcf_11ed_9534_70c94eff7636row26_col2\" class=\"data row26 col2\" >21.000000</td>\n",
       "                        <td id=\"T_ca50897a_edcf_11ed_9534_70c94eff7636row26_col3\" class=\"data row26 col3\" >1.05</td>\n",
       "            </tr>\n",
       "            <tr>\n",
       "                        <th id=\"T_ca50897a_edcf_11ed_9534_70c94eff7636level0_row27\" class=\"row_heading level0 row27\" >Ireland</th>\n",
       "                        <td id=\"T_ca50897a_edcf_11ed_9534_70c94eff7636row27_col0\" class=\"data row27 col0\" >2020-05-15</td>\n",
       "                        <td id=\"T_ca50897a_edcf_11ed_9534_70c94eff7636row27_col1\" class=\"data row27 col1\" >23956</td>\n",
       "                        <td id=\"T_ca50897a_edcf_11ed_9534_70c94eff7636row27_col2\" class=\"data row27 col2\" >1518.000000</td>\n",
       "                        <td id=\"T_ca50897a_edcf_11ed_9534_70c94eff7636row27_col3\" class=\"data row27 col3\" >0.30</td>\n",
       "            </tr>\n",
       "            <tr>\n",
       "                        <th id=\"T_ca50897a_edcf_11ed_9534_70c94eff7636level0_row28\" class=\"row_heading level0 row28\" >United Arab Emirates</th>\n",
       "                        <td id=\"T_ca50897a_edcf_11ed_9534_70c94eff7636row28_col0\" class=\"data row28 col0\" >2020-05-15</td>\n",
       "                        <td id=\"T_ca50897a_edcf_11ed_9534_70c94eff7636row28_col1\" class=\"data row28 col1\" >21831</td>\n",
       "                        <td id=\"T_ca50897a_edcf_11ed_9534_70c94eff7636row28_col2\" class=\"data row28 col2\" >210.000000</td>\n",
       "                        <td id=\"T_ca50897a_edcf_11ed_9534_70c94eff7636row28_col3\" class=\"data row28 col3\" >1.07</td>\n",
       "            </tr>\n",
       "            <tr>\n",
       "                        <th id=\"T_ca50897a_edcf_11ed_9534_70c94eff7636level0_row29\" class=\"row_heading level0 row29\" >Bangladesh</th>\n",
       "                        <td id=\"T_ca50897a_edcf_11ed_9534_70c94eff7636row29_col0\" class=\"data row29 col0\" >2020-05-15</td>\n",
       "                        <td id=\"T_ca50897a_edcf_11ed_9534_70c94eff7636row29_col1\" class=\"data row29 col1\" >20065</td>\n",
       "                        <td id=\"T_ca50897a_edcf_11ed_9534_70c94eff7636row29_col2\" class=\"data row29 col2\" >298.000000</td>\n",
       "                        <td id=\"T_ca50897a_edcf_11ed_9534_70c94eff7636row29_col3\" class=\"data row29 col3\" >1.15</td>\n",
       "            </tr>\n",
       "            <tr>\n",
       "                        <th id=\"T_ca50897a_edcf_11ed_9534_70c94eff7636level0_row30\" class=\"row_heading level0 row30\" >Poland</th>\n",
       "                        <td id=\"T_ca50897a_edcf_11ed_9534_70c94eff7636row30_col0\" class=\"data row30 col0\" >2020-05-15</td>\n",
       "                        <td id=\"T_ca50897a_edcf_11ed_9534_70c94eff7636row30_col1\" class=\"data row30 col1\" >18016</td>\n",
       "                        <td id=\"T_ca50897a_edcf_11ed_9534_70c94eff7636row30_col2\" class=\"data row30 col2\" >907.000000</td>\n",
       "                        <td id=\"T_ca50897a_edcf_11ed_9534_70c94eff7636row30_col3\" class=\"data row30 col3\" >0.98</td>\n",
       "            </tr>\n",
       "            <tr>\n",
       "                        <th id=\"T_ca50897a_edcf_11ed_9534_70c94eff7636level0_row31\" class=\"row_heading level0 row31\" >Ukraine</th>\n",
       "                        <td id=\"T_ca50897a_edcf_11ed_9534_70c94eff7636row31_col0\" class=\"data row31 col0\" >2020-05-15</td>\n",
       "                        <td id=\"T_ca50897a_edcf_11ed_9534_70c94eff7636row31_col1\" class=\"data row31 col1\" >17330</td>\n",
       "                        <td id=\"T_ca50897a_edcf_11ed_9534_70c94eff7636row31_col2\" class=\"data row31 col2\" >476.000000</td>\n",
       "                        <td id=\"T_ca50897a_edcf_11ed_9534_70c94eff7636row31_col3\" class=\"data row31 col3\" >1.14</td>\n",
       "            </tr>\n",
       "            <tr>\n",
       "                        <th id=\"T_ca50897a_edcf_11ed_9534_70c94eff7636level0_row32\" class=\"row_heading level0 row32\" >Israel</th>\n",
       "                        <td id=\"T_ca50897a_edcf_11ed_9534_70c94eff7636row32_col0\" class=\"data row32 col0\" >2020-05-15</td>\n",
       "                        <td id=\"T_ca50897a_edcf_11ed_9534_70c94eff7636row32_col1\" class=\"data row32 col1\" >16589</td>\n",
       "                        <td id=\"T_ca50897a_edcf_11ed_9534_70c94eff7636row32_col2\" class=\"data row32 col2\" >266.000000</td>\n",
       "                        <td id=\"T_ca50897a_edcf_11ed_9534_70c94eff7636row32_col3\" class=\"data row32 col3\" >0.32</td>\n",
       "            </tr>\n",
       "            <tr>\n",
       "                        <th id=\"T_ca50897a_edcf_11ed_9534_70c94eff7636level0_row33\" class=\"row_heading level0 row33\" >Indonesia</th>\n",
       "                        <td id=\"T_ca50897a_edcf_11ed_9534_70c94eff7636row33_col0\" class=\"data row33 col0\" >2020-05-15</td>\n",
       "                        <td id=\"T_ca50897a_edcf_11ed_9534_70c94eff7636row33_col1\" class=\"data row33 col1\" >16496</td>\n",
       "                        <td id=\"T_ca50897a_edcf_11ed_9534_70c94eff7636row33_col2\" class=\"data row33 col2\" >1076.000000</td>\n",
       "                        <td id=\"T_ca50897a_edcf_11ed_9534_70c94eff7636row33_col3\" class=\"data row33 col3\" >0.86</td>\n",
       "            </tr>\n",
       "            <tr>\n",
       "                        <th id=\"T_ca50897a_edcf_11ed_9534_70c94eff7636level0_row34\" class=\"row_heading level0 row34\" >Romania</th>\n",
       "                        <td id=\"T_ca50897a_edcf_11ed_9534_70c94eff7636row34_col0\" class=\"data row34 col0\" >2020-05-15</td>\n",
       "                        <td id=\"T_ca50897a_edcf_11ed_9534_70c94eff7636row34_col1\" class=\"data row34 col1\" >16437</td>\n",
       "                        <td id=\"T_ca50897a_edcf_11ed_9534_70c94eff7636row34_col2\" class=\"data row34 col2\" >1070.000000</td>\n",
       "                        <td id=\"T_ca50897a_edcf_11ed_9534_70c94eff7636row34_col3\" class=\"data row34 col3\" >0.78</td>\n",
       "            </tr>\n",
       "            <tr>\n",
       "                        <th id=\"T_ca50897a_edcf_11ed_9534_70c94eff7636level0_row35\" class=\"row_heading level0 row35\" >Japan</th>\n",
       "                        <td id=\"T_ca50897a_edcf_11ed_9534_70c94eff7636row35_col0\" class=\"data row35 col0\" >2020-05-15</td>\n",
       "                        <td id=\"T_ca50897a_edcf_11ed_9534_70c94eff7636row35_col1\" class=\"data row35 col1\" >16203</td>\n",
       "                        <td id=\"T_ca50897a_edcf_11ed_9534_70c94eff7636row35_col2\" class=\"data row35 col2\" >713.000000</td>\n",
       "                        <td id=\"T_ca50897a_edcf_11ed_9534_70c94eff7636row35_col3\" class=\"data row35 col3\" >1.17</td>\n",
       "            </tr>\n",
       "            <tr>\n",
       "                        <th id=\"T_ca50897a_edcf_11ed_9534_70c94eff7636level0_row36\" class=\"row_heading level0 row36\" >Austria</th>\n",
       "                        <td id=\"T_ca50897a_edcf_11ed_9534_70c94eff7636row36_col0\" class=\"data row36 col0\" >2020-05-15</td>\n",
       "                        <td id=\"T_ca50897a_edcf_11ed_9534_70c94eff7636row36_col1\" class=\"data row36 col1\" >16109</td>\n",
       "                        <td id=\"T_ca50897a_edcf_11ed_9534_70c94eff7636row36_col2\" class=\"data row36 col2\" >628.000000</td>\n",
       "                        <td id=\"T_ca50897a_edcf_11ed_9534_70c94eff7636row36_col3\" class=\"data row36 col3\" >0.84</td>\n",
       "            </tr>\n",
       "            <tr>\n",
       "                        <th id=\"T_ca50897a_edcf_11ed_9534_70c94eff7636level0_row37\" class=\"row_heading level0 row37\" >Colombia</th>\n",
       "                        <td id=\"T_ca50897a_edcf_11ed_9534_70c94eff7636row37_col0\" class=\"data row37 col0\" >2020-05-15</td>\n",
       "                        <td id=\"T_ca50897a_edcf_11ed_9534_70c94eff7636row37_col1\" class=\"data row37 col1\" >14216</td>\n",
       "                        <td id=\"T_ca50897a_edcf_11ed_9534_70c94eff7636row37_col2\" class=\"data row37 col2\" >546.000000</td>\n",
       "                        <td id=\"T_ca50897a_edcf_11ed_9534_70c94eff7636row37_col3\" class=\"data row37 col3\" >0.89</td>\n",
       "            </tr>\n",
       "            <tr>\n",
       "                        <th id=\"T_ca50897a_edcf_11ed_9534_70c94eff7636level0_row38\" class=\"row_heading level0 row38\" >South Africa</th>\n",
       "                        <td id=\"T_ca50897a_edcf_11ed_9534_70c94eff7636row38_col0\" class=\"data row38 col0\" >2020-05-15</td>\n",
       "                        <td id=\"T_ca50897a_edcf_11ed_9534_70c94eff7636row38_col1\" class=\"data row38 col1\" >13524</td>\n",
       "                        <td id=\"T_ca50897a_edcf_11ed_9534_70c94eff7636row38_col2\" class=\"data row38 col2\" >247.000000</td>\n",
       "                        <td id=\"T_ca50897a_edcf_11ed_9534_70c94eff7636row38_col3\" class=\"data row38 col3\" >1.18</td>\n",
       "            </tr>\n",
       "            <tr>\n",
       "                        <th id=\"T_ca50897a_edcf_11ed_9534_70c94eff7636level0_row39\" class=\"row_heading level0 row39\" >Kuwait</th>\n",
       "                        <td id=\"T_ca50897a_edcf_11ed_9534_70c94eff7636row39_col0\" class=\"data row39 col0\" >2020-05-15</td>\n",
       "                        <td id=\"T_ca50897a_edcf_11ed_9534_70c94eff7636row39_col1\" class=\"data row39 col1\" >12860</td>\n",
       "                        <td id=\"T_ca50897a_edcf_11ed_9534_70c94eff7636row39_col2\" class=\"data row39 col2\" >96.000000</td>\n",
       "                        <td id=\"T_ca50897a_edcf_11ed_9534_70c94eff7636row39_col3\" class=\"data row39 col3\" >0.93</td>\n",
       "            </tr>\n",
       "            <tr>\n",
       "                        <th id=\"T_ca50897a_edcf_11ed_9534_70c94eff7636level0_row40\" class=\"row_heading level0 row40\" >Philippines</th>\n",
       "                        <td id=\"T_ca50897a_edcf_11ed_9534_70c94eff7636row40_col0\" class=\"data row40 col0\" >2020-05-15</td>\n",
       "                        <td id=\"T_ca50897a_edcf_11ed_9534_70c94eff7636row40_col1\" class=\"data row40 col1\" >12091</td>\n",
       "                        <td id=\"T_ca50897a_edcf_11ed_9534_70c94eff7636row40_col2\" class=\"data row40 col2\" >806.000000</td>\n",
       "                        <td id=\"T_ca50897a_edcf_11ed_9534_70c94eff7636row40_col3\" class=\"data row40 col3\" >0.83</td>\n",
       "            </tr>\n",
       "            <tr>\n",
       "                        <th id=\"T_ca50897a_edcf_11ed_9534_70c94eff7636level0_row41\" class=\"row_heading level0 row41\" >Dominican Republic</th>\n",
       "                        <td id=\"T_ca50897a_edcf_11ed_9534_70c94eff7636row41_col0\" class=\"data row41 col0\" >2020-05-15</td>\n",
       "                        <td id=\"T_ca50897a_edcf_11ed_9534_70c94eff7636row41_col1\" class=\"data row41 col1\" >11739</td>\n",
       "                        <td id=\"T_ca50897a_edcf_11ed_9534_70c94eff7636row41_col2\" class=\"data row41 col2\" >424.000000</td>\n",
       "                        <td id=\"T_ca50897a_edcf_11ed_9534_70c94eff7636row41_col3\" class=\"data row41 col3\" >3.38</td>\n",
       "            </tr>\n",
       "            <tr>\n",
       "                        <th id=\"T_ca50897a_edcf_11ed_9534_70c94eff7636level0_row42\" class=\"row_heading level0 row42\" >Egypt</th>\n",
       "                        <td id=\"T_ca50897a_edcf_11ed_9534_70c94eff7636row42_col0\" class=\"data row42 col0\" >2020-05-15</td>\n",
       "                        <td id=\"T_ca50897a_edcf_11ed_9534_70c94eff7636row42_col1\" class=\"data row42 col1\" >11228</td>\n",
       "                        <td id=\"T_ca50897a_edcf_11ed_9534_70c94eff7636row42_col2\" class=\"data row42 col2\" >592.000000</td>\n",
       "                        <td id=\"T_ca50897a_edcf_11ed_9534_70c94eff7636row42_col3\" class=\"data row42 col3\" >1.00</td>\n",
       "            </tr>\n",
       "            <tr>\n",
       "                        <th id=\"T_ca50897a_edcf_11ed_9534_70c94eff7636level0_row43\" class=\"row_heading level0 row43\" >Korea, South</th>\n",
       "                        <td id=\"T_ca50897a_edcf_11ed_9534_70c94eff7636row43_col0\" class=\"data row43 col0\" >2020-05-15</td>\n",
       "                        <td id=\"T_ca50897a_edcf_11ed_9534_70c94eff7636row43_col1\" class=\"data row43 col1\" >11037</td>\n",
       "                        <td id=\"T_ca50897a_edcf_11ed_9534_70c94eff7636row43_col2\" class=\"data row43 col2\" >262.000000</td>\n",
       "                        <td id=\"T_ca50897a_edcf_11ed_9534_70c94eff7636row43_col3\" class=\"data row43 col3\" >0.70</td>\n",
       "            </tr>\n",
       "            <tr>\n",
       "                        <th id=\"T_ca50897a_edcf_11ed_9534_70c94eff7636level0_row44\" class=\"row_heading level0 row44\" >Denmark</th>\n",
       "                        <td id=\"T_ca50897a_edcf_11ed_9534_70c94eff7636row44_col0\" class=\"data row44 col0\" >2020-05-15</td>\n",
       "                        <td id=\"T_ca50897a_edcf_11ed_9534_70c94eff7636row44_col1\" class=\"data row44 col1\" >10989</td>\n",
       "                        <td id=\"T_ca50897a_edcf_11ed_9534_70c94eff7636row44_col2\" class=\"data row44 col2\" >537.000000</td>\n",
       "                        <td id=\"T_ca50897a_edcf_11ed_9534_70c94eff7636row44_col3\" class=\"data row44 col3\" >1.70</td>\n",
       "            </tr>\n",
       "            <tr>\n",
       "                        <th id=\"T_ca50897a_edcf_11ed_9534_70c94eff7636level0_row45\" class=\"row_heading level0 row45\" >Serbia</th>\n",
       "                        <td id=\"T_ca50897a_edcf_11ed_9534_70c94eff7636row45_col0\" class=\"data row45 col0\" >2020-05-15</td>\n",
       "                        <td id=\"T_ca50897a_edcf_11ed_9534_70c94eff7636row45_col1\" class=\"data row45 col1\" >10438</td>\n",
       "                        <td id=\"T_ca50897a_edcf_11ed_9534_70c94eff7636row45_col2\" class=\"data row45 col2\" >225.000000</td>\n",
       "                        <td id=\"T_ca50897a_edcf_11ed_9534_70c94eff7636row45_col3\" class=\"data row45 col3\" >0.81</td>\n",
       "            </tr>\n",
       "            <tr>\n",
       "                        <th id=\"T_ca50897a_edcf_11ed_9534_70c94eff7636level0_row46\" class=\"row_heading level0 row46\" >Panama</th>\n",
       "                        <td id=\"T_ca50897a_edcf_11ed_9534_70c94eff7636row46_col0\" class=\"data row46 col0\" >2020-05-15</td>\n",
       "                        <td id=\"T_ca50897a_edcf_11ed_9534_70c94eff7636row46_col1\" class=\"data row46 col1\" >9268</td>\n",
       "                        <td id=\"T_ca50897a_edcf_11ed_9534_70c94eff7636row46_col2\" class=\"data row46 col2\" >266.000000</td>\n",
       "                        <td id=\"T_ca50897a_edcf_11ed_9534_70c94eff7636row46_col3\" class=\"data row46 col3\" >0.86</td>\n",
       "            </tr>\n",
       "            <tr>\n",
       "                        <th id=\"T_ca50897a_edcf_11ed_9534_70c94eff7636level0_row47\" class=\"row_heading level0 row47\" >Czechia</th>\n",
       "                        <td id=\"T_ca50897a_edcf_11ed_9534_70c94eff7636row47_col0\" class=\"data row47 col0\" >2020-05-15</td>\n",
       "                        <td id=\"T_ca50897a_edcf_11ed_9534_70c94eff7636row47_col1\" class=\"data row47 col1\" >8406</td>\n",
       "                        <td id=\"T_ca50897a_edcf_11ed_9534_70c94eff7636row47_col2\" class=\"data row47 col2\" >295.000000</td>\n",
       "                        <td id=\"T_ca50897a_edcf_11ed_9534_70c94eff7636row47_col3\" class=\"data row47 col3\" >0.67</td>\n",
       "            </tr>\n",
       "            <tr>\n",
       "                        <th id=\"T_ca50897a_edcf_11ed_9534_70c94eff7636level0_row48\" class=\"row_heading level0 row48\" >Norway</th>\n",
       "                        <td id=\"T_ca50897a_edcf_11ed_9534_70c94eff7636row48_col0\" class=\"data row48 col0\" >2020-05-15</td>\n",
       "                        <td id=\"T_ca50897a_edcf_11ed_9534_70c94eff7636row48_col1\" class=\"data row48 col1\" >8219</td>\n",
       "                        <td id=\"T_ca50897a_edcf_11ed_9534_70c94eff7636row48_col2\" class=\"data row48 col2\" >232.000000</td>\n",
       "                        <td id=\"T_ca50897a_edcf_11ed_9534_70c94eff7636row48_col3\" class=\"data row48 col3\" >1.10</td>\n",
       "            </tr>\n",
       "            <tr>\n",
       "                        <th id=\"T_ca50897a_edcf_11ed_9534_70c94eff7636level0_row49\" class=\"row_heading level0 row49\" >Argentina</th>\n",
       "                        <td id=\"T_ca50897a_edcf_11ed_9534_70c94eff7636row49_col0\" class=\"data row49 col0\" >2020-05-15</td>\n",
       "                        <td id=\"T_ca50897a_edcf_11ed_9534_70c94eff7636row49_col1\" class=\"data row49 col1\" >7479</td>\n",
       "                        <td id=\"T_ca50897a_edcf_11ed_9534_70c94eff7636row49_col2\" class=\"data row49 col2\" >356.000000</td>\n",
       "                        <td id=\"T_ca50897a_edcf_11ed_9534_70c94eff7636row49_col3\" class=\"data row49 col3\" >1.35</td>\n",
       "            </tr>\n",
       "            <tr>\n",
       "                        <th id=\"T_ca50897a_edcf_11ed_9534_70c94eff7636level0_row50\" class=\"row_heading level0 row50\" >Australia</th>\n",
       "                        <td id=\"T_ca50897a_edcf_11ed_9534_70c94eff7636row50_col0\" class=\"data row50 col0\" >2020-05-15</td>\n",
       "                        <td id=\"T_ca50897a_edcf_11ed_9534_70c94eff7636row50_col1\" class=\"data row50 col1\" >7035</td>\n",
       "                        <td id=\"T_ca50897a_edcf_11ed_9534_70c94eff7636row50_col2\" class=\"data row50 col2\" >98.000000</td>\n",
       "                        <td id=\"T_ca50897a_edcf_11ed_9534_70c94eff7636row50_col3\" class=\"data row50 col3\" >0.00</td>\n",
       "            </tr>\n",
       "            <tr>\n",
       "                        <th id=\"T_ca50897a_edcf_11ed_9534_70c94eff7636level0_row51\" class=\"row_heading level0 row51\" >Malaysia</th>\n",
       "                        <td id=\"T_ca50897a_edcf_11ed_9534_70c94eff7636row51_col0\" class=\"data row51 col0\" >2020-05-15</td>\n",
       "                        <td id=\"T_ca50897a_edcf_11ed_9534_70c94eff7636row51_col1\" class=\"data row51 col1\" >6855</td>\n",
       "                        <td id=\"T_ca50897a_edcf_11ed_9534_70c94eff7636row51_col2\" class=\"data row51 col2\" >112.000000</td>\n",
       "                        <td id=\"T_ca50897a_edcf_11ed_9534_70c94eff7636row51_col3\" class=\"data row51 col3\" >0.90</td>\n",
       "            </tr>\n",
       "            <tr>\n",
       "                        <th id=\"T_ca50897a_edcf_11ed_9534_70c94eff7636level0_row52\" class=\"row_heading level0 row52\" >Morocco</th>\n",
       "                        <td id=\"T_ca50897a_edcf_11ed_9534_70c94eff7636row52_col0\" class=\"data row52 col0\" >2020-05-15</td>\n",
       "                        <td id=\"T_ca50897a_edcf_11ed_9534_70c94eff7636row52_col1\" class=\"data row52 col1\" >6652</td>\n",
       "                        <td id=\"T_ca50897a_edcf_11ed_9534_70c94eff7636row52_col2\" class=\"data row52 col2\" >190.000000</td>\n",
       "                        <td id=\"T_ca50897a_edcf_11ed_9534_70c94eff7636row52_col3\" class=\"data row52 col3\" >0.47</td>\n",
       "            </tr>\n",
       "            <tr>\n",
       "                        <th id=\"T_ca50897a_edcf_11ed_9534_70c94eff7636level0_row53\" class=\"row_heading level0 row53\" >Algeria</th>\n",
       "                        <td id=\"T_ca50897a_edcf_11ed_9534_70c94eff7636row53_col0\" class=\"data row53 col0\" >2020-05-15</td>\n",
       "                        <td id=\"T_ca50897a_edcf_11ed_9534_70c94eff7636row53_col1\" class=\"data row53 col1\" >6629</td>\n",
       "                        <td id=\"T_ca50897a_edcf_11ed_9534_70c94eff7636row53_col2\" class=\"data row53 col2\" >536.000000</td>\n",
       "                        <td id=\"T_ca50897a_edcf_11ed_9534_70c94eff7636row53_col3\" class=\"data row53 col3\" >0.99</td>\n",
       "            </tr>\n",
       "            <tr>\n",
       "                        <th id=\"T_ca50897a_edcf_11ed_9534_70c94eff7636level0_row54\" class=\"row_heading level0 row54\" >Bahrain</th>\n",
       "                        <td id=\"T_ca50897a_edcf_11ed_9534_70c94eff7636row54_col0\" class=\"data row54 col0\" >2020-05-15</td>\n",
       "                        <td id=\"T_ca50897a_edcf_11ed_9534_70c94eff7636row54_col1\" class=\"data row54 col1\" >6583</td>\n",
       "                        <td id=\"T_ca50897a_edcf_11ed_9534_70c94eff7636row54_col2\" class=\"data row54 col2\" >12.000000</td>\n",
       "                        <td id=\"T_ca50897a_edcf_11ed_9534_70c94eff7636row54_col3\" class=\"data row54 col3\" >1.01</td>\n",
       "            </tr>\n",
       "            <tr>\n",
       "                        <th id=\"T_ca50897a_edcf_11ed_9534_70c94eff7636level0_row55\" class=\"row_heading level0 row55\" >Finland</th>\n",
       "                        <td id=\"T_ca50897a_edcf_11ed_9534_70c94eff7636row55_col0\" class=\"data row55 col0\" >2020-05-15</td>\n",
       "                        <td id=\"T_ca50897a_edcf_11ed_9534_70c94eff7636row55_col1\" class=\"data row55 col1\" >6228</td>\n",
       "                        <td id=\"T_ca50897a_edcf_11ed_9534_70c94eff7636row55_col2\" class=\"data row55 col2\" >293.000000</td>\n",
       "                        <td id=\"T_ca50897a_edcf_11ed_9534_70c94eff7636row55_col3\" class=\"data row55 col3\" >0.91</td>\n",
       "            </tr>\n",
       "            <tr>\n",
       "                        <th id=\"T_ca50897a_edcf_11ed_9534_70c94eff7636level0_row56\" class=\"row_heading level0 row56\" >Afghanistan</th>\n",
       "                        <td id=\"T_ca50897a_edcf_11ed_9534_70c94eff7636row56_col0\" class=\"data row56 col0\" >2020-05-15</td>\n",
       "                        <td id=\"T_ca50897a_edcf_11ed_9534_70c94eff7636row56_col1\" class=\"data row56 col1\" >6053</td>\n",
       "                        <td id=\"T_ca50897a_edcf_11ed_9534_70c94eff7636row56_col2\" class=\"data row56 col2\" >153.000000</td>\n",
       "                        <td id=\"T_ca50897a_edcf_11ed_9534_70c94eff7636row56_col3\" class=\"data row56 col3\" >1.00</td>\n",
       "            </tr>\n",
       "            <tr>\n",
       "                        <th id=\"T_ca50897a_edcf_11ed_9534_70c94eff7636level0_row57\" class=\"row_heading level0 row57\" >Moldova</th>\n",
       "                        <td id=\"T_ca50897a_edcf_11ed_9534_70c94eff7636row57_col0\" class=\"data row57 col0\" >2020-05-15</td>\n",
       "                        <td id=\"T_ca50897a_edcf_11ed_9534_70c94eff7636row57_col1\" class=\"data row57 col1\" >5745</td>\n",
       "                        <td id=\"T_ca50897a_edcf_11ed_9534_70c94eff7636row57_col2\" class=\"data row57 col2\" >202.000000</td>\n",
       "                        <td id=\"T_ca50897a_edcf_11ed_9534_70c94eff7636row57_col3\" class=\"data row57 col3\" >1.31</td>\n",
       "            </tr>\n",
       "            <tr>\n",
       "                        <th id=\"T_ca50897a_edcf_11ed_9534_70c94eff7636level0_row58\" class=\"row_heading level0 row58\" >Kazakhstan</th>\n",
       "                        <td id=\"T_ca50897a_edcf_11ed_9534_70c94eff7636row58_col0\" class=\"data row58 col0\" >2020-05-15</td>\n",
       "                        <td id=\"T_ca50897a_edcf_11ed_9534_70c94eff7636row58_col1\" class=\"data row58 col1\" >5689</td>\n",
       "                        <td id=\"T_ca50897a_edcf_11ed_9534_70c94eff7636row58_col2\" class=\"data row58 col2\" >34.000000</td>\n",
       "                        <td id=\"T_ca50897a_edcf_11ed_9534_70c94eff7636row58_col3\" class=\"data row58 col3\" >0.77</td>\n",
       "            </tr>\n",
       "            <tr>\n",
       "                        <th id=\"T_ca50897a_edcf_11ed_9534_70c94eff7636level0_row59\" class=\"row_heading level0 row59\" >Ghana</th>\n",
       "                        <td id=\"T_ca50897a_edcf_11ed_9534_70c94eff7636row59_col0\" class=\"data row59 col0\" >2020-05-15</td>\n",
       "                        <td id=\"T_ca50897a_edcf_11ed_9534_70c94eff7636row59_col1\" class=\"data row59 col1\" >5638</td>\n",
       "                        <td id=\"T_ca50897a_edcf_11ed_9534_70c94eff7636row59_col2\" class=\"data row59 col2\" >28.000000</td>\n",
       "                        <td id=\"T_ca50897a_edcf_11ed_9534_70c94eff7636row59_col3\" class=\"data row59 col3\" >0.89</td>\n",
       "            </tr>\n",
       "            <tr>\n",
       "                        <th id=\"T_ca50897a_edcf_11ed_9534_70c94eff7636level0_row60\" class=\"row_heading level0 row60\" >Nigeria</th>\n",
       "                        <td id=\"T_ca50897a_edcf_11ed_9534_70c94eff7636row60_col0\" class=\"data row60 col0\" >2020-05-15</td>\n",
       "                        <td id=\"T_ca50897a_edcf_11ed_9534_70c94eff7636row60_col1\" class=\"data row60 col1\" >5450</td>\n",
       "                        <td id=\"T_ca50897a_edcf_11ed_9534_70c94eff7636row60_col2\" class=\"data row60 col2\" >171.000000</td>\n",
       "                        <td id=\"T_ca50897a_edcf_11ed_9534_70c94eff7636row60_col3\" class=\"data row60 col3\" >1.51</td>\n",
       "            </tr>\n",
       "            <tr>\n",
       "                        <th id=\"T_ca50897a_edcf_11ed_9534_70c94eff7636level0_row61\" class=\"row_heading level0 row61\" >Oman</th>\n",
       "                        <td id=\"T_ca50897a_edcf_11ed_9534_70c94eff7636row61_col0\" class=\"data row61 col0\" >2020-05-15</td>\n",
       "                        <td id=\"T_ca50897a_edcf_11ed_9534_70c94eff7636row61_col1\" class=\"data row61 col1\" >4625</td>\n",
       "                        <td id=\"T_ca50897a_edcf_11ed_9534_70c94eff7636row61_col2\" class=\"data row61 col2\" >20.000000</td>\n",
       "                        <td id=\"T_ca50897a_edcf_11ed_9534_70c94eff7636row61_col3\" class=\"data row61 col3\" >0.88</td>\n",
       "            </tr>\n",
       "            <tr>\n",
       "                        <th id=\"T_ca50897a_edcf_11ed_9534_70c94eff7636level0_row62\" class=\"row_heading level0 row62\" >Armenia</th>\n",
       "                        <td id=\"T_ca50897a_edcf_11ed_9534_70c94eff7636row62_col0\" class=\"data row62 col0\" >2020-05-15</td>\n",
       "                        <td id=\"T_ca50897a_edcf_11ed_9534_70c94eff7636row62_col1\" class=\"data row62 col1\" >4044</td>\n",
       "                        <td id=\"T_ca50897a_edcf_11ed_9534_70c94eff7636row62_col2\" class=\"data row62 col2\" >52.000000</td>\n",
       "                        <td id=\"T_ca50897a_edcf_11ed_9534_70c94eff7636row62_col3\" class=\"data row62 col3\" >1.30</td>\n",
       "            </tr>\n",
       "            <tr>\n",
       "                        <th id=\"T_ca50897a_edcf_11ed_9534_70c94eff7636level0_row63\" class=\"row_heading level0 row63\" >Luxembourg</th>\n",
       "                        <td id=\"T_ca50897a_edcf_11ed_9534_70c94eff7636row63_col0\" class=\"data row63 col0\" >2020-05-15</td>\n",
       "                        <td id=\"T_ca50897a_edcf_11ed_9534_70c94eff7636row63_col1\" class=\"data row63 col1\" >3923</td>\n",
       "                        <td id=\"T_ca50897a_edcf_11ed_9534_70c94eff7636row63_col2\" class=\"data row63 col2\" >104.000000</td>\n",
       "                        <td id=\"T_ca50897a_edcf_11ed_9534_70c94eff7636row63_col3\" class=\"data row63 col3\" >0.73</td>\n",
       "            </tr>\n",
       "            <tr>\n",
       "                        <th id=\"T_ca50897a_edcf_11ed_9534_70c94eff7636level0_row64\" class=\"row_heading level0 row64\" >Bolivia</th>\n",
       "                        <td id=\"T_ca50897a_edcf_11ed_9534_70c94eff7636row64_col0\" class=\"data row64 col0\" >2020-05-15</td>\n",
       "                        <td id=\"T_ca50897a_edcf_11ed_9534_70c94eff7636row64_col1\" class=\"data row64 col1\" >3577</td>\n",
       "                        <td id=\"T_ca50897a_edcf_11ed_9534_70c94eff7636row64_col2\" class=\"data row64 col2\" >164.000000</td>\n",
       "                        <td id=\"T_ca50897a_edcf_11ed_9534_70c94eff7636row64_col3\" class=\"data row64 col3\" >0.92</td>\n",
       "            </tr>\n",
       "            <tr>\n",
       "                        <th id=\"T_ca50897a_edcf_11ed_9534_70c94eff7636level0_row65\" class=\"row_heading level0 row65\" >Hungary</th>\n",
       "                        <td id=\"T_ca50897a_edcf_11ed_9534_70c94eff7636row65_col0\" class=\"data row65 col0\" >2020-05-15</td>\n",
       "                        <td id=\"T_ca50897a_edcf_11ed_9534_70c94eff7636row65_col1\" class=\"data row65 col1\" >3417</td>\n",
       "                        <td id=\"T_ca50897a_edcf_11ed_9534_70c94eff7636row65_col2\" class=\"data row65 col2\" >442.000000</td>\n",
       "                        <td id=\"T_ca50897a_edcf_11ed_9534_70c94eff7636row65_col3\" class=\"data row65 col3\" >0.95</td>\n",
       "            </tr>\n",
       "            <tr>\n",
       "                        <th id=\"T_ca50897a_edcf_11ed_9534_70c94eff7636level0_row66\" class=\"row_heading level0 row66\" >Iraq</th>\n",
       "                        <td id=\"T_ca50897a_edcf_11ed_9534_70c94eff7636row66_col0\" class=\"data row66 col0\" >2020-05-15</td>\n",
       "                        <td id=\"T_ca50897a_edcf_11ed_9534_70c94eff7636row66_col1\" class=\"data row66 col1\" >3193</td>\n",
       "                        <td id=\"T_ca50897a_edcf_11ed_9534_70c94eff7636row66_col2\" class=\"data row66 col2\" >117.000000</td>\n",
       "                        <td id=\"T_ca50897a_edcf_11ed_9534_70c94eff7636row66_col3\" class=\"data row66 col3\" >0.45</td>\n",
       "            </tr>\n",
       "            <tr>\n",
       "                        <th id=\"T_ca50897a_edcf_11ed_9534_70c94eff7636level0_row67\" class=\"row_heading level0 row67\" >Cameroon</th>\n",
       "                        <td id=\"T_ca50897a_edcf_11ed_9534_70c94eff7636row67_col0\" class=\"data row67 col0\" >2020-05-15</td>\n",
       "                        <td id=\"T_ca50897a_edcf_11ed_9534_70c94eff7636row67_col1\" class=\"data row67 col1\" >3105</td>\n",
       "                        <td id=\"T_ca50897a_edcf_11ed_9534_70c94eff7636row67_col2\" class=\"data row67 col2\" >140.000000</td>\n",
       "                        <td id=\"T_ca50897a_edcf_11ed_9534_70c94eff7636row67_col3\" class=\"data row67 col3\" >0.98</td>\n",
       "            </tr>\n",
       "            <tr>\n",
       "                        <th id=\"T_ca50897a_edcf_11ed_9534_70c94eff7636level0_row68\" class=\"row_heading level0 row68\" >Thailand</th>\n",
       "                        <td id=\"T_ca50897a_edcf_11ed_9534_70c94eff7636row68_col0\" class=\"data row68 col0\" >2020-05-15</td>\n",
       "                        <td id=\"T_ca50897a_edcf_11ed_9534_70c94eff7636row68_col1\" class=\"data row68 col1\" >3025</td>\n",
       "                        <td id=\"T_ca50897a_edcf_11ed_9534_70c94eff7636row68_col2\" class=\"data row68 col2\" >56.000000</td>\n",
       "                        <td id=\"T_ca50897a_edcf_11ed_9534_70c94eff7636row68_col3\" class=\"data row68 col3\" >7.00</td>\n",
       "            </tr>\n",
       "            <tr>\n",
       "                        <th id=\"T_ca50897a_edcf_11ed_9534_70c94eff7636level0_row69\" class=\"row_heading level0 row69\" >Azerbaijan</th>\n",
       "                        <td id=\"T_ca50897a_edcf_11ed_9534_70c94eff7636row69_col0\" class=\"data row69 col0\" >2020-05-15</td>\n",
       "                        <td id=\"T_ca50897a_edcf_11ed_9534_70c94eff7636row69_col1\" class=\"data row69 col1\" >2980</td>\n",
       "                        <td id=\"T_ca50897a_edcf_11ed_9534_70c94eff7636row69_col2\" class=\"data row69 col2\" >36.000000</td>\n",
       "                        <td id=\"T_ca50897a_edcf_11ed_9534_70c94eff7636row69_col3\" class=\"data row69 col3\" >0.83</td>\n",
       "            </tr>\n",
       "            <tr>\n",
       "                        <th id=\"T_ca50897a_edcf_11ed_9534_70c94eff7636level0_row70\" class=\"row_heading level0 row70\" >Greece</th>\n",
       "                        <td id=\"T_ca50897a_edcf_11ed_9534_70c94eff7636row70_col0\" class=\"data row70 col0\" >2020-05-15</td>\n",
       "                        <td id=\"T_ca50897a_edcf_11ed_9534_70c94eff7636row70_col1\" class=\"data row70 col1\" >2810</td>\n",
       "                        <td id=\"T_ca50897a_edcf_11ed_9534_70c94eff7636row70_col2\" class=\"data row70 col2\" >160.000000</td>\n",
       "                        <td id=\"T_ca50897a_edcf_11ed_9534_70c94eff7636row70_col3\" class=\"data row70 col3\" >4.00</td>\n",
       "            </tr>\n",
       "            <tr>\n",
       "                        <th id=\"T_ca50897a_edcf_11ed_9534_70c94eff7636level0_row71\" class=\"row_heading level0 row71\" >Uzbekistan</th>\n",
       "                        <td id=\"T_ca50897a_edcf_11ed_9534_70c94eff7636row71_col0\" class=\"data row71 col0\" >2020-05-15</td>\n",
       "                        <td id=\"T_ca50897a_edcf_11ed_9534_70c94eff7636row71_col1\" class=\"data row71 col1\" >2686</td>\n",
       "                        <td id=\"T_ca50897a_edcf_11ed_9534_70c94eff7636row71_col2\" class=\"data row71 col2\" >11.000000</td>\n",
       "                        <td id=\"T_ca50897a_edcf_11ed_9534_70c94eff7636row71_col3\" class=\"data row71 col3\" >1.24</td>\n",
       "            </tr>\n",
       "            <tr>\n",
       "                        <th id=\"T_ca50897a_edcf_11ed_9534_70c94eff7636level0_row72\" class=\"row_heading level0 row72\" >Guinea</th>\n",
       "                        <td id=\"T_ca50897a_edcf_11ed_9534_70c94eff7636row72_col0\" class=\"data row72 col0\" >2020-05-15</td>\n",
       "                        <td id=\"T_ca50897a_edcf_11ed_9534_70c94eff7636row72_col1\" class=\"data row72 col1\" >2473</td>\n",
       "                        <td id=\"T_ca50897a_edcf_11ed_9534_70c94eff7636row72_col2\" class=\"data row72 col2\" >15.000000</td>\n",
       "                        <td id=\"T_ca50897a_edcf_11ed_9534_70c94eff7636row72_col3\" class=\"data row72 col3\" >0.00</td>\n",
       "            </tr>\n",
       "            <tr>\n",
       "                        <th id=\"T_ca50897a_edcf_11ed_9534_70c94eff7636level0_row73\" class=\"row_heading level0 row73\" >Honduras</th>\n",
       "                        <td id=\"T_ca50897a_edcf_11ed_9534_70c94eff7636row73_col0\" class=\"data row73 col0\" >2020-05-15</td>\n",
       "                        <td id=\"T_ca50897a_edcf_11ed_9534_70c94eff7636row73_col1\" class=\"data row73 col1\" >2460</td>\n",
       "                        <td id=\"T_ca50897a_edcf_11ed_9534_70c94eff7636row73_col2\" class=\"data row73 col2\" >134.000000</td>\n",
       "                        <td id=\"T_ca50897a_edcf_11ed_9534_70c94eff7636row73_col3\" class=\"data row73 col3\" >2.25</td>\n",
       "            </tr>\n",
       "            <tr>\n",
       "                        <th id=\"T_ca50897a_edcf_11ed_9534_70c94eff7636level0_row74\" class=\"row_heading level0 row74\" >Senegal</th>\n",
       "                        <td id=\"T_ca50897a_edcf_11ed_9534_70c94eff7636row74_col0\" class=\"data row74 col0\" >2020-05-15</td>\n",
       "                        <td id=\"T_ca50897a_edcf_11ed_9534_70c94eff7636row74_col1\" class=\"data row74 col1\" >2310</td>\n",
       "                        <td id=\"T_ca50897a_edcf_11ed_9534_70c94eff7636row74_col2\" class=\"data row74 col2\" >25.000000</td>\n",
       "                        <td id=\"T_ca50897a_edcf_11ed_9534_70c94eff7636row74_col3\" class=\"data row74 col3\" >1.44</td>\n",
       "            </tr>\n",
       "            <tr>\n",
       "                        <th id=\"T_ca50897a_edcf_11ed_9534_70c94eff7636level0_row75\" class=\"row_heading level0 row75\" >Bosnia and Herzegovina</th>\n",
       "                        <td id=\"T_ca50897a_edcf_11ed_9534_70c94eff7636row75_col0\" class=\"data row75 col0\" >2020-05-15</td>\n",
       "                        <td id=\"T_ca50897a_edcf_11ed_9534_70c94eff7636row75_col1\" class=\"data row75 col1\" >2236</td>\n",
       "                        <td id=\"T_ca50897a_edcf_11ed_9534_70c94eff7636row75_col2\" class=\"data row75 col2\" >128.000000</td>\n",
       "                        <td id=\"T_ca50897a_edcf_11ed_9534_70c94eff7636row75_col3\" class=\"data row75 col3\" >0.49</td>\n",
       "            </tr>\n",
       "            <tr>\n",
       "                        <th id=\"T_ca50897a_edcf_11ed_9534_70c94eff7636level0_row76\" class=\"row_heading level0 row76\" >Croatia</th>\n",
       "                        <td id=\"T_ca50897a_edcf_11ed_9534_70c94eff7636row76_col0\" class=\"data row76 col0\" >2020-05-15</td>\n",
       "                        <td id=\"T_ca50897a_edcf_11ed_9534_70c94eff7636row76_col1\" class=\"data row76 col1\" >2222</td>\n",
       "                        <td id=\"T_ca50897a_edcf_11ed_9534_70c94eff7636row76_col2\" class=\"data row76 col2\" >95.000000</td>\n",
       "                        <td id=\"T_ca50897a_edcf_11ed_9534_70c94eff7636row76_col3\" class=\"data row76 col3\" >0.12</td>\n",
       "            </tr>\n",
       "            <tr>\n",
       "                        <th id=\"T_ca50897a_edcf_11ed_9534_70c94eff7636level0_row77\" class=\"row_heading level0 row77\" >Bulgaria</th>\n",
       "                        <td id=\"T_ca50897a_edcf_11ed_9534_70c94eff7636row77_col0\" class=\"data row77 col0\" >2020-05-15</td>\n",
       "                        <td id=\"T_ca50897a_edcf_11ed_9534_70c94eff7636row77_col1\" class=\"data row77 col1\" >2138</td>\n",
       "                        <td id=\"T_ca50897a_edcf_11ed_9534_70c94eff7636row77_col2\" class=\"data row77 col2\" >102.000000</td>\n",
       "                        <td id=\"T_ca50897a_edcf_11ed_9534_70c94eff7636row77_col3\" class=\"data row77 col3\" >1.23</td>\n",
       "            </tr>\n",
       "            <tr>\n",
       "                        <th id=\"T_ca50897a_edcf_11ed_9534_70c94eff7636level0_row78\" class=\"row_heading level0 row78\" >Cote d'Ivoire</th>\n",
       "                        <td id=\"T_ca50897a_edcf_11ed_9534_70c94eff7636row78_col0\" class=\"data row78 col0\" >2020-05-15</td>\n",
       "                        <td id=\"T_ca50897a_edcf_11ed_9534_70c94eff7636row78_col1\" class=\"data row78 col1\" >2017</td>\n",
       "                        <td id=\"T_ca50897a_edcf_11ed_9534_70c94eff7636row78_col2\" class=\"data row78 col2\" >24.000000</td>\n",
       "                        <td id=\"T_ca50897a_edcf_11ed_9534_70c94eff7636row78_col3\" class=\"data row78 col3\" >0.78</td>\n",
       "            </tr>\n",
       "            <tr>\n",
       "                        <th id=\"T_ca50897a_edcf_11ed_9534_70c94eff7636level0_row79\" class=\"row_heading level0 row79\" >Sudan</th>\n",
       "                        <td id=\"T_ca50897a_edcf_11ed_9534_70c94eff7636row79_col0\" class=\"data row79 col0\" >2020-05-15</td>\n",
       "                        <td id=\"T_ca50897a_edcf_11ed_9534_70c94eff7636row79_col1\" class=\"data row79 col1\" >1964</td>\n",
       "                        <td id=\"T_ca50897a_edcf_11ed_9534_70c94eff7636row79_col2\" class=\"data row79 col2\" >91.000000</td>\n",
       "                        <td id=\"T_ca50897a_edcf_11ed_9534_70c94eff7636row79_col3\" class=\"data row79 col3\" >0.00</td>\n",
       "            </tr>\n",
       "            <tr>\n",
       "                        <th id=\"T_ca50897a_edcf_11ed_9534_70c94eff7636level0_row80\" class=\"row_heading level0 row80\" >Cuba</th>\n",
       "                        <td id=\"T_ca50897a_edcf_11ed_9534_70c94eff7636row80_col0\" class=\"data row80 col0\" >2020-05-15</td>\n",
       "                        <td id=\"T_ca50897a_edcf_11ed_9534_70c94eff7636row80_col1\" class=\"data row80 col1\" >1840</td>\n",
       "                        <td id=\"T_ca50897a_edcf_11ed_9534_70c94eff7636row80_col2\" class=\"data row80 col2\" >79.000000</td>\n",
       "                        <td id=\"T_ca50897a_edcf_11ed_9534_70c94eff7636row80_col3\" class=\"data row80 col3\" >0.50</td>\n",
       "            </tr>\n",
       "            <tr>\n",
       "                        <th id=\"T_ca50897a_edcf_11ed_9534_70c94eff7636level0_row81\" class=\"row_heading level0 row81\" >Iceland</th>\n",
       "                        <td id=\"T_ca50897a_edcf_11ed_9534_70c94eff7636row81_col0\" class=\"data row81 col0\" >2020-05-15</td>\n",
       "                        <td id=\"T_ca50897a_edcf_11ed_9534_70c94eff7636row81_col1\" class=\"data row81 col1\" >1802</td>\n",
       "                        <td id=\"T_ca50897a_edcf_11ed_9534_70c94eff7636row81_col2\" class=\"data row81 col2\" >10.000000</td>\n",
       "                        <td id=\"T_ca50897a_edcf_11ed_9534_70c94eff7636row81_col3\" class=\"data row81 col3\" >0.00</td>\n",
       "            </tr>\n",
       "            <tr>\n",
       "                        <th id=\"T_ca50897a_edcf_11ed_9534_70c94eff7636level0_row82\" class=\"row_heading level0 row82\" >Estonia</th>\n",
       "                        <td id=\"T_ca50897a_edcf_11ed_9534_70c94eff7636row82_col0\" class=\"data row82 col0\" >2020-05-15</td>\n",
       "                        <td id=\"T_ca50897a_edcf_11ed_9534_70c94eff7636row82_col1\" class=\"data row82 col1\" >1766</td>\n",
       "                        <td id=\"T_ca50897a_edcf_11ed_9534_70c94eff7636row82_col2\" class=\"data row82 col2\" >63.000000</td>\n",
       "                        <td id=\"T_ca50897a_edcf_11ed_9534_70c94eff7636row82_col3\" class=\"data row82 col3\" >1.14</td>\n",
       "            </tr>\n",
       "            <tr>\n",
       "                        <th id=\"T_ca50897a_edcf_11ed_9534_70c94eff7636level0_row83\" class=\"row_heading level0 row83\" >North Macedonia</th>\n",
       "                        <td id=\"T_ca50897a_edcf_11ed_9534_70c94eff7636row83_col0\" class=\"data row83 col0\" >2020-05-15</td>\n",
       "                        <td id=\"T_ca50897a_edcf_11ed_9534_70c94eff7636row83_col1\" class=\"data row83 col1\" >1740</td>\n",
       "                        <td id=\"T_ca50897a_edcf_11ed_9534_70c94eff7636row83_col2\" class=\"data row83 col2\" >97.000000</td>\n",
       "                        <td id=\"T_ca50897a_edcf_11ed_9534_70c94eff7636row83_col3\" class=\"data row83 col3\" >0.59</td>\n",
       "            </tr>\n",
       "            <tr>\n",
       "                        <th id=\"T_ca50897a_edcf_11ed_9534_70c94eff7636level0_row84\" class=\"row_heading level0 row84\" >Guatemala</th>\n",
       "                        <td id=\"T_ca50897a_edcf_11ed_9534_70c94eff7636row84_col0\" class=\"data row84 col0\" >2020-05-15</td>\n",
       "                        <td id=\"T_ca50897a_edcf_11ed_9534_70c94eff7636row84_col1\" class=\"data row84 col1\" >1643</td>\n",
       "                        <td id=\"T_ca50897a_edcf_11ed_9534_70c94eff7636row84_col2\" class=\"data row84 col2\" >30.000000</td>\n",
       "                        <td id=\"T_ca50897a_edcf_11ed_9534_70c94eff7636row84_col3\" class=\"data row84 col3\" >0.71</td>\n",
       "            </tr>\n",
       "            <tr>\n",
       "                        <th id=\"T_ca50897a_edcf_11ed_9534_70c94eff7636level0_row85\" class=\"row_heading level0 row85\" >Lithuania</th>\n",
       "                        <td id=\"T_ca50897a_edcf_11ed_9534_70c94eff7636row85_col0\" class=\"data row85 col0\" >2020-05-15</td>\n",
       "                        <td id=\"T_ca50897a_edcf_11ed_9534_70c94eff7636row85_col1\" class=\"data row85 col1\" >1523</td>\n",
       "                        <td id=\"T_ca50897a_edcf_11ed_9534_70c94eff7636row85_col2\" class=\"data row85 col2\" >54.000000</td>\n",
       "                        <td id=\"T_ca50897a_edcf_11ed_9534_70c94eff7636row85_col3\" class=\"data row85 col3\" >2.00</td>\n",
       "            </tr>\n",
       "            <tr>\n",
       "                        <th id=\"T_ca50897a_edcf_11ed_9534_70c94eff7636level0_row86\" class=\"row_heading level0 row86\" >New Zealand</th>\n",
       "                        <td id=\"T_ca50897a_edcf_11ed_9534_70c94eff7636row86_col0\" class=\"data row86 col0\" >2020-05-15</td>\n",
       "                        <td id=\"T_ca50897a_edcf_11ed_9534_70c94eff7636row86_col1\" class=\"data row86 col1\" >1498</td>\n",
       "                        <td id=\"T_ca50897a_edcf_11ed_9534_70c94eff7636row86_col2\" class=\"data row86 col2\" >21.000000</td>\n",
       "                        <td id=\"T_ca50897a_edcf_11ed_9534_70c94eff7636row86_col3\" class=\"data row86 col3\" >0.00</td>\n",
       "            </tr>\n",
       "            <tr>\n",
       "                        <th id=\"T_ca50897a_edcf_11ed_9534_70c94eff7636level0_row87\" class=\"row_heading level0 row87\" >Slovakia</th>\n",
       "                        <td id=\"T_ca50897a_edcf_11ed_9534_70c94eff7636row87_col0\" class=\"data row87 col0\" >2020-05-15</td>\n",
       "                        <td id=\"T_ca50897a_edcf_11ed_9534_70c94eff7636row87_col1\" class=\"data row87 col1\" >1480</td>\n",
       "                        <td id=\"T_ca50897a_edcf_11ed_9534_70c94eff7636row87_col2\" class=\"data row87 col2\" >27.000000</td>\n",
       "                        <td id=\"T_ca50897a_edcf_11ed_9534_70c94eff7636row87_col3\" class=\"data row87 col3\" >0.38</td>\n",
       "            </tr>\n",
       "            <tr>\n",
       "                        <th id=\"T_ca50897a_edcf_11ed_9534_70c94eff7636level0_row88\" class=\"row_heading level0 row88\" >Slovenia</th>\n",
       "                        <td id=\"T_ca50897a_edcf_11ed_9534_70c94eff7636row88_col0\" class=\"data row88 col0\" >2020-05-15</td>\n",
       "                        <td id=\"T_ca50897a_edcf_11ed_9534_70c94eff7636row88_col1\" class=\"data row88 col1\" >1465</td>\n",
       "                        <td id=\"T_ca50897a_edcf_11ed_9534_70c94eff7636row88_col2\" class=\"data row88 col2\" >103.000000</td>\n",
       "                        <td id=\"T_ca50897a_edcf_11ed_9534_70c94eff7636row88_col3\" class=\"data row88 col3\" >1.00</td>\n",
       "            </tr>\n",
       "            <tr>\n",
       "                        <th id=\"T_ca50897a_edcf_11ed_9534_70c94eff7636level0_row89\" class=\"row_heading level0 row89\" >Djibouti</th>\n",
       "                        <td id=\"T_ca50897a_edcf_11ed_9534_70c94eff7636row89_col0\" class=\"data row89 col0\" >2020-05-15</td>\n",
       "                        <td id=\"T_ca50897a_edcf_11ed_9534_70c94eff7636row89_col1\" class=\"data row89 col1\" >1309</td>\n",
       "                        <td id=\"T_ca50897a_edcf_11ed_9534_70c94eff7636row89_col2\" class=\"data row89 col2\" >4.000000</td>\n",
       "                        <td id=\"T_ca50897a_edcf_11ed_9534_70c94eff7636row89_col3\" class=\"data row89 col3\" >1.56</td>\n",
       "            </tr>\n",
       "            <tr>\n",
       "                        <th id=\"T_ca50897a_edcf_11ed_9534_70c94eff7636level0_row90\" class=\"row_heading level0 row90\" >Congo (Kinshasa)</th>\n",
       "                        <td id=\"T_ca50897a_edcf_11ed_9534_70c94eff7636row90_col0\" class=\"data row90 col0\" >2020-05-15</td>\n",
       "                        <td id=\"T_ca50897a_edcf_11ed_9534_70c94eff7636row90_col1\" class=\"data row90 col1\" >1298</td>\n",
       "                        <td id=\"T_ca50897a_edcf_11ed_9534_70c94eff7636row90_col2\" class=\"data row90 col2\" >50.000000</td>\n",
       "                        <td id=\"T_ca50897a_edcf_11ed_9534_70c94eff7636row90_col3\" class=\"data row90 col3\" >0.77</td>\n",
       "            </tr>\n",
       "            <tr>\n",
       "                        <th id=\"T_ca50897a_edcf_11ed_9534_70c94eff7636level0_row91\" class=\"row_heading level0 row91\" >Somalia</th>\n",
       "                        <td id=\"T_ca50897a_edcf_11ed_9534_70c94eff7636row91_col0\" class=\"data row91 col0\" >2020-05-15</td>\n",
       "                        <td id=\"T_ca50897a_edcf_11ed_9534_70c94eff7636row91_col1\" class=\"data row91 col1\" >1284</td>\n",
       "                        <td id=\"T_ca50897a_edcf_11ed_9534_70c94eff7636row91_col2\" class=\"data row91 col2\" >53.000000</td>\n",
       "                        <td id=\"T_ca50897a_edcf_11ed_9534_70c94eff7636row91_col3\" class=\"data row91 col3\" >0.00</td>\n",
       "            </tr>\n",
       "            <tr>\n",
       "                        <th id=\"T_ca50897a_edcf_11ed_9534_70c94eff7636level0_row92\" class=\"row_heading level0 row92\" >El Salvador</th>\n",
       "                        <td id=\"T_ca50897a_edcf_11ed_9534_70c94eff7636row92_col0\" class=\"data row92 col0\" >2020-05-15</td>\n",
       "                        <td id=\"T_ca50897a_edcf_11ed_9534_70c94eff7636row92_col1\" class=\"data row92 col1\" >1210</td>\n",
       "                        <td id=\"T_ca50897a_edcf_11ed_9534_70c94eff7636row92_col2\" class=\"data row92 col2\" >25.000000</td>\n",
       "                        <td id=\"T_ca50897a_edcf_11ed_9534_70c94eff7636row92_col3\" class=\"data row92 col3\" >1.31</td>\n",
       "            </tr>\n",
       "            <tr>\n",
       "                        <th id=\"T_ca50897a_edcf_11ed_9534_70c94eff7636level0_row93\" class=\"row_heading level0 row93\" >Gabon</th>\n",
       "                        <td id=\"T_ca50897a_edcf_11ed_9534_70c94eff7636row93_col0\" class=\"data row93 col0\" >2020-05-15</td>\n",
       "                        <td id=\"T_ca50897a_edcf_11ed_9534_70c94eff7636row93_col1\" class=\"data row93 col1\" >1209</td>\n",
       "                        <td id=\"T_ca50897a_edcf_11ed_9534_70c94eff7636row93_col2\" class=\"data row93 col2\" >10.000000</td>\n",
       "                        <td id=\"T_ca50897a_edcf_11ed_9534_70c94eff7636row93_col3\" class=\"data row93 col3\" >1.05</td>\n",
       "            </tr>\n",
       "            <tr>\n",
       "                        <th id=\"T_ca50897a_edcf_11ed_9534_70c94eff7636level0_row94\" class=\"row_heading level0 row94\" >Kyrgyzstan</th>\n",
       "                        <td id=\"T_ca50897a_edcf_11ed_9534_70c94eff7636row94_col0\" class=\"data row94 col0\" >2020-05-15</td>\n",
       "                        <td id=\"T_ca50897a_edcf_11ed_9534_70c94eff7636row94_col1\" class=\"data row94 col1\" >1111</td>\n",
       "                        <td id=\"T_ca50897a_edcf_11ed_9534_70c94eff7636row94_col2\" class=\"data row94 col2\" >14.000000</td>\n",
       "                        <td id=\"T_ca50897a_edcf_11ed_9534_70c94eff7636row94_col3\" class=\"data row94 col3\" >0.76</td>\n",
       "            </tr>\n",
       "            <tr>\n",
       "                        <th id=\"T_ca50897a_edcf_11ed_9534_70c94eff7636level0_row95\" class=\"row_heading level0 row95\" >Tunisia</th>\n",
       "                        <td id=\"T_ca50897a_edcf_11ed_9534_70c94eff7636row95_col0\" class=\"data row95 col0\" >2020-05-15</td>\n",
       "                        <td id=\"T_ca50897a_edcf_11ed_9534_70c94eff7636row95_col1\" class=\"data row95 col1\" >1035</td>\n",
       "                        <td id=\"T_ca50897a_edcf_11ed_9534_70c94eff7636row95_col2\" class=\"data row95 col2\" >45.000000</td>\n",
       "                        <td id=\"T_ca50897a_edcf_11ed_9534_70c94eff7636row95_col3\" class=\"data row95 col3\" >0.00</td>\n",
       "            </tr>\n",
       "            <tr>\n",
       "                        <th id=\"T_ca50897a_edcf_11ed_9534_70c94eff7636level0_row96\" class=\"row_heading level0 row96\" >Maldives</th>\n",
       "                        <td id=\"T_ca50897a_edcf_11ed_9534_70c94eff7636row96_col0\" class=\"data row96 col0\" >2020-05-15</td>\n",
       "                        <td id=\"T_ca50897a_edcf_11ed_9534_70c94eff7636row96_col1\" class=\"data row96 col1\" >1031</td>\n",
       "                        <td id=\"T_ca50897a_edcf_11ed_9534_70c94eff7636row96_col2\" class=\"data row96 col2\" >4.000000</td>\n",
       "                        <td id=\"T_ca50897a_edcf_11ed_9534_70c94eff7636row96_col3\" class=\"data row96 col3\" >1.81</td>\n",
       "            </tr>\n",
       "            <tr>\n",
       "                        <th id=\"T_ca50897a_edcf_11ed_9534_70c94eff7636level0_row97\" class=\"row_heading level0 row97\" >Latvia</th>\n",
       "                        <td id=\"T_ca50897a_edcf_11ed_9534_70c94eff7636row97_col0\" class=\"data row97 col0\" >2020-05-15</td>\n",
       "                        <td id=\"T_ca50897a_edcf_11ed_9534_70c94eff7636row97_col1\" class=\"data row97 col1\" >970</td>\n",
       "                        <td id=\"T_ca50897a_edcf_11ed_9534_70c94eff7636row97_col2\" class=\"data row97 col2\" >19.000000</td>\n",
       "                        <td id=\"T_ca50897a_edcf_11ed_9534_70c94eff7636row97_col3\" class=\"data row97 col3\" >0.73</td>\n",
       "            </tr>\n",
       "            <tr>\n",
       "                        <th id=\"T_ca50897a_edcf_11ed_9534_70c94eff7636level0_row98\" class=\"row_heading level0 row98\" >Kosovo</th>\n",
       "                        <td id=\"T_ca50897a_edcf_11ed_9534_70c94eff7636row98_col0\" class=\"data row98 col0\" >2020-05-15</td>\n",
       "                        <td id=\"T_ca50897a_edcf_11ed_9534_70c94eff7636row98_col1\" class=\"data row98 col1\" >944</td>\n",
       "                        <td id=\"T_ca50897a_edcf_11ed_9534_70c94eff7636row98_col2\" class=\"data row98 col2\" >29.000000</td>\n",
       "                        <td id=\"T_ca50897a_edcf_11ed_9534_70c94eff7636row98_col3\" class=\"data row98 col3\" >0.00</td>\n",
       "            </tr>\n",
       "            <tr>\n",
       "                        <th id=\"T_ca50897a_edcf_11ed_9534_70c94eff7636level0_row99\" class=\"row_heading level0 row99\" >Sri Lanka</th>\n",
       "                        <td id=\"T_ca50897a_edcf_11ed_9534_70c94eff7636row99_col0\" class=\"data row99 col0\" >2020-05-15</td>\n",
       "                        <td id=\"T_ca50897a_edcf_11ed_9534_70c94eff7636row99_col1\" class=\"data row99 col1\" >935</td>\n",
       "                        <td id=\"T_ca50897a_edcf_11ed_9534_70c94eff7636row99_col2\" class=\"data row99 col2\" >9.000000</td>\n",
       "                        <td id=\"T_ca50897a_edcf_11ed_9534_70c94eff7636row99_col3\" class=\"data row99 col3\" >1.00</td>\n",
       "            </tr>\n",
       "            <tr>\n",
       "                        <th id=\"T_ca50897a_edcf_11ed_9534_70c94eff7636level0_row100\" class=\"row_heading level0 row100\" >Albania</th>\n",
       "                        <td id=\"T_ca50897a_edcf_11ed_9534_70c94eff7636row100_col0\" class=\"data row100 col0\" >2020-05-15</td>\n",
       "                        <td id=\"T_ca50897a_edcf_11ed_9534_70c94eff7636row100_col1\" class=\"data row100 col1\" >916</td>\n",
       "                        <td id=\"T_ca50897a_edcf_11ed_9534_70c94eff7636row100_col2\" class=\"data row100 col2\" >31.000000</td>\n",
       "                        <td id=\"T_ca50897a_edcf_11ed_9534_70c94eff7636row100_col3\" class=\"data row100 col3\" >1.00</td>\n",
       "            </tr>\n",
       "            <tr>\n",
       "                        <th id=\"T_ca50897a_edcf_11ed_9534_70c94eff7636level0_row101\" class=\"row_heading level0 row101\" >Guinea-Bissau</th>\n",
       "                        <td id=\"T_ca50897a_edcf_11ed_9534_70c94eff7636row101_col0\" class=\"data row101 col0\" >2020-05-15</td>\n",
       "                        <td id=\"T_ca50897a_edcf_11ed_9534_70c94eff7636row101_col1\" class=\"data row101 col1\" >913</td>\n",
       "                        <td id=\"T_ca50897a_edcf_11ed_9534_70c94eff7636row101_col2\" class=\"data row101 col2\" >3.000000</td>\n",
       "                        <td id=\"T_ca50897a_edcf_11ed_9534_70c94eff7636row101_col3\" class=\"data row101 col3\" >0.00</td>\n",
       "            </tr>\n",
       "            <tr>\n",
       "                        <th id=\"T_ca50897a_edcf_11ed_9534_70c94eff7636level0_row102\" class=\"row_heading level0 row102\" >Cyprus</th>\n",
       "                        <td id=\"T_ca50897a_edcf_11ed_9534_70c94eff7636row102_col0\" class=\"data row102 col0\" >2020-05-15</td>\n",
       "                        <td id=\"T_ca50897a_edcf_11ed_9534_70c94eff7636row102_col1\" class=\"data row102 col1\" >910</td>\n",
       "                        <td id=\"T_ca50897a_edcf_11ed_9534_70c94eff7636row102_col2\" class=\"data row102 col2\" >17.000000</td>\n",
       "                        <td id=\"T_ca50897a_edcf_11ed_9534_70c94eff7636row102_col3\" class=\"data row102 col3\" >1.50</td>\n",
       "            </tr>\n",
       "            <tr>\n",
       "                        <th id=\"T_ca50897a_edcf_11ed_9534_70c94eff7636level0_row103\" class=\"row_heading level0 row103\" >Lebanon</th>\n",
       "                        <td id=\"T_ca50897a_edcf_11ed_9534_70c94eff7636row103_col0\" class=\"data row103 col0\" >2020-05-15</td>\n",
       "                        <td id=\"T_ca50897a_edcf_11ed_9534_70c94eff7636row103_col1\" class=\"data row103 col1\" >891</td>\n",
       "                        <td id=\"T_ca50897a_edcf_11ed_9534_70c94eff7636row103_col2\" class=\"data row103 col2\" >26.000000</td>\n",
       "                        <td id=\"T_ca50897a_edcf_11ed_9534_70c94eff7636row103_col3\" class=\"data row103 col3\" >0.62</td>\n",
       "            </tr>\n",
       "            <tr>\n",
       "                        <th id=\"T_ca50897a_edcf_11ed_9534_70c94eff7636level0_row104\" class=\"row_heading level0 row104\" >Niger</th>\n",
       "                        <td id=\"T_ca50897a_edcf_11ed_9534_70c94eff7636row104_col0\" class=\"data row104 col0\" >2020-05-15</td>\n",
       "                        <td id=\"T_ca50897a_edcf_11ed_9534_70c94eff7636row104_col1\" class=\"data row104 col1\" >885</td>\n",
       "                        <td id=\"T_ca50897a_edcf_11ed_9534_70c94eff7636row104_col2\" class=\"data row104 col2\" >51.000000</td>\n",
       "                        <td id=\"T_ca50897a_edcf_11ed_9534_70c94eff7636row104_col3\" class=\"data row104 col3\" >0.56</td>\n",
       "            </tr>\n",
       "            <tr>\n",
       "                        <th id=\"T_ca50897a_edcf_11ed_9534_70c94eff7636level0_row105\" class=\"row_heading level0 row105\" >Costa Rica</th>\n",
       "                        <td id=\"T_ca50897a_edcf_11ed_9534_70c94eff7636row105_col0\" class=\"data row105 col0\" >2020-05-15</td>\n",
       "                        <td id=\"T_ca50897a_edcf_11ed_9534_70c94eff7636row105_col1\" class=\"data row105 col1\" >843</td>\n",
       "                        <td id=\"T_ca50897a_edcf_11ed_9534_70c94eff7636row105_col2\" class=\"data row105 col2\" >9.000000</td>\n",
       "                        <td id=\"T_ca50897a_edcf_11ed_9534_70c94eff7636row105_col3\" class=\"data row105 col3\" >0.87</td>\n",
       "            </tr>\n",
       "            <tr>\n",
       "                        <th id=\"T_ca50897a_edcf_11ed_9534_70c94eff7636level0_row106\" class=\"row_heading level0 row106\" >Mali</th>\n",
       "                        <td id=\"T_ca50897a_edcf_11ed_9534_70c94eff7636row106_col0\" class=\"data row106 col0\" >2020-05-15</td>\n",
       "                        <td id=\"T_ca50897a_edcf_11ed_9534_70c94eff7636row106_col1\" class=\"data row106 col1\" >806</td>\n",
       "                        <td id=\"T_ca50897a_edcf_11ed_9534_70c94eff7636row106_col2\" class=\"data row106 col2\" >46.000000</td>\n",
       "                        <td id=\"T_ca50897a_edcf_11ed_9534_70c94eff7636row106_col3\" class=\"data row106 col3\" >1.29</td>\n",
       "            </tr>\n",
       "            <tr>\n",
       "                        <th id=\"T_ca50897a_edcf_11ed_9534_70c94eff7636level0_row107\" class=\"row_heading level0 row107\" >Kenya</th>\n",
       "                        <td id=\"T_ca50897a_edcf_11ed_9534_70c94eff7636row107_col0\" class=\"data row107 col0\" >2020-05-15</td>\n",
       "                        <td id=\"T_ca50897a_edcf_11ed_9534_70c94eff7636row107_col1\" class=\"data row107 col1\" >781</td>\n",
       "                        <td id=\"T_ca50897a_edcf_11ed_9534_70c94eff7636row107_col2\" class=\"data row107 col2\" >45.000000</td>\n",
       "                        <td id=\"T_ca50897a_edcf_11ed_9534_70c94eff7636row107_col3\" class=\"data row107 col3\" >1.10</td>\n",
       "            </tr>\n",
       "            <tr>\n",
       "                        <th id=\"T_ca50897a_edcf_11ed_9534_70c94eff7636level0_row108\" class=\"row_heading level0 row108\" >Burkina Faso</th>\n",
       "                        <td id=\"T_ca50897a_edcf_11ed_9534_70c94eff7636row108_col0\" class=\"data row108 col0\" >2020-05-15</td>\n",
       "                        <td id=\"T_ca50897a_edcf_11ed_9534_70c94eff7636row108_col1\" class=\"data row108 col1\" >780</td>\n",
       "                        <td id=\"T_ca50897a_edcf_11ed_9534_70c94eff7636row108_col2\" class=\"data row108 col2\" >51.000000</td>\n",
       "                        <td id=\"T_ca50897a_edcf_11ed_9534_70c94eff7636row108_col3\" class=\"data row108 col3\" >0.00</td>\n",
       "            </tr>\n",
       "            <tr>\n",
       "                        <th id=\"T_ca50897a_edcf_11ed_9534_70c94eff7636level0_row109\" class=\"row_heading level0 row109\" >Andorra</th>\n",
       "                        <td id=\"T_ca50897a_edcf_11ed_9534_70c94eff7636row109_col0\" class=\"data row109 col0\" >2020-05-15</td>\n",
       "                        <td id=\"T_ca50897a_edcf_11ed_9534_70c94eff7636row109_col1\" class=\"data row109 col1\" >761</td>\n",
       "                        <td id=\"T_ca50897a_edcf_11ed_9534_70c94eff7636row109_col2\" class=\"data row109 col2\" >49.000000</td>\n",
       "                        <td id=\"T_ca50897a_edcf_11ed_9534_70c94eff7636row109_col3\" class=\"data row109 col3\" >0.00</td>\n",
       "            </tr>\n",
       "            <tr>\n",
       "                        <th id=\"T_ca50897a_edcf_11ed_9534_70c94eff7636level0_row110\" class=\"row_heading level0 row110\" >Paraguay</th>\n",
       "                        <td id=\"T_ca50897a_edcf_11ed_9534_70c94eff7636row110_col0\" class=\"data row110 col0\" >2020-05-15</td>\n",
       "                        <td id=\"T_ca50897a_edcf_11ed_9534_70c94eff7636row110_col1\" class=\"data row110 col1\" >759</td>\n",
       "                        <td id=\"T_ca50897a_edcf_11ed_9534_70c94eff7636row110_col2\" class=\"data row110 col2\" >11.000000</td>\n",
       "                        <td id=\"T_ca50897a_edcf_11ed_9534_70c94eff7636row110_col3\" class=\"data row110 col3\" >0.36</td>\n",
       "            </tr>\n",
       "            <tr>\n",
       "                        <th id=\"T_ca50897a_edcf_11ed_9534_70c94eff7636level0_row111\" class=\"row_heading level0 row111\" >Uruguay</th>\n",
       "                        <td id=\"T_ca50897a_edcf_11ed_9534_70c94eff7636row111_col0\" class=\"data row111 col0\" >2020-05-15</td>\n",
       "                        <td id=\"T_ca50897a_edcf_11ed_9534_70c94eff7636row111_col1\" class=\"data row111 col1\" >732</td>\n",
       "                        <td id=\"T_ca50897a_edcf_11ed_9534_70c94eff7636row111_col2\" class=\"data row111 col2\" >19.000000</td>\n",
       "                        <td id=\"T_ca50897a_edcf_11ed_9534_70c94eff7636row111_col3\" class=\"data row111 col3\" >1.60</td>\n",
       "            </tr>\n",
       "            <tr>\n",
       "                        <th id=\"T_ca50897a_edcf_11ed_9534_70c94eff7636level0_row112\" class=\"row_heading level0 row112\" >Diamond Princess</th>\n",
       "                        <td id=\"T_ca50897a_edcf_11ed_9534_70c94eff7636row112_col0\" class=\"data row112 col0\" >2020-05-15</td>\n",
       "                        <td id=\"T_ca50897a_edcf_11ed_9534_70c94eff7636row112_col1\" class=\"data row112 col1\" >712</td>\n",
       "                        <td id=\"T_ca50897a_edcf_11ed_9534_70c94eff7636row112_col2\" class=\"data row112 col2\" >13.000000</td>\n",
       "                        <td id=\"T_ca50897a_edcf_11ed_9534_70c94eff7636row112_col3\" class=\"data row112 col3\" >0.00</td>\n",
       "            </tr>\n",
       "            <tr>\n",
       "                        <th id=\"T_ca50897a_edcf_11ed_9534_70c94eff7636level0_row113\" class=\"row_heading level0 row113\" >Georgia</th>\n",
       "                        <td id=\"T_ca50897a_edcf_11ed_9534_70c94eff7636row113_col0\" class=\"data row113 col0\" >2020-05-15</td>\n",
       "                        <td id=\"T_ca50897a_edcf_11ed_9534_70c94eff7636row113_col1\" class=\"data row113 col1\" >671</td>\n",
       "                        <td id=\"T_ca50897a_edcf_11ed_9534_70c94eff7636row113_col2\" class=\"data row113 col2\" >12.000000</td>\n",
       "                        <td id=\"T_ca50897a_edcf_11ed_9534_70c94eff7636row113_col3\" class=\"data row113 col3\" >0.20</td>\n",
       "            </tr>\n",
       "            <tr>\n",
       "                        <th id=\"T_ca50897a_edcf_11ed_9534_70c94eff7636level0_row114\" class=\"row_heading level0 row114\" >Zambia</th>\n",
       "                        <td id=\"T_ca50897a_edcf_11ed_9534_70c94eff7636row114_col0\" class=\"data row114 col0\" >2020-05-15</td>\n",
       "                        <td id=\"T_ca50897a_edcf_11ed_9534_70c94eff7636row114_col1\" class=\"data row114 col1\" >654</td>\n",
       "                        <td id=\"T_ca50897a_edcf_11ed_9534_70c94eff7636row114_col2\" class=\"data row114 col2\" >7.000000</td>\n",
       "                        <td id=\"T_ca50897a_edcf_11ed_9534_70c94eff7636row114_col3\" class=\"data row114 col3\" >0.00</td>\n",
       "            </tr>\n",
       "            <tr>\n",
       "                        <th id=\"T_ca50897a_edcf_11ed_9534_70c94eff7636level0_row115\" class=\"row_heading level0 row115\" >San Marino</th>\n",
       "                        <td id=\"T_ca50897a_edcf_11ed_9534_70c94eff7636row115_col0\" class=\"data row115 col0\" >2020-05-15</td>\n",
       "                        <td id=\"T_ca50897a_edcf_11ed_9534_70c94eff7636row115_col1\" class=\"data row115 col1\" >652</td>\n",
       "                        <td id=\"T_ca50897a_edcf_11ed_9534_70c94eff7636row115_col2\" class=\"data row115 col2\" >41.000000</td>\n",
       "                        <td id=\"T_ca50897a_edcf_11ed_9534_70c94eff7636row115_col3\" class=\"data row115 col3\" >0.80</td>\n",
       "            </tr>\n",
       "            <tr>\n",
       "                        <th id=\"T_ca50897a_edcf_11ed_9534_70c94eff7636level0_row116\" class=\"row_heading level0 row116\" >Jordan</th>\n",
       "                        <td id=\"T_ca50897a_edcf_11ed_9534_70c94eff7636row116_col0\" class=\"data row116 col0\" >2020-05-15</td>\n",
       "                        <td id=\"T_ca50897a_edcf_11ed_9534_70c94eff7636row116_col1\" class=\"data row116 col1\" >596</td>\n",
       "                        <td id=\"T_ca50897a_edcf_11ed_9534_70c94eff7636row116_col2\" class=\"data row116 col2\" >9.000000</td>\n",
       "                        <td id=\"T_ca50897a_edcf_11ed_9534_70c94eff7636row116_col3\" class=\"data row116 col3\" >2.50</td>\n",
       "            </tr>\n",
       "            <tr>\n",
       "                        <th id=\"T_ca50897a_edcf_11ed_9534_70c94eff7636level0_row117\" class=\"row_heading level0 row117\" >Equatorial Guinea</th>\n",
       "                        <td id=\"T_ca50897a_edcf_11ed_9534_70c94eff7636row117_col0\" class=\"data row117 col0\" >2020-05-15</td>\n",
       "                        <td id=\"T_ca50897a_edcf_11ed_9534_70c94eff7636row117_col1\" class=\"data row117 col1\" >594</td>\n",
       "                        <td id=\"T_ca50897a_edcf_11ed_9534_70c94eff7636row117_col2\" class=\"data row117 col2\" >7.000000</td>\n",
       "                        <td id=\"T_ca50897a_edcf_11ed_9534_70c94eff7636row117_col3\" class=\"data row117 col3\" >0.18</td>\n",
       "            </tr>\n",
       "            <tr>\n",
       "                        <th id=\"T_ca50897a_edcf_11ed_9534_70c94eff7636level0_row118\" class=\"row_heading level0 row118\" >Malta</th>\n",
       "                        <td id=\"T_ca50897a_edcf_11ed_9534_70c94eff7636row118_col0\" class=\"data row118 col0\" >2020-05-15</td>\n",
       "                        <td id=\"T_ca50897a_edcf_11ed_9534_70c94eff7636row118_col1\" class=\"data row118 col1\" >532</td>\n",
       "                        <td id=\"T_ca50897a_edcf_11ed_9534_70c94eff7636row118_col2\" class=\"data row118 col2\" >6.000000</td>\n",
       "                        <td id=\"T_ca50897a_edcf_11ed_9534_70c94eff7636row118_col3\" class=\"data row118 col3\" >0.71</td>\n",
       "            </tr>\n",
       "            <tr>\n",
       "                        <th id=\"T_ca50897a_edcf_11ed_9534_70c94eff7636level0_row119\" class=\"row_heading level0 row119\" >Jamaica</th>\n",
       "                        <td id=\"T_ca50897a_edcf_11ed_9534_70c94eff7636row119_col0\" class=\"data row119 col0\" >2020-05-15</td>\n",
       "                        <td id=\"T_ca50897a_edcf_11ed_9534_70c94eff7636row119_col1\" class=\"data row119 col1\" >511</td>\n",
       "                        <td id=\"T_ca50897a_edcf_11ed_9534_70c94eff7636row119_col2\" class=\"data row119 col2\" >9.000000</td>\n",
       "                        <td id=\"T_ca50897a_edcf_11ed_9534_70c94eff7636row119_col3\" class=\"data row119 col3\" >0.00</td>\n",
       "            </tr>\n",
       "            <tr>\n",
       "                        <th id=\"T_ca50897a_edcf_11ed_9534_70c94eff7636level0_row120\" class=\"row_heading level0 row120\" >Tanzania</th>\n",
       "                        <td id=\"T_ca50897a_edcf_11ed_9534_70c94eff7636row120_col0\" class=\"data row120 col0\" >2020-05-15</td>\n",
       "                        <td id=\"T_ca50897a_edcf_11ed_9534_70c94eff7636row120_col1\" class=\"data row120 col1\" >509</td>\n",
       "                        <td id=\"T_ca50897a_edcf_11ed_9534_70c94eff7636row120_col2\" class=\"data row120 col2\" >21.000000</td>\n",
       "                        <td id=\"T_ca50897a_edcf_11ed_9534_70c94eff7636row120_col3\" class=\"data row120 col3\" >0.00</td>\n",
       "            </tr>\n",
       "            <tr>\n",
       "                        <th id=\"T_ca50897a_edcf_11ed_9534_70c94eff7636level0_row121\" class=\"row_heading level0 row121\" >Venezuela</th>\n",
       "                        <td id=\"T_ca50897a_edcf_11ed_9534_70c94eff7636row121_col0\" class=\"data row121 col0\" >2020-05-15</td>\n",
       "                        <td id=\"T_ca50897a_edcf_11ed_9534_70c94eff7636row121_col1\" class=\"data row121 col1\" >459</td>\n",
       "                        <td id=\"T_ca50897a_edcf_11ed_9534_70c94eff7636row121_col2\" class=\"data row121 col2\" >10.000000</td>\n",
       "                        <td id=\"T_ca50897a_edcf_11ed_9534_70c94eff7636row121_col3\" class=\"data row121 col3\" >0.12</td>\n",
       "            </tr>\n",
       "            <tr>\n",
       "                        <th id=\"T_ca50897a_edcf_11ed_9534_70c94eff7636level0_row122\" class=\"row_heading level0 row122\" >Sierra Leone</th>\n",
       "                        <td id=\"T_ca50897a_edcf_11ed_9534_70c94eff7636row122_col0\" class=\"data row122 col0\" >2020-05-15</td>\n",
       "                        <td id=\"T_ca50897a_edcf_11ed_9534_70c94eff7636row122_col1\" class=\"data row122 col1\" >447</td>\n",
       "                        <td id=\"T_ca50897a_edcf_11ed_9534_70c94eff7636row122_col2\" class=\"data row122 col2\" >27.000000</td>\n",
       "                        <td id=\"T_ca50897a_edcf_11ed_9534_70c94eff7636row122_col3\" class=\"data row122 col3\" >1.86</td>\n",
       "            </tr>\n",
       "            <tr>\n",
       "                        <th id=\"T_ca50897a_edcf_11ed_9534_70c94eff7636level0_row123\" class=\"row_heading level0 row123\" >Taiwan*</th>\n",
       "                        <td id=\"T_ca50897a_edcf_11ed_9534_70c94eff7636row123_col0\" class=\"data row123 col0\" >2020-05-15</td>\n",
       "                        <td id=\"T_ca50897a_edcf_11ed_9534_70c94eff7636row123_col1\" class=\"data row123 col1\" >440</td>\n",
       "                        <td id=\"T_ca50897a_edcf_11ed_9534_70c94eff7636row123_col2\" class=\"data row123 col2\" >7.000000</td>\n",
       "                        <td id=\"T_ca50897a_edcf_11ed_9534_70c94eff7636row123_col3\" class=\"data row123 col3\" >0.00</td>\n",
       "            </tr>\n",
       "            <tr>\n",
       "                        <th id=\"T_ca50897a_edcf_11ed_9534_70c94eff7636level0_row124\" class=\"row_heading level0 row124\" >Chad</th>\n",
       "                        <td id=\"T_ca50897a_edcf_11ed_9534_70c94eff7636row124_col0\" class=\"data row124 col0\" >2020-05-15</td>\n",
       "                        <td id=\"T_ca50897a_edcf_11ed_9534_70c94eff7636row124_col1\" class=\"data row124 col1\" >428</td>\n",
       "                        <td id=\"T_ca50897a_edcf_11ed_9534_70c94eff7636row124_col2\" class=\"data row124 col2\" >48.000000</td>\n",
       "                        <td id=\"T_ca50897a_edcf_11ed_9534_70c94eff7636row124_col3\" class=\"data row124 col3\" >1.07</td>\n",
       "            </tr>\n",
       "            <tr>\n",
       "                        <th id=\"T_ca50897a_edcf_11ed_9534_70c94eff7636level0_row125\" class=\"row_heading level0 row125\" >Congo (Brazzaville)</th>\n",
       "                        <td id=\"T_ca50897a_edcf_11ed_9534_70c94eff7636row125_col0\" class=\"data row125 col0\" >2020-05-15</td>\n",
       "                        <td id=\"T_ca50897a_edcf_11ed_9534_70c94eff7636row125_col1\" class=\"data row125 col1\" >391</td>\n",
       "                        <td id=\"T_ca50897a_edcf_11ed_9534_70c94eff7636row125_col2\" class=\"data row125 col2\" >15.000000</td>\n",
       "                        <td id=\"T_ca50897a_edcf_11ed_9534_70c94eff7636row125_col3\" class=\"data row125 col3\" >0.00</td>\n",
       "            </tr>\n",
       "            <tr>\n",
       "                        <th id=\"T_ca50897a_edcf_11ed_9534_70c94eff7636level0_row126\" class=\"row_heading level0 row126\" >West Bank and Gaza</th>\n",
       "                        <td id=\"T_ca50897a_edcf_11ed_9534_70c94eff7636row126_col0\" class=\"data row126 col0\" >2020-05-15</td>\n",
       "                        <td id=\"T_ca50897a_edcf_11ed_9534_70c94eff7636row126_col1\" class=\"data row126 col1\" >375</td>\n",
       "                        <td id=\"T_ca50897a_edcf_11ed_9534_70c94eff7636row126_col2\" class=\"data row126 col2\" >2.000000</td>\n",
       "                        <td id=\"T_ca50897a_edcf_11ed_9534_70c94eff7636row126_col3\" class=\"data row126 col3\" >0.00</td>\n",
       "            </tr>\n",
       "            <tr>\n",
       "                        <th id=\"T_ca50897a_edcf_11ed_9534_70c94eff7636level0_row127\" class=\"row_heading level0 row127\" >Benin</th>\n",
       "                        <td id=\"T_ca50897a_edcf_11ed_9534_70c94eff7636row127_col0\" class=\"data row127 col0\" >2020-05-15</td>\n",
       "                        <td id=\"T_ca50897a_edcf_11ed_9534_70c94eff7636row127_col1\" class=\"data row127 col1\" >339</td>\n",
       "                        <td id=\"T_ca50897a_edcf_11ed_9534_70c94eff7636row127_col2\" class=\"data row127 col2\" >2.000000</td>\n",
       "                        <td id=\"T_ca50897a_edcf_11ed_9534_70c94eff7636row127_col3\" class=\"data row127 col3\" >0.00</td>\n",
       "            </tr>\n",
       "            <tr>\n",
       "                        <th id=\"T_ca50897a_edcf_11ed_9534_70c94eff7636level0_row128\" class=\"row_heading level0 row128\" >Mauritius</th>\n",
       "                        <td id=\"T_ca50897a_edcf_11ed_9534_70c94eff7636row128_col0\" class=\"data row128 col0\" >2020-05-15</td>\n",
       "                        <td id=\"T_ca50897a_edcf_11ed_9534_70c94eff7636row128_col1\" class=\"data row128 col1\" >332</td>\n",
       "                        <td id=\"T_ca50897a_edcf_11ed_9534_70c94eff7636row128_col2\" class=\"data row128 col2\" >10.000000</td>\n",
       "                        <td id=\"T_ca50897a_edcf_11ed_9534_70c94eff7636row128_col3\" class=\"data row128 col3\" >0.00</td>\n",
       "            </tr>\n",
       "            <tr>\n",
       "                        <th id=\"T_ca50897a_edcf_11ed_9534_70c94eff7636level0_row129\" class=\"row_heading level0 row129\" >Cabo Verde</th>\n",
       "                        <td id=\"T_ca50897a_edcf_11ed_9534_70c94eff7636row129_col0\" class=\"data row129 col0\" >2020-05-15</td>\n",
       "                        <td id=\"T_ca50897a_edcf_11ed_9534_70c94eff7636row129_col1\" class=\"data row129 col1\" >326</td>\n",
       "                        <td id=\"T_ca50897a_edcf_11ed_9534_70c94eff7636row129_col2\" class=\"data row129 col2\" >2.000000</td>\n",
       "                        <td id=\"T_ca50897a_edcf_11ed_9534_70c94eff7636row129_col3\" class=\"data row129 col3\" >0.42</td>\n",
       "            </tr>\n",
       "            <tr>\n",
       "                        <th id=\"T_ca50897a_edcf_11ed_9534_70c94eff7636level0_row130\" class=\"row_heading level0 row130\" >Montenegro</th>\n",
       "                        <td id=\"T_ca50897a_edcf_11ed_9534_70c94eff7636row130_col0\" class=\"data row130 col0\" >2020-05-15</td>\n",
       "                        <td id=\"T_ca50897a_edcf_11ed_9534_70c94eff7636row130_col1\" class=\"data row130 col1\" >324</td>\n",
       "                        <td id=\"T_ca50897a_edcf_11ed_9534_70c94eff7636row130_col2\" class=\"data row130 col2\" >9.000000</td>\n",
       "                        <td id=\"T_ca50897a_edcf_11ed_9534_70c94eff7636row130_col3\" class=\"data row130 col3\" >0.00</td>\n",
       "            </tr>\n",
       "            <tr>\n",
       "                        <th id=\"T_ca50897a_edcf_11ed_9534_70c94eff7636level0_row131\" class=\"row_heading level0 row131\" >Vietnam</th>\n",
       "                        <td id=\"T_ca50897a_edcf_11ed_9534_70c94eff7636row131_col0\" class=\"data row131 col0\" >2020-05-15</td>\n",
       "                        <td id=\"T_ca50897a_edcf_11ed_9534_70c94eff7636row131_col1\" class=\"data row131 col1\" >314</td>\n",
       "                        <td id=\"T_ca50897a_edcf_11ed_9534_70c94eff7636row131_col2\" class=\"data row131 col2\" >0.000000</td>\n",
       "                        <td id=\"T_ca50897a_edcf_11ed_9534_70c94eff7636row131_col3\" class=\"data row131 col3\" >0.08</td>\n",
       "            </tr>\n",
       "            <tr>\n",
       "                        <th id=\"T_ca50897a_edcf_11ed_9534_70c94eff7636level0_row132\" class=\"row_heading level0 row132\" >Haiti</th>\n",
       "                        <td id=\"T_ca50897a_edcf_11ed_9534_70c94eff7636row132_col0\" class=\"data row132 col0\" >2020-05-15</td>\n",
       "                        <td id=\"T_ca50897a_edcf_11ed_9534_70c94eff7636row132_col1\" class=\"data row132 col1\" >310</td>\n",
       "                        <td id=\"T_ca50897a_edcf_11ed_9534_70c94eff7636row132_col2\" class=\"data row132 col2\" >20.000000</td>\n",
       "                        <td id=\"T_ca50897a_edcf_11ed_9534_70c94eff7636row132_col3\" class=\"data row132 col3\" >0.95</td>\n",
       "            </tr>\n",
       "            <tr>\n",
       "                        <th id=\"T_ca50897a_edcf_11ed_9534_70c94eff7636level0_row133\" class=\"row_heading level0 row133\" >Central African Republic</th>\n",
       "                        <td id=\"T_ca50897a_edcf_11ed_9534_70c94eff7636row133_col0\" class=\"data row133 col0\" >2020-05-15</td>\n",
       "                        <td id=\"T_ca50897a_edcf_11ed_9534_70c94eff7636row133_col1\" class=\"data row133 col1\" >301</td>\n",
       "                        <td id=\"T_ca50897a_edcf_11ed_9534_70c94eff7636row133_col2\" class=\"data row133 col2\" >0.000000</td>\n",
       "                        <td id=\"T_ca50897a_edcf_11ed_9534_70c94eff7636row133_col3\" class=\"data row133 col3\" >0.00</td>\n",
       "            </tr>\n",
       "            <tr>\n",
       "                        <th id=\"T_ca50897a_edcf_11ed_9534_70c94eff7636level0_row134\" class=\"row_heading level0 row134\" >Rwanda</th>\n",
       "                        <td id=\"T_ca50897a_edcf_11ed_9534_70c94eff7636row134_col0\" class=\"data row134 col0\" >2020-05-15</td>\n",
       "                        <td id=\"T_ca50897a_edcf_11ed_9534_70c94eff7636row134_col1\" class=\"data row134 col1\" >287</td>\n",
       "                        <td id=\"T_ca50897a_edcf_11ed_9534_70c94eff7636row134_col2\" class=\"data row134 col2\" >0.000000</td>\n",
       "                        <td id=\"T_ca50897a_edcf_11ed_9534_70c94eff7636row134_col3\" class=\"data row134 col3\" >0.00</td>\n",
       "            </tr>\n",
       "            <tr>\n",
       "                        <th id=\"T_ca50897a_edcf_11ed_9534_70c94eff7636level0_row135\" class=\"row_heading level0 row135\" >Ethiopia</th>\n",
       "                        <td id=\"T_ca50897a_edcf_11ed_9534_70c94eff7636row135_col0\" class=\"data row135 col0\" >2020-05-15</td>\n",
       "                        <td id=\"T_ca50897a_edcf_11ed_9534_70c94eff7636row135_col1\" class=\"data row135 col1\" >287</td>\n",
       "                        <td id=\"T_ca50897a_edcf_11ed_9534_70c94eff7636row135_col2\" class=\"data row135 col2\" >5.000000</td>\n",
       "                        <td id=\"T_ca50897a_edcf_11ed_9534_70c94eff7636row135_col3\" class=\"data row135 col3\" >1.67</td>\n",
       "            </tr>\n",
       "            <tr>\n",
       "                        <th id=\"T_ca50897a_edcf_11ed_9534_70c94eff7636level0_row136\" class=\"row_heading level0 row136\" >Nepal</th>\n",
       "                        <td id=\"T_ca50897a_edcf_11ed_9534_70c94eff7636row136_col0\" class=\"data row136 col0\" >2020-05-15</td>\n",
       "                        <td id=\"T_ca50897a_edcf_11ed_9534_70c94eff7636row136_col1\" class=\"data row136 col1\" >267</td>\n",
       "                        <td id=\"T_ca50897a_edcf_11ed_9534_70c94eff7636row136_col2\" class=\"data row136 col2\" >0.000000</td>\n",
       "                        <td id=\"T_ca50897a_edcf_11ed_9534_70c94eff7636row136_col3\" class=\"data row136 col3\" >-18.00</td>\n",
       "            </tr>\n",
       "            <tr>\n",
       "                        <th id=\"T_ca50897a_edcf_11ed_9534_70c94eff7636level0_row137\" class=\"row_heading level0 row137\" >Togo</th>\n",
       "                        <td id=\"T_ca50897a_edcf_11ed_9534_70c94eff7636row137_col0\" class=\"data row137 col0\" >2020-05-15</td>\n",
       "                        <td id=\"T_ca50897a_edcf_11ed_9534_70c94eff7636row137_col1\" class=\"data row137 col1\" >263</td>\n",
       "                        <td id=\"T_ca50897a_edcf_11ed_9534_70c94eff7636row137_col2\" class=\"data row137 col2\" >11.000000</td>\n",
       "                        <td id=\"T_ca50897a_edcf_11ed_9534_70c94eff7636row137_col3\" class=\"data row137 col3\" >1.32</td>\n",
       "            </tr>\n",
       "            <tr>\n",
       "                        <th id=\"T_ca50897a_edcf_11ed_9534_70c94eff7636level0_row138\" class=\"row_heading level0 row138\" >Madagascar</th>\n",
       "                        <td id=\"T_ca50897a_edcf_11ed_9534_70c94eff7636row138_col0\" class=\"data row138 col0\" >2020-05-15</td>\n",
       "                        <td id=\"T_ca50897a_edcf_11ed_9534_70c94eff7636row138_col1\" class=\"data row138 col1\" >238</td>\n",
       "                        <td id=\"T_ca50897a_edcf_11ed_9534_70c94eff7636row138_col2\" class=\"data row138 col2\" >0.000000</td>\n",
       "                        <td id=\"T_ca50897a_edcf_11ed_9534_70c94eff7636row138_col3\" class=\"data row138 col3\" >0.44</td>\n",
       "            </tr>\n",
       "            <tr>\n",
       "                        <th id=\"T_ca50897a_edcf_11ed_9534_70c94eff7636level0_row139\" class=\"row_heading level0 row139\" >South Sudan</th>\n",
       "                        <td id=\"T_ca50897a_edcf_11ed_9534_70c94eff7636row139_col0\" class=\"data row139 col0\" >2020-05-15</td>\n",
       "                        <td id=\"T_ca50897a_edcf_11ed_9534_70c94eff7636row139_col1\" class=\"data row139 col1\" >236</td>\n",
       "                        <td id=\"T_ca50897a_edcf_11ed_9534_70c94eff7636row139_col2\" class=\"data row139 col2\" >4.000000</td>\n",
       "                        <td id=\"T_ca50897a_edcf_11ed_9534_70c94eff7636row139_col3\" class=\"data row139 col3\" >0.00</td>\n",
       "            </tr>\n",
       "            <tr>\n",
       "                        <th id=\"T_ca50897a_edcf_11ed_9534_70c94eff7636level0_row140\" class=\"row_heading level0 row140\" >Sao Tome and Principe</th>\n",
       "                        <td id=\"T_ca50897a_edcf_11ed_9534_70c94eff7636row140_col0\" class=\"data row140 col0\" >2020-05-15</td>\n",
       "                        <td id=\"T_ca50897a_edcf_11ed_9534_70c94eff7636row140_col1\" class=\"data row140 col1\" >235</td>\n",
       "                        <td id=\"T_ca50897a_edcf_11ed_9534_70c94eff7636row140_col2\" class=\"data row140 col2\" >7.000000</td>\n",
       "                        <td id=\"T_ca50897a_edcf_11ed_9534_70c94eff7636row140_col3\" class=\"data row140 col3\" >0.00</td>\n",
       "            </tr>\n",
       "            <tr>\n",
       "                        <th id=\"T_ca50897a_edcf_11ed_9534_70c94eff7636level0_row141\" class=\"row_heading level0 row141\" >Liberia</th>\n",
       "                        <td id=\"T_ca50897a_edcf_11ed_9534_70c94eff7636row141_col0\" class=\"data row141 col0\" >2020-05-15</td>\n",
       "                        <td id=\"T_ca50897a_edcf_11ed_9534_70c94eff7636row141_col1\" class=\"data row141 col1\" >219</td>\n",
       "                        <td id=\"T_ca50897a_edcf_11ed_9534_70c94eff7636row141_col2\" class=\"data row141 col2\" >20.000000</td>\n",
       "                        <td id=\"T_ca50897a_edcf_11ed_9534_70c94eff7636row141_col3\" class=\"data row141 col3\" >2.00</td>\n",
       "            </tr>\n",
       "            <tr>\n",
       "                        <th id=\"T_ca50897a_edcf_11ed_9534_70c94eff7636level0_row142\" class=\"row_heading level0 row142\" >Uganda</th>\n",
       "                        <td id=\"T_ca50897a_edcf_11ed_9534_70c94eff7636row142_col0\" class=\"data row142 col0\" >2020-05-15</td>\n",
       "                        <td id=\"T_ca50897a_edcf_11ed_9534_70c94eff7636row142_col1\" class=\"data row142 col1\" >203</td>\n",
       "                        <td id=\"T_ca50897a_edcf_11ed_9534_70c94eff7636row142_col2\" class=\"data row142 col2\" >0.000000</td>\n",
       "                        <td id=\"T_ca50897a_edcf_11ed_9534_70c94eff7636row142_col3\" class=\"data row142 col3\" >2.05</td>\n",
       "            </tr>\n",
       "            <tr>\n",
       "                        <th id=\"T_ca50897a_edcf_11ed_9534_70c94eff7636level0_row143\" class=\"row_heading level0 row143\" >Eswatini</th>\n",
       "                        <td id=\"T_ca50897a_edcf_11ed_9534_70c94eff7636row143_col0\" class=\"data row143 col0\" >2020-05-15</td>\n",
       "                        <td id=\"T_ca50897a_edcf_11ed_9534_70c94eff7636row143_col1\" class=\"data row143 col1\" >190</td>\n",
       "                        <td id=\"T_ca50897a_edcf_11ed_9534_70c94eff7636row143_col2\" class=\"data row143 col2\" >2.000000</td>\n",
       "                        <td id=\"T_ca50897a_edcf_11ed_9534_70c94eff7636row143_col3\" class=\"data row143 col3\" >0.00</td>\n",
       "            </tr>\n",
       "            <tr>\n",
       "                        <th id=\"T_ca50897a_edcf_11ed_9534_70c94eff7636level0_row144\" class=\"row_heading level0 row144\" >Burma</th>\n",
       "                        <td id=\"T_ca50897a_edcf_11ed_9534_70c94eff7636row144_col0\" class=\"data row144 col0\" >2020-05-15</td>\n",
       "                        <td id=\"T_ca50897a_edcf_11ed_9534_70c94eff7636row144_col1\" class=\"data row144 col1\" >182</td>\n",
       "                        <td id=\"T_ca50897a_edcf_11ed_9534_70c94eff7636row144_col2\" class=\"data row144 col2\" >6.000000</td>\n",
       "                        <td id=\"T_ca50897a_edcf_11ed_9534_70c94eff7636row144_col3\" class=\"data row144 col3\" >0.00</td>\n",
       "            </tr>\n",
       "            <tr>\n",
       "                        <th id=\"T_ca50897a_edcf_11ed_9534_70c94eff7636level0_row145\" class=\"row_heading level0 row145\" >Brunei</th>\n",
       "                        <td id=\"T_ca50897a_edcf_11ed_9534_70c94eff7636row145_col0\" class=\"data row145 col0\" >2020-05-15</td>\n",
       "                        <td id=\"T_ca50897a_edcf_11ed_9534_70c94eff7636row145_col1\" class=\"data row145 col1\" >141</td>\n",
       "                        <td id=\"T_ca50897a_edcf_11ed_9534_70c94eff7636row145_col2\" class=\"data row145 col2\" >1.000000</td>\n",
       "                        <td id=\"T_ca50897a_edcf_11ed_9534_70c94eff7636row145_col3\" class=\"data row145 col3\" >0.00</td>\n",
       "            </tr>\n",
       "            <tr>\n",
       "                        <th id=\"T_ca50897a_edcf_11ed_9534_70c94eff7636level0_row146\" class=\"row_heading level0 row146\" >Cambodia</th>\n",
       "                        <td id=\"T_ca50897a_edcf_11ed_9534_70c94eff7636row146_col0\" class=\"data row146 col0\" >2020-05-15</td>\n",
       "                        <td id=\"T_ca50897a_edcf_11ed_9534_70c94eff7636row146_col1\" class=\"data row146 col1\" >122</td>\n",
       "                        <td id=\"T_ca50897a_edcf_11ed_9534_70c94eff7636row146_col2\" class=\"data row146 col2\" >0.000000</td>\n",
       "                        <td id=\"T_ca50897a_edcf_11ed_9534_70c94eff7636row146_col3\" class=\"data row146 col3\" >0.00</td>\n",
       "            </tr>\n",
       "            <tr>\n",
       "                        <th id=\"T_ca50897a_edcf_11ed_9534_70c94eff7636level0_row147\" class=\"row_heading level0 row147\" >Mozambique</th>\n",
       "                        <td id=\"T_ca50897a_edcf_11ed_9534_70c94eff7636row147_col0\" class=\"data row147 col0\" >2020-05-15</td>\n",
       "                        <td id=\"T_ca50897a_edcf_11ed_9534_70c94eff7636row147_col1\" class=\"data row147 col1\" >119</td>\n",
       "                        <td id=\"T_ca50897a_edcf_11ed_9534_70c94eff7636row147_col2\" class=\"data row147 col2\" >0.000000</td>\n",
       "                        <td id=\"T_ca50897a_edcf_11ed_9534_70c94eff7636row147_col3\" class=\"data row147 col3\" >0.36</td>\n",
       "            </tr>\n",
       "            <tr>\n",
       "                        <th id=\"T_ca50897a_edcf_11ed_9534_70c94eff7636level0_row148\" class=\"row_heading level0 row148\" >Trinidad and Tobago</th>\n",
       "                        <td id=\"T_ca50897a_edcf_11ed_9534_70c94eff7636row148_col0\" class=\"data row148 col0\" >2020-05-15</td>\n",
       "                        <td id=\"T_ca50897a_edcf_11ed_9534_70c94eff7636row148_col1\" class=\"data row148 col1\" >116</td>\n",
       "                        <td id=\"T_ca50897a_edcf_11ed_9534_70c94eff7636row148_col2\" class=\"data row148 col2\" >8.000000</td>\n",
       "                        <td id=\"T_ca50897a_edcf_11ed_9534_70c94eff7636row148_col3\" class=\"data row148 col3\" >0.00</td>\n",
       "            </tr>\n",
       "            <tr>\n",
       "                        <th id=\"T_ca50897a_edcf_11ed_9534_70c94eff7636level0_row149\" class=\"row_heading level0 row149\" >Guyana</th>\n",
       "                        <td id=\"T_ca50897a_edcf_11ed_9534_70c94eff7636row149_col0\" class=\"data row149 col0\" >2020-05-15</td>\n",
       "                        <td id=\"T_ca50897a_edcf_11ed_9534_70c94eff7636row149_col1\" class=\"data row149 col1\" >116</td>\n",
       "                        <td id=\"T_ca50897a_edcf_11ed_9534_70c94eff7636row149_col2\" class=\"data row149 col2\" >10.000000</td>\n",
       "                        <td id=\"T_ca50897a_edcf_11ed_9534_70c94eff7636row149_col3\" class=\"data row149 col3\" >0.00</td>\n",
       "            </tr>\n",
       "    </tbody></table>"
      ],
      "text/plain": [
       "<pandas.io.formats.style.Styler at 0x1bf5f62b5e0>"
      ]
     },
     "execution_count": 6,
     "metadata": {},
     "output_type": "execute_result"
    }
   ],
   "source": [
    "train_data_by_country = train_data.groupby(['Date','Country_Region'],as_index=False).agg({'ConfirmedCases': 'sum', 'Fatalities': 'sum',\n",
    "                                                                                         'GrowthRate':'last' })\n",
    "#display(train_data_by_country.tail(10))\n",
    "max_train_date = train_data['Date'].max()\n",
    "train_data_by_country_confirm = train_data_by_country.query('(Date == @max_train_date) & (ConfirmedCases > 100)').sort_values('ConfirmedCases', ascending=False)\n",
    "train_data_by_country_confirm.set_index('Country_Region', inplace=True)\n",
    "\n",
    "train_data_by_country_confirm.style.background_gradient(cmap='Reds').format({'ConfirmedCases': \"{:.0f}\", 'GrowthRate': \"{:.2f}\"})"
   ]
  },
  {
   "cell_type": "code",
   "execution_count": 7,
   "metadata": {},
   "outputs": [
    {
     "data": {
      "image/png": "[encoded data removed]",
      "text/plain": [
       "<Figure size 1440x1080 with 1 Axes>"
      ]
     },
     "metadata": {
      "needs_background": "light"
     },
     "output_type": "display_data"
    }
   ],
   "source": [
    "from itertools import cycle, islice\n",
    "discrete_col = list(islice(cycle(['orange', 'r', 'g', 'k', 'b', 'c', 'm']), None, len(train_data_by_country_confirm.head(30))))\n",
    "plt.rcParams.update({'font.size': 22})\n",
    "train_data_by_country_confirm.head(20).plot(figsize=(20,15), kind='barh', color=discrete_col)\n",
    "plt.legend([\"Confirmed Cases\", \"Fatalities\"]);\n",
    "plt.xlabel(\"Number of Covid-19 Affectees\")\n",
    "plt.title(\"First 20 Countries with Highest Confirmed Cases\")\n",
    "ylocs, ylabs = plt.yticks()\n",
    "for i, v in enumerate(train_data_by_country_confirm.head(20)[\"ConfirmedCases\"][:]):\n",
    "    plt.text(v+0.01, ylocs[i]-0.25, str(int(v)), fontsize=12)\n",
    "for i, v in enumerate(train_data_by_country_confirm.head(20)[\"Fatalities\"][:]):\n",
    "    if v > 0: #disply for only >300 fatalities\n",
    "        plt.text(v+0.01,ylocs[i]+0.1,str(int(v)),fontsize=12)  "
   ]
  },
  {
   "cell_type": "markdown",
   "metadata": {},
   "source": [
    "Trend by Date"
   ]
  },
  {
   "cell_type": "code",
   "execution_count": 8,
   "metadata": {},
   "outputs": [
    {
     "data": {
      "text/plain": [
       "<matplotlib.legend.Legend at 0x1bf63e3d460>"
      ]
     },
     "execution_count": 8,
     "metadata": {},
     "output_type": "execute_result"
    },
    {
     "data": {
      "image/png": "[encoded data removed]",
      "text/plain": [
       "<Figure size 1080x576 with 2 Axes>"
      ]
     },
     "metadata": {
      "needs_background": "light"
     },
     "output_type": "display_data"
    },
    {
     "data": {
      "image/png": "[encoded data removed]",
      "text/plain": [
       "<Figure size 1080x576 with 2 Axes>"
      ]
     },
     "metadata": {
      "needs_background": "light"
     },
     "output_type": "display_data"
    }
   ],
   "source": [
    "def reformat_time(reformat, ax):\n",
    "    ax.xaxis.set_major_locator(dates.WeekdayLocator())\n",
    "    ax.xaxis.set_major_formatter(dates.DateFormatter('%b %d'))    \n",
    "    if reformat: #reformat again if you wish\n",
    "        date_list = train_data_by_date.reset_index()[\"Date\"].tolist()\n",
    "        x_ticks = [dt.datetime.strftime(t,'%Y-%m-%d') for t in date_list]\n",
    "        x_ticks = [tick for i,tick in enumerate(x_ticks) if i%8==0 ]# split labels into same number of ticks as by pandas\n",
    "        ax.set_xticklabels(x_ticks, rotation=90)\n",
    "    # cosmetics\n",
    "    ax.yaxis.grid(linestyle='dotted')\n",
    "    ax.spines['right'].set_color('none')\n",
    "    ax.spines['top'].set_color('none')\n",
    "    ax.spines['left'].set_color('none')\n",
    "    ax.spines['bottom'].set_color('none')\n",
    "\n",
    "train_data['Date'] = pd.to_datetime(train_data['Date'])\n",
    "train_data_by_date = train_data.groupby(['Date'],as_index=True).agg({'ConfirmedCases': 'sum','Fatalities': 'sum', \n",
    "                                                                     'NewConfirmedCases':'sum', 'NewFatalities':'sum', 'MortalityRate':'mean'})\n",
    "num0 = train_data_by_date._get_numeric_data() \n",
    "num0[num0 < 0.0] = 0.0\n",
    "#display(train_data_by_date.head())\n",
    "\n",
    "## ======= Sort by countries with fatalities > 600 ========\n",
    "\n",
    "train_data_by_country_max = train_data.groupby(['Country_Region'],as_index=True).agg({'ConfirmedCases': 'max', 'Fatalities': 'max'})\n",
    "train_data_by_country_fatal = train_data_by_country_max[train_data_by_country_max['Fatalities']>600]\n",
    "train_data_by_country_fatal = train_data_by_country_fatal.sort_values(by=['Fatalities'],ascending=False).reset_index()\n",
    "#display(train_data_by_country_fatal.head(20))\n",
    "\n",
    "df_merge_by_country = pd.merge(train_data,train_data_by_country_fatal['Country_Region'],on=['Country_Region'],how='inner')\n",
    "df_max_fatality_country = df_merge_by_country.groupby(['Date','Country_Region'],as_index=False).agg({'ConfirmedCases': 'sum',\n",
    "                                                                                                     'Fatalities': 'sum',\n",
    "                                                                                                     'NewConfirmedCases':'sum',\n",
    "                                                                                                     'NewFatalities':'sum',\n",
    "                                                                                                     'MortalityRate':'mean'})\n",
    "\n",
    "num1 = df_max_fatality_country._get_numeric_data() \n",
    "num1[num1 < 0.0] = 0.0\n",
    "df_max_fatality_country.set_index('Date',inplace=True)\n",
    "#display(df_max_fatality_country.head(20))\n",
    "\n",
    "countries = train_data_by_country_fatal['Country_Region'].unique()\n",
    "\n",
    "plt.rcParams.update({'font.size': 16})\n",
    "\n",
    "fig,(ax0,ax1) = plt.subplots(1,2,figsize=(15, 8))\n",
    "fig,(ax2,ax3) = plt.subplots(1,2,figsize=(15, 8))#,sharey=True)\n",
    "\n",
    "train_data_by_date.ConfirmedCases.plot(ax=ax0, x_compat=True, title='Confirmed Cases Globally', legend='Confirmed Cases',\n",
    "                                       color=discrete_col)#, logy=True)\n",
    "reformat_time(0,ax0)\n",
    "train_data_by_date.NewConfirmedCases.plot(ax=ax0, x_compat=True, linestyle='dotted', legend='New Confirmed Cases',\n",
    "                                          color=discrete_col)#, logy=True)\n",
    "reformat_time(0,ax0)\n",
    "\n",
    "train_data_by_date.Fatalities.plot(ax=ax2, x_compat=True, title='Fatalities Globally', legend='Fatalities', color='r')\n",
    "reformat_time(0,ax2)\n",
    "train_data_by_date.NewFatalities.plot(ax=ax2, x_compat=True, linestyle='dotted', legend='Daily Deaths',color='r')#tell pandas not to use its own datetime format\n",
    "reformat_time(0,ax2)\n",
    "\n",
    "for country in countries:\n",
    "    match = df_max_fatality_country.Country_Region==country\n",
    "    df_fatality_by_country = df_max_fatality_country[match] \n",
    "    df_fatality_by_country.ConfirmedCases.plot(ax=ax1, x_compat=True, title='Confirmed Cases Nationally')\n",
    "    reformat_time(0,ax1)\n",
    "    df_fatality_by_country.Fatalities.plot(ax=ax3, x_compat=True, title='Fatalities Nationally')\n",
    "    reformat_time(0,ax3)\n",
    "    \n",
    "#ax1.legend(countries)\n",
    "#ax3.legend(countries)\n",
    "ax1.legend(countries, loc='center left',bbox_to_anchor=(1.0, 0.5))\n",
    "ax3.legend(countries, loc='center left',bbox_to_anchor=(1.0, 0.5))"
   ]
  },
  {
   "cell_type": "markdown",
   "metadata": {},
   "source": [
    "1. Confirmed Cases: It can be seen that a raise in maximum number of new cases appears in week of Feb 11-18, after which China reached its saturation point. Then a new sudden rise appears after March 24th, when the total new cases world wide crosses the total affectees in China alone.  \n",
    "2. Deaths: As can be seen, since March 11th, the death toll rises steeply due to extreme rise in European countires, specially Italy, Spain, France and UK, and as well as now in US. The average mortality rate in these countries below can explain the peaks in the global mortality rate."
   ]
  },
  {
   "cell_type": "code",
   "execution_count": 9,
   "metadata": {},
   "outputs": [
    {
     "data": {
      "text/plain": [
       "<matplotlib.legend.Legend at 0x1bf640b0220>"
      ]
     },
     "execution_count": 9,
     "metadata": {},
     "output_type": "execute_result"
    },
    {
     "data": {
      "text/plain": [
       "<Figure size 432x288 with 0 Axes>"
      ]
     },
     "metadata": {},
     "output_type": "display_data"
    },
    {
     "data": {
      "image/png": "[encoded data removed]",
      "text/plain": [
       "<Figure size 1440x576 with 2 Axes>"
      ]
     },
     "metadata": {
      "needs_background": "light"
     },
     "output_type": "display_data"
    }
   ],
   "source": [
    "fig = plt.figure()\n",
    "fig,(ax4,ax5) = plt.subplots(1,2,figsize=(20, 8))\n",
    "#train_data_by_date.loc[(train_data_by_date.ConfirmedCases > 200)]#useless, its already summed.\n",
    "train_data_by_date.MortalityRate.plot(ax=ax4, x_compat=True, legend='Mortality Rate',color='r')#tell pandas not to use its own datetime format\n",
    "reformat_time(0,ax4)\n",
    "\n",
    "for num, country in enumerate(countries):\n",
    "    match = df_max_fatality_country.Country_Region==country \n",
    "    df_fatality_by_country = df_max_fatality_country[match] \n",
    "    df_fatality_by_country.MortalityRate.plot(ax=ax5, x_compat=True, title='Average Mortality Rate Nationally')    \n",
    "    reformat_time(0,ax5)\n",
    "\n",
    "ax5.legend(countries, loc='center left',bbox_to_anchor=(1.0, 0.5))"
   ]
  },
  {
   "cell_type": "code",
   "execution_count": 10,
   "metadata": {},
   "outputs": [
    {
     "data": {
      "image/png": "[encoded data removed]",
      "text/plain": [
       "<Figure size 1080x720 with 1 Axes>"
      ]
     },
     "metadata": {
      "needs_background": "light"
     },
     "output_type": "display_data"
    }
   ],
   "source": [
    "train_data_by_max_date = train_data_by_country.query('(Date == @max_train_date) & (ConfirmedCases > 100)')\n",
    "train_data_by_max_date.loc[:, 'MortalityRate'] = train_data_by_max_date.loc[:,'Fatalities']/train_data_by_max_date.loc[:,'ConfirmedCases']\n",
    "train_data_by_mortality = train_data_by_max_date.sort_values('MortalityRate', ascending=False)\n",
    "train_data_by_mortality.set_index('Country_Region', inplace=True)\n",
    "#display(train_data_by_mortality.head())\n",
    "\n",
    "palette = plt.get_cmap('OrRd_r')\n",
    "rainbow_col = [palette(1.*i/20.0) for i in range(20)]\n",
    "\n",
    "train_data_by_mortality.MortalityRate.head(20).plot(figsize=(15,10), kind='barh', color=rainbow_col)\n",
    "plt.xlabel(\"Mortality Rate\")\n",
    "plt.title(\"First 20 Countries with Highest Mortality Rate\")\n",
    "ylocs, ylabs = plt.yticks()"
   ]
  },
  {
   "cell_type": "code",
   "execution_count": 11,
   "metadata": {},
   "outputs": [
    {
     "data": {
      "application/vnd.plotly.v1+json": {
       "config": {
        "plotlyServerURL": "https://plot.ly"
       },
       "data": [
        {
         "coloraxis": "coloraxis",
         "customdata": [
          [
           6053,
           153,
           0.025,
           1.002
          ],
          [
           916,
           31,
           0.034,
           1
          ],
          [
           6629,
           536,
           0.081,
           0.989
          ],
          [
           761,
           49,
           0.064,
           0
          ],
          [
           48,
           2,
           0.042,
           0
          ],
          [
           25,
           3,
           0.12,
           0
          ],
          [
           7479,
           356,
           0.048,
           1.353
          ],
          [
           4044,
           52,
           0.013,
           1.296
          ],
          [
           7035,
           98,
           0.014,
           0
          ],
          [
           16109,
           628,
           0.039,
           0.836
          ],
          [
           2980,
           36,
           0.012,
           0.835
          ],
          [
           96,
           11,
           0.115,
           0
          ],
          [
           6583,
           12,
           0.002,
           1.008
          ],
          [
           20065,
           298,
           0.015,
           1.155
          ],
          [
           85,
           7,
           0.082,
           0
          ],
          [
           27730,
           156,
           0.006,
           1.012
          ],
          [
           54644,
           8959,
           0.164,
           1.16
          ],
          [
           18,
           2,
           0.111,
           0
          ],
          [
           339,
           2,
           0.006,
           0
          ],
          [
           21,
           0,
           0,
           0.2
          ],
          [
           3577,
           164,
           0.046,
           0.915
          ],
          [
           2236,
           128,
           0.057,
           0.486
          ],
          [
           24,
           1,
           0.042,
           0
          ],
          [
           220291,
           14962,
           0.068,
           1.315
          ],
          [
           141,
           1,
           0.007,
           0
          ],
          [
           2138,
           102,
           0.048,
           1.226
          ],
          [
           780,
           51,
           0.065,
           0
          ],
          [
           182,
           6,
           0.033,
           0
          ],
          [
           15,
           1,
           0.067,
           0
          ],
          [
           326,
           2,
           0.006,
           0.423
          ],
          [
           122,
           0,
           0,
           0
          ],
          [
           3105,
           140,
           0.045,
           0.981
          ],
          [
           75945,
           5678,
           0.075,
           0
          ],
          [
           301,
           0,
           0,
           0
          ],
          [
           428,
           48,
           0.112,
           1.074
          ],
          [
           39542,
           394,
           0.01,
           0.941
          ],
          [
           84038,
           4637,
           0.055,
           0
          ],
          [
           14216,
           546,
           0.038,
           0.891
          ],
          [
           391,
           15,
           0.038,
           0
          ],
          [
           1298,
           50,
           0.039,
           0.767
          ],
          [
           843,
           9,
           0.011,
           0.867
          ],
          [
           2017,
           24,
           0.012,
           0.78
          ],
          [
           2222,
           95,
           0.043,
           0.125
          ],
          [
           1840,
           79,
           0.043,
           0.5
          ],
          [
           910,
           17,
           0.019,
           1.5
          ],
          [
           8406,
           295,
           0.035,
           0.671
          ],
          [
           10989,
           537,
           0.049,
           1.696
          ],
          [
           712,
           13,
           0.018,
           0
          ],
          [
           1309,
           4,
           0.003,
           1.562
          ],
          [
           16,
           0,
           0,
           0
          ],
          [
           11739,
           424,
           0.036,
           3.379
          ],
          [
           31467,
           2594,
           0.082,
           60.312
          ],
          [
           11228,
           592,
           0.053,
           1.003
          ],
          [
           1210,
           25,
           0.021,
           1.307
          ],
          [
           594,
           7,
           0.012,
           0.18
          ],
          [
           39,
           0,
           0,
           0
          ],
          [
           1766,
           63,
           0.036,
           1.143
          ],
          [
           190,
           2,
           0.011,
           0
          ],
          [
           287,
           5,
           0.017,
           1.667
          ],
          [
           18,
           0,
           0,
           0
          ],
          [
           6228,
           293,
           0.047,
           0.912
          ],
          [
           179630,
           27532,
           0.153,
           0.83
          ],
          [
           1209,
           10,
           0.008,
           1.05
          ],
          [
           23,
           1,
           0.043,
           0
          ],
          [
           671,
           12,
           0.018,
           0.2
          ],
          [
           175233,
           7897,
           0.045,
           1.987
          ],
          [
           5638,
           28,
           0.005,
           0.885
          ],
          [
           2810,
           160,
           0.057,
           4
          ],
          [
           22,
           0,
           0,
           0
          ],
          [
           1643,
           30,
           0.018,
           0.71
          ],
          [
           2473,
           15,
           0.006,
           0
          ],
          [
           913,
           3,
           0.003,
           0
          ],
          [
           116,
           10,
           0.086,
           0
          ],
          [
           310,
           20,
           0.065,
           0.949
          ],
          [
           12,
           0,
           0,
           0
          ],
          [
           2460,
           134,
           0.054,
           2.254
          ],
          [
           3417,
           442,
           0.129,
           0.949
          ],
          [
           1802,
           10,
           0.006,
           0
          ],
          [
           85784,
           2753,
           0.032,
           0.961
          ],
          [
           16496,
           1076,
           0.065,
           0.863
          ],
          [
           116635,
           6902,
           0.059,
           1.163
          ],
          [
           3193,
           117,
           0.037,
           0.45
          ],
          [
           23956,
           1518,
           0.063,
           0.303
          ],
          [
           16589,
           266,
           0.016,
           0.323
          ],
          [
           223885,
           31610,
           0.141,
           0.795
          ],
          [
           511,
           9,
           0.018,
           0
          ],
          [
           16203,
           713,
           0.044,
           1.169
          ],
          [
           596,
           9,
           0.015,
           2.5
          ],
          [
           5689,
           34,
           0.006,
           0.766
          ],
          [
           781,
           45,
           0.058,
           1.095
          ],
          [
           11037,
           262,
           0.024,
           0.704
          ],
          [
           944,
           29,
           0.031,
           0
          ],
          [
           12860,
           96,
           0.007,
           0.935
          ],
          [
           1111,
           14,
           0.013,
           0.763
          ],
          [
           19,
           0,
           0,
           0
          ],
          [
           970,
           19,
           0.02,
           0.727
          ],
          [
           891,
           26,
           0.029,
           0.625
          ],
          [
           219,
           20,
           0.091,
           2
          ],
          [
           64,
           3,
           0.047,
           0
          ],
          [
           82,
           1,
           0.012,
           0
          ],
          [
           1523,
           54,
           0.035,
           2
          ],
          [
           3923,
           104,
           0.027,
           0.727
          ],
          [
           9,
           2,
           0.222,
           0
          ],
          [
           238,
           0,
           0,
           0.444
          ],
          [
           63,
           3,
           0.048,
           0
          ],
          [
           6855,
           112,
           0.016,
           0.9
          ],
          [
           1031,
           4,
           0.004,
           1.815
          ],
          [
           806,
           46,
           0.057,
           1.286
          ],
          [
           532,
           6,
           0.011,
           0.714
          ],
          [
           29,
           3,
           0.103,
           1.8
          ],
          [
           332,
           10,
           0.03,
           0
          ],
          [
           45032,
           4767,
           0.106,
           1.012
          ],
          [
           5745,
           202,
           0.035,
           1.306
          ],
          [
           96,
           4,
           0.042,
           0
          ],
          [
           98,
           0,
           0,
           0
          ],
          [
           324,
           9,
           0.028,
           0
          ],
          [
           6652,
           190,
           0.029,
           0.474
          ],
          [
           119,
           0,
           0,
           0.364
          ],
          [
           16,
           0,
           0,
           0
          ],
          [
           267,
           0,
           0,
           -18
          ],
          [
           43880,
           5662,
           0.129,
           0.741
          ],
          [
           1498,
           21,
           0.014,
           0
          ],
          [
           25,
           8,
           0.32,
           0
          ],
          [
           885,
           51,
           0.058,
           0.562
          ],
          [
           5450,
           171,
           0.031,
           1.508
          ],
          [
           1740,
           97,
           0.056,
           0.586
          ],
          [
           8219,
           232,
           0.028,
           1.095
          ],
          [
           4625,
           20,
           0.004,
           0.882
          ],
          [
           38799,
           834,
           0.021,
           6.145
          ],
          [
           9268,
           266,
           0.029,
           0.862
          ],
          [
           8,
           0,
           0,
           0
          ],
          [
           759,
           11,
           0.014,
           0.357
          ],
          [
           84495,
           2392,
           0.028,
           0.905
          ],
          [
           12091,
           806,
           0.067,
           0.833
          ],
          [
           18016,
           907,
           0.05,
           0.976
          ],
          [
           28583,
           1190,
           0.042,
           1.412
          ],
          [
           29425,
           14,
           0,
           0.665
          ],
          [
           16437,
           1070,
           0.065,
           0.776
          ],
          [
           262843,
           2418,
           0.009,
           1.063
          ],
          [
           287,
           0,
           0,
           0
          ],
          [
           15,
           0,
           0,
           0
          ],
          [
           18,
           0,
           0,
           0
          ],
          [
           17,
           0,
           0,
           0
          ],
          [
           652,
           41,
           0.063,
           0.8
          ],
          [
           235,
           7,
           0.03,
           0
          ],
          [
           49176,
           292,
           0.006,
           1.131
          ],
          [
           2310,
           25,
           0.011,
           1.44
          ],
          [
           10438,
           225,
           0.022,
           0.81
          ],
          [
           11,
           0,
           0,
           0
          ],
          [
           447,
           27,
           0.06,
           1.857
          ],
          [
           26891,
           21,
           0.001,
           1.055
          ],
          [
           1480,
           27,
           0.018,
           0.375
          ],
          [
           1465,
           103,
           0.07,
           1
          ],
          [
           1284,
           53,
           0.041,
           0
          ],
          [
           13524,
           247,
           0.018,
           1.18
          ],
          [
           236,
           4,
           0.017,
           0
          ],
          [
           230183,
           27459,
           0.119,
           0.757
          ],
          [
           935,
           9,
           0.01,
           1
          ],
          [
           1964,
           91,
           0.046,
           0
          ],
          [
           10,
           1,
           0.1,
           0
          ],
          [
           29207,
           3646,
           0.125,
           0.929
          ],
          [
           30514,
           1878,
           0.062,
           1.02
          ],
          [
           50,
           3,
           0.06,
           0
          ],
          [
           440,
           7,
           0.016,
           0
          ],
          [
           509,
           21,
           0.041,
           0
          ],
          [
           3025,
           56,
           0.019,
           7
          ],
          [
           24,
           0,
           0,
           0
          ],
          [
           263,
           11,
           0.042,
           1.316
          ],
          [
           116,
           8,
           0.069,
           0
          ],
          [
           1035,
           45,
           0.043,
           0
          ],
          [
           146457,
           4055,
           0.028,
           1.045
          ],
          [
           1442653,
           87525,
           0.061,
           1.154
          ],
          [
           203,
           0,
           0,
           2.048
          ],
          [
           17330,
           476,
           0.027,
           1.145
          ],
          [
           21831,
           210,
           0.01,
           1.07
          ],
          [
           238004,
           34078,
           0.143,
           1.033
          ],
          [
           732,
           19,
           0.026,
           1.6
          ],
          [
           2686,
           11,
           0.004,
           1.242
          ],
          [
           459,
           10,
           0.022,
           0.125
          ],
          [
           314,
           0,
           0,
           0.083
          ],
          [
           375,
           2,
           0.005,
           0
          ],
          [
           6,
           0,
           0,
           0
          ],
          [
           654,
           7,
           0.011,
           0
          ],
          [
           42,
           4,
           0.095,
           0
          ]
         ],
         "geo": "geo",
         "hovertemplate": "<b>%{hovertext}</b><br><br>Country_Region=%{location}<br>ConfirmedCases=%{customdata[0]}<br>Fatalities=%{customdata[1]}<br>MortalityRate=%{customdata[2]}<br>GrowthFactor=%{customdata[3]}<br>Confirmed_log=%{z}<extra></extra>",
         "hovertext": [
          "Afghanistan",
          "Albania",
          "Algeria",
          "Andorra",
          "Angola",
          "Antigua and Barbuda",
          "Argentina",
          "Armenia",
          "Australia",
          "Austria",
          "Azerbaijan",
          "Bahamas",
          "Bahrain",
          "Bangladesh",
          "Barbados",
          "Belarus",
          "Belgium",
          "Belize",
          "Benin",
          "Bhutan",
          "Bolivia",
          "Bosnia and Herzegovina",
          "Botswana",
          "Brazil",
          "Brunei",
          "Bulgaria",
          "Burkina Faso",
          "Burma",
          "Burundi",
          "Cabo Verde",
          "Cambodia",
          "Cameroon",
          "Canada",
          "Central African Republic",
          "Chad",
          "Chile",
          "China",
          "Colombia",
          "Congo (Brazzaville)",
          "Congo (Kinshasa)",
          "Costa Rica",
          "Cote d'Ivoire",
          "Croatia",
          "Cuba",
          "Cyprus",
          "Czechia",
          "Denmark",
          "Diamond Princess",
          "Djibouti",
          "Dominica",
          "Dominican Republic",
          "Ecuador",
          "Egypt",
          "El Salvador",
          "Equatorial Guinea",
          "Eritrea",
          "Estonia",
          "Eswatini",
          "Ethiopia",
          "Fiji",
          "Finland",
          "France",
          "Gabon",
          "Gambia",
          "Georgia",
          "Germany",
          "Ghana",
          "Greece",
          "Grenada",
          "Guatemala",
          "Guinea",
          "Guinea-Bissau",
          "Guyana",
          "Haiti",
          "Holy See",
          "Honduras",
          "Hungary",
          "Iceland",
          "India",
          "Indonesia",
          "Iran",
          "Iraq",
          "Ireland",
          "Israel",
          "Italy",
          "Jamaica",
          "Japan",
          "Jordan",
          "Kazakhstan",
          "Kenya",
          "Korea, South",
          "Kosovo",
          "Kuwait",
          "Kyrgyzstan",
          "Laos",
          "Latvia",
          "Lebanon",
          "Liberia",
          "Libya",
          "Liechtenstein",
          "Lithuania",
          "Luxembourg",
          "MS Zaandam",
          "Madagascar",
          "Malawi",
          "Malaysia",
          "Maldives",
          "Mali",
          "Malta",
          "Mauritania",
          "Mauritius",
          "Mexico",
          "Moldova",
          "Monaco",
          "Mongolia",
          "Montenegro",
          "Morocco",
          "Mozambique",
          "Namibia",
          "Nepal",
          "Netherlands",
          "New Zealand",
          "Nicaragua",
          "Niger",
          "Nigeria",
          "North Macedonia",
          "Norway",
          "Oman",
          "Pakistan",
          "Panama",
          "Papua New Guinea",
          "Paraguay",
          "Peru",
          "Philippines",
          "Poland",
          "Portugal",
          "Qatar",
          "Romania",
          "Russia",
          "Rwanda",
          "Saint Kitts and Nevis",
          "Saint Lucia",
          "Saint Vincent and the Grenadines",
          "San Marino",
          "Sao Tome and Principe",
          "Saudi Arabia",
          "Senegal",
          "Serbia",
          "Seychelles",
          "Sierra Leone",
          "Singapore",
          "Slovakia",
          "Slovenia",
          "Somalia",
          "South Africa",
          "South Sudan",
          "Spain",
          "Sri Lanka",
          "Sudan",
          "Suriname",
          "Sweden",
          "Switzerland",
          "Syria",
          "Taiwan*",
          "Tanzania",
          "Thailand",
          "Timor-Leste",
          "Togo",
          "Trinidad and Tobago",
          "Tunisia",
          "Turkey",
          "US",
          "Uganda",
          "Ukraine",
          "United Arab Emirates",
          "United Kingdom",
          "Uruguay",
          "Uzbekistan",
          "Venezuela",
          "Vietnam",
          "West Bank and Gaza",
          "Western Sahara",
          "Zambia",
          "Zimbabwe"
         ],
         "locationmode": "country names",
         "locations": [
          "Afghanistan",
          "Albania",
          "Algeria",
          "Andorra",
          "Angola",
          "Antigua and Barbuda",
          "Argentina",
          "Armenia",
          "Australia",
          "Austria",
          "Azerbaijan",
          "Bahamas",
          "Bahrain",
          "Bangladesh",
          "Barbados",
          "Belarus",
          "Belgium",
          "Belize",
          "Benin",
          "Bhutan",
          "Bolivia",
          "Bosnia and Herzegovina",
          "Botswana",
          "Brazil",
          "Brunei",
          "Bulgaria",
          "Burkina Faso",
          "Burma",
          "Burundi",
          "Cabo Verde",
          "Cambodia",
          "Cameroon",
          "Canada",
          "Central African Republic",
          "Chad",
          "Chile",
          "China",
          "Colombia",
          "Congo (Brazzaville)",
          "Congo (Kinshasa)",
          "Costa Rica",
          "Cote d'Ivoire",
          "Croatia",
          "Cuba",
          "Cyprus",
          "Czechia",
          "Denmark",
          "Diamond Princess",
          "Djibouti",
          "Dominica",
          "Dominican Republic",
          "Ecuador",
          "Egypt",
          "El Salvador",
          "Equatorial Guinea",
          "Eritrea",
          "Estonia",
          "Eswatini",
          "Ethiopia",
          "Fiji",
          "Finland",
          "France",
          "Gabon",
          "Gambia",
          "Georgia",
          "Germany",
          "Ghana",
          "Greece",
          "Grenada",
          "Guatemala",
          "Guinea",
          "Guinea-Bissau",
          "Guyana",
          "Haiti",
          "Holy See",
          "Honduras",
          "Hungary",
          "Iceland",
          "India",
          "Indonesia",
          "Iran",
          "Iraq",
          "Ireland",
          "Israel",
          "Italy",
          "Jamaica",
          "Japan",
          "Jordan",
          "Kazakhstan",
          "Kenya",
          "Korea, South",
          "Kosovo",
          "Kuwait",
          "Kyrgyzstan",
          "Laos",
          "Latvia",
          "Lebanon",
          "Liberia",
          "Libya",
          "Liechtenstein",
          "Lithuania",
          "Luxembourg",
          "MS Zaandam",
          "Madagascar",
          "Malawi",
          "Malaysia",
          "Maldives",
          "Mali",
          "Malta",
          "Mauritania",
          "Mauritius",
          "Mexico",
          "Moldova",
          "Monaco",
          "Mongolia",
          "Montenegro",
          "Morocco",
          "Mozambique",
          "Namibia",
          "Nepal",
          "Netherlands",
          "New Zealand",
          "Nicaragua",
          "Niger",
          "Nigeria",
          "North Macedonia",
          "Norway",
          "Oman",
          "Pakistan",
          "Panama",
          "Papua New Guinea",
          "Paraguay",
          "Peru",
          "Philippines",
          "Poland",
          "Portugal",
          "Qatar",
          "Romania",
          "Russia",
          "Rwanda",
          "Saint Kitts and Nevis",
          "Saint Lucia",
          "Saint Vincent and the Grenadines",
          "San Marino",
          "Sao Tome and Principe",
          "Saudi Arabia",
          "Senegal",
          "Serbia",
          "Seychelles",
          "Sierra Leone",
          "Singapore",
          "Slovakia",
          "Slovenia",
          "Somalia",
          "South Africa",
          "South Sudan",
          "Spain",
          "Sri Lanka",
          "Sudan",
          "Suriname",
          "Sweden",
          "Switzerland",
          "Syria",
          "Taiwan*",
          "Tanzania",
          "Thailand",
          "Timor-Leste",
          "Togo",
          "Trinidad and Tobago",
          "Tunisia",
          "Turkey",
          "US",
          "Uganda",
          "Ukraine",
          "United Arab Emirates",
          "United Kingdom",
          "Uruguay",
          "Uzbekistan",
          "Venezuela",
          "Vietnam",
          "West Bank and Gaza",
          "Western Sahara",
          "Zambia",
          "Zimbabwe"
         ],
         "name": "",
         "type": "choropleth",
         "z": [
          3.782,
          2.962,
          3.822,
          2.882,
          1.69,
          1.415,
          3.874,
          3.607,
          3.847,
          4.207,
          3.474,
          1.987,
          3.818,
          4.302,
          1.934,
          4.443,
          4.738,
          1.279,
          2.531,
          1.342,
          3.554,
          3.35,
          1.398,
          5.343,
          2.152,
          3.33,
          2.893,
          2.262,
          1.204,
          2.515,
          2.09,
          3.492,
          4.881,
          2.48,
          2.632,
          4.597,
          4.924,
          4.153,
          2.593,
          3.114,
          2.926,
          3.305,
          3.347,
          3.265,
          2.96,
          3.925,
          4.041,
          2.853,
          3.117,
          1.23,
          4.07,
          4.498,
          4.05,
          3.083,
          2.775,
          1.602,
          3.247,
          2.281,
          2.459,
          1.279,
          3.794,
          5.254,
          3.083,
          1.38,
          2.827,
          5.244,
          3.751,
          3.449,
          1.362,
          3.216,
          3.393,
          2.961,
          2.068,
          2.493,
          1.114,
          3.391,
          3.534,
          3.256,
          4.933,
          4.217,
          5.067,
          3.504,
          4.379,
          4.22,
          5.35,
          2.709,
          4.21,
          2.776,
          3.755,
          2.893,
          4.043,
          2.975,
          4.109,
          3.046,
          1.301,
          2.987,
          2.95,
          2.342,
          1.813,
          1.919,
          3.183,
          3.594,
          1,
          2.378,
          1.806,
          3.836,
          3.014,
          2.907,
          2.727,
          1.477,
          2.522,
          4.654,
          3.759,
          1.987,
          1.996,
          2.512,
          3.823,
          2.079,
          1.23,
          2.428,
          4.642,
          3.176,
          1.415,
          2.947,
          3.736,
          3.241,
          3.915,
          3.665,
          4.589,
          3.967,
          0.954,
          2.881,
          4.927,
          4.082,
          4.256,
          4.456,
          4.469,
          4.216,
          5.42,
          2.459,
          1.204,
          1.279,
          1.255,
          2.815,
          2.373,
          4.692,
          3.364,
          4.019,
          1.079,
          2.651,
          4.43,
          3.171,
          3.166,
          3.109,
          4.131,
          2.375,
          5.362,
          2.971,
          3.293,
          1.041,
          4.466,
          4.485,
          1.708,
          2.644,
          2.708,
          3.481,
          1.398,
          2.422,
          2.068,
          3.015,
          5.166,
          6.159,
          2.31,
          4.239,
          4.339,
          5.377,
          2.865,
          3.429,
          2.663,
          2.498,
          2.575,
          0.845,
          2.816,
          1.633
         ]
        }
       ],
       "layout": {
        "coloraxis": {
         "cmax": 6.159,
         "cmin": 0.845,
         "colorbar": {
          "title": {
           "text": "Confirmed_log"
          }
         },
         "colorscale": [
          [
           0,
           "#0d0887"
          ],
          [
           0.1111111111111111,
           "#46039f"
          ],
          [
           0.2222222222222222,
           "#7201a8"
          ],
          [
           0.3333333333333333,
           "#9c179e"
          ],
          [
           0.4444444444444444,
           "#bd3786"
          ],
          [
           0.5555555555555556,
           "#d8576b"
          ],
          [
           0.6666666666666666,
           "#ed7953"
          ],
          [
           0.7777777777777778,
           "#fb9f3a"
          ],
          [
           0.8888888888888888,
           "#fdca26"
          ],
          [
           1,
           "#f0f921"
          ]
         ]
        },
        "geo": {
         "center": {},
         "domain": {
          "x": [
           0,
           1
          ],
          "y": [
           0,
           1
          ]
         }
        },
        "legend": {
         "tracegroupgap": 0
        },
        "template": {
         "data": {
          "bar": [
           {
            "error_x": {
             "color": "#2a3f5f"
            },
            "error_y": {
             "color": "#2a3f5f"
            },
            "marker": {
             "line": {
              "color": "#E5ECF6",
              "width": 0.5
             },
             "pattern": {
              "fillmode": "overlay",
              "size": 10,
              "solidity": 0.2
             }
            },
            "type": "bar"
           }
          ],
          "barpolar": [
           {
            "marker": {
             "line": {
              "color": "#E5ECF6",
              "width": 0.5
             },
             "pattern": {
              "fillmode": "overlay",
              "size": 10,
              "solidity": 0.2
             }
            },
            "type": "barpolar"
           }
          ],
          "carpet": [
           {
            "aaxis": {
             "endlinecolor": "#2a3f5f",
             "gridcolor": "white",
             "linecolor": "white",
             "minorgridcolor": "white",
             "startlinecolor": "#2a3f5f"
            },
            "baxis": {
             "endlinecolor": "#2a3f5f",
             "gridcolor": "white",
             "linecolor": "white",
             "minorgridcolor": "white",
             "startlinecolor": "#2a3f5f"
            },
            "type": "carpet"
           }
          ],
          "choropleth": [
           {
            "colorbar": {
             "outlinewidth": 0,
             "ticks": ""
            },
            "type": "choropleth"
           }
          ],
          "contour": [
           {
            "colorbar": {
             "outlinewidth": 0,
             "ticks": ""
            },
            "colorscale": [
             [
              0,
              "#0d0887"
             ],
             [
              0.1111111111111111,
              "#46039f"
             ],
             [
              0.2222222222222222,
              "#7201a8"
             ],
             [
              0.3333333333333333,
              "#9c179e"
             ],
             [
              0.4444444444444444,
              "#bd3786"
             ],
             [
              0.5555555555555556,
              "#d8576b"
             ],
             [
              0.6666666666666666,
              "#ed7953"
             ],
             [
              0.7777777777777778,
              "#fb9f3a"
             ],
             [
              0.8888888888888888,
              "#fdca26"
             ],
             [
              1,
              "#f0f921"
             ]
            ],
            "type": "contour"
           }
          ],
          "contourcarpet": [
           {
            "colorbar": {
             "outlinewidth": 0,
             "ticks": ""
            },
            "type": "contourcarpet"
           }
          ],
          "heatmap": [
           {
            "colorbar": {
             "outlinewidth": 0,
             "ticks": ""
            },
            "colorscale": [
             [
              0,
              "#0d0887"
             ],
             [
              0.1111111111111111,
              "#46039f"
             ],
             [
              0.2222222222222222,
              "#7201a8"
             ],
             [
              0.3333333333333333,
              "#9c179e"
             ],
             [
              0.4444444444444444,
              "#bd3786"
             ],
             [
              0.5555555555555556,
              "#d8576b"
             ],
             [
              0.6666666666666666,
              "#ed7953"
             ],
             [
              0.7777777777777778,
              "#fb9f3a"
             ],
             [
              0.8888888888888888,
              "#fdca26"
             ],
             [
              1,
              "#f0f921"
             ]
            ],
            "type": "heatmap"
           }
          ],
          "heatmapgl": [
           {
            "colorbar": {
             "outlinewidth": 0,
             "ticks": ""
            },
            "colorscale": [
             [
              0,
              "#0d0887"
             ],
             [
              0.1111111111111111,
              "#46039f"
             ],
             [
              0.2222222222222222,
              "#7201a8"
             ],
             [
              0.3333333333333333,
              "#9c179e"
             ],
             [
              0.4444444444444444,
              "#bd3786"
             ],
             [
              0.5555555555555556,
              "#d8576b"
             ],
             [
              0.6666666666666666,
              "#ed7953"
             ],
             [
              0.7777777777777778,
              "#fb9f3a"
             ],
             [
              0.8888888888888888,
              "#fdca26"
             ],
             [
              1,
              "#f0f921"
             ]
            ],
            "type": "heatmapgl"
           }
          ],
          "histogram": [
           {
            "marker": {
             "pattern": {
              "fillmode": "overlay",
              "size": 10,
              "solidity": 0.2
             }
            },
            "type": "histogram"
           }
          ],
          "histogram2d": [
           {
            "colorbar": {
             "outlinewidth": 0,
             "ticks": ""
            },
            "colorscale": [
             [
              0,
              "#0d0887"
             ],
             [
              0.1111111111111111,
              "#46039f"
             ],
             [
              0.2222222222222222,
              "#7201a8"
             ],
             [
              0.3333333333333333,
              "#9c179e"
             ],
             [
              0.4444444444444444,
              "#bd3786"
             ],
             [
              0.5555555555555556,
              "#d8576b"
             ],
             [
              0.6666666666666666,
              "#ed7953"
             ],
             [
              0.7777777777777778,
              "#fb9f3a"
             ],
             [
              0.8888888888888888,
              "#fdca26"
             ],
             [
              1,
              "#f0f921"
             ]
            ],
            "type": "histogram2d"
           }
          ],
          "histogram2dcontour": [
           {
            "colorbar": {
             "outlinewidth": 0,
             "ticks": ""
            },
            "colorscale": [
             [
              0,
              "#0d0887"
             ],
             [
              0.1111111111111111,
              "#46039f"
             ],
             [
              0.2222222222222222,
              "#7201a8"
             ],
             [
              0.3333333333333333,
              "#9c179e"
             ],
             [
              0.4444444444444444,
              "#bd3786"
             ],
             [
              0.5555555555555556,
              "#d8576b"
             ],
             [
              0.6666666666666666,
              "#ed7953"
             ],
             [
              0.7777777777777778,
              "#fb9f3a"
             ],
             [
              0.8888888888888888,
              "#fdca26"
             ],
             [
              1,
              "#f0f921"
             ]
            ],
            "type": "histogram2dcontour"
           }
          ],
          "mesh3d": [
           {
            "colorbar": {
             "outlinewidth": 0,
             "ticks": ""
            },
            "type": "mesh3d"
           }
          ],
          "parcoords": [
           {
            "line": {
             "colorbar": {
              "outlinewidth": 0,
              "ticks": ""
             }
            },
            "type": "parcoords"
           }
          ],
          "pie": [
           {
            "automargin": true,
            "type": "pie"
           }
          ],
          "scatter": [
           {
            "fillpattern": {
             "fillmode": "overlay",
             "size": 10,
             "solidity": 0.2
            },
            "type": "scatter"
           }
          ],
          "scatter3d": [
           {
            "line": {
             "colorbar": {
              "outlinewidth": 0,
              "ticks": ""
             }
            },
            "marker": {
             "colorbar": {
              "outlinewidth": 0,
              "ticks": ""
             }
            },
            "type": "scatter3d"
           }
          ],
          "scattercarpet": [
           {
            "marker": {
             "colorbar": {
              "outlinewidth": 0,
              "ticks": ""
             }
            },
            "type": "scattercarpet"
           }
          ],
          "scattergeo": [
           {
            "marker": {
             "colorbar": {
              "outlinewidth": 0,
              "ticks": ""
             }
            },
            "type": "scattergeo"
           }
          ],
          "scattergl": [
           {
            "marker": {
             "colorbar": {
              "outlinewidth": 0,
              "ticks": ""
             }
            },
            "type": "scattergl"
           }
          ],
          "scattermapbox": [
           {
            "marker": {
             "colorbar": {
              "outlinewidth": 0,
              "ticks": ""
             }
            },
            "type": "scattermapbox"
           }
          ],
          "scatterpolar": [
           {
            "marker": {
             "colorbar": {
              "outlinewidth": 0,
              "ticks": ""
             }
            },
            "type": "scatterpolar"
           }
          ],
          "scatterpolargl": [
           {
            "marker": {
             "colorbar": {
              "outlinewidth": 0,
              "ticks": ""
             }
            },
            "type": "scatterpolargl"
           }
          ],
          "scatterternary": [
           {
            "marker": {
             "colorbar": {
              "outlinewidth": 0,
              "ticks": ""
             }
            },
            "type": "scatterternary"
           }
          ],
          "surface": [
           {
            "colorbar": {
             "outlinewidth": 0,
             "ticks": ""
            },
            "colorscale": [
             [
              0,
              "#0d0887"
             ],
             [
              0.1111111111111111,
              "#46039f"
             ],
             [
              0.2222222222222222,
              "#7201a8"
             ],
             [
              0.3333333333333333,
              "#9c179e"
             ],
             [
              0.4444444444444444,
              "#bd3786"
             ],
             [
              0.5555555555555556,
              "#d8576b"
             ],
             [
              0.6666666666666666,
              "#ed7953"
             ],
             [
              0.7777777777777778,
              "#fb9f3a"
             ],
             [
              0.8888888888888888,
              "#fdca26"
             ],
             [
              1,
              "#f0f921"
             ]
            ],
            "type": "surface"
           }
          ],
          "table": [
           {
            "cells": {
             "fill": {
              "color": "#EBF0F8"
             },
             "line": {
              "color": "white"
             }
            },
            "header": {
             "fill": {
              "color": "#C8D4E3"
             },
             "line": {
              "color": "white"
             }
            },
            "type": "table"
           }
          ]
         },
         "layout": {
          "annotationdefaults": {
           "arrowcolor": "#2a3f5f",
           "arrowhead": 0,
           "arrowwidth": 1
          },
          "autotypenumbers": "strict",
          "coloraxis": {
           "colorbar": {
            "outlinewidth": 0,
            "ticks": ""
           }
          },
          "colorscale": {
           "diverging": [
            [
             0,
             "#8e0152"
            ],
            [
             0.1,
             "#c51b7d"
            ],
            [
             0.2,
             "#de77ae"
            ],
            [
             0.3,
             "#f1b6da"
            ],
            [
             0.4,
             "#fde0ef"
            ],
            [
             0.5,
             "#f7f7f7"
            ],
            [
             0.6,
             "#e6f5d0"
            ],
            [
             0.7,
             "#b8e186"
            ],
            [
             0.8,
             "#7fbc41"
            ],
            [
             0.9,
             "#4d9221"
            ],
            [
             1,
             "#276419"
            ]
           ],
           "sequential": [
            [
             0,
             "#0d0887"
            ],
            [
             0.1111111111111111,
             "#46039f"
            ],
            [
             0.2222222222222222,
             "#7201a8"
            ],
            [
             0.3333333333333333,
             "#9c179e"
            ],
            [
             0.4444444444444444,
             "#bd3786"
            ],
            [
             0.5555555555555556,
             "#d8576b"
            ],
            [
             0.6666666666666666,
             "#ed7953"
            ],
            [
             0.7777777777777778,
             "#fb9f3a"
            ],
            [
             0.8888888888888888,
             "#fdca26"
            ],
            [
             1,
             "#f0f921"
            ]
           ],
           "sequentialminus": [
            [
             0,
             "#0d0887"
            ],
            [
             0.1111111111111111,
             "#46039f"
            ],
            [
             0.2222222222222222,
             "#7201a8"
            ],
            [
             0.3333333333333333,
             "#9c179e"
            ],
            [
             0.4444444444444444,
             "#bd3786"
            ],
            [
             0.5555555555555556,
             "#d8576b"
            ],
            [
             0.6666666666666666,
             "#ed7953"
            ],
            [
             0.7777777777777778,
             "#fb9f3a"
            ],
            [
             0.8888888888888888,
             "#fdca26"
            ],
            [
             1,
             "#f0f921"
            ]
           ]
          },
          "colorway": [
           "#636efa",
           "#EF553B",
           "#00cc96",
           "#ab63fa",
           "#FFA15A",
           "#19d3f3",
           "#FF6692",
           "#B6E880",
           "#FF97FF",
           "#FECB52"
          ],
          "font": {
           "color": "#2a3f5f"
          },
          "geo": {
           "bgcolor": "white",
           "lakecolor": "white",
           "landcolor": "#E5ECF6",
           "showlakes": true,
           "showland": true,
           "subunitcolor": "white"
          },
          "hoverlabel": {
           "align": "left"
          },
          "hovermode": "closest",
          "mapbox": {
           "style": "light"
          },
          "paper_bgcolor": "white",
          "plot_bgcolor": "#E5ECF6",
          "polar": {
           "angularaxis": {
            "gridcolor": "white",
            "linecolor": "white",
            "ticks": ""
           },
           "bgcolor": "#E5ECF6",
           "radialaxis": {
            "gridcolor": "white",
            "linecolor": "white",
            "ticks": ""
           }
          },
          "scene": {
           "xaxis": {
            "backgroundcolor": "#E5ECF6",
            "gridcolor": "white",
            "gridwidth": 2,
            "linecolor": "white",
            "showbackground": true,
            "ticks": "",
            "zerolinecolor": "white"
           },
           "yaxis": {
            "backgroundcolor": "#E5ECF6",
            "gridcolor": "white",
            "gridwidth": 2,
            "linecolor": "white",
            "showbackground": true,
            "ticks": "",
            "zerolinecolor": "white"
           },
           "zaxis": {
            "backgroundcolor": "#E5ECF6",
            "gridcolor": "white",
            "gridwidth": 2,
            "linecolor": "white",
            "showbackground": true,
            "ticks": "",
            "zerolinecolor": "white"
           }
          },
          "shapedefaults": {
           "line": {
            "color": "#2a3f5f"
           }
          },
          "ternary": {
           "aaxis": {
            "gridcolor": "white",
            "linecolor": "white",
            "ticks": ""
           },
           "baxis": {
            "gridcolor": "white",
            "linecolor": "white",
            "ticks": ""
           },
           "bgcolor": "#E5ECF6",
           "caxis": {
            "gridcolor": "white",
            "linecolor": "white",
            "ticks": ""
           }
          },
          "title": {
           "x": 0.05
          },
          "xaxis": {
           "automargin": true,
           "gridcolor": "white",
           "linecolor": "white",
           "ticks": "",
           "title": {
            "standoff": 15
           },
           "zerolinecolor": "white",
           "zerolinewidth": 2
          },
          "yaxis": {
           "automargin": true,
           "gridcolor": "white",
           "linecolor": "white",
           "ticks": "",
           "title": {
            "standoff": 15
           },
           "zerolinecolor": "white",
           "zerolinewidth": 2
          }
         }
        },
        "title": {
         "text": "COVID-19: Confirmed Cases"
        }
       }
      },
      "text/html": [
       "<div>                            <div id=\"46e29788-9521-4c51-893e-12bf23f57be3\" class=\"plotly-graph-div\" style=\"height:525px; width:100%;\"></div>            <script type=\"text/javascript\">                require([\"plotly\"], function(Plotly) {                    window.PLOTLYENV=window.PLOTLYENV || {};                                    if (document.getElementById(\"46e29788-9521-4c51-893e-12bf23f57be3\")) {                    Plotly.newPlot(                        \"46e29788-9521-4c51-893e-12bf23f57be3\",                        [{\"coloraxis\":\"coloraxis\",\"customdata\":[[6053.0,153.0,0.025,1.002],[916.0,31.0,0.034,1.0],[6629.0,536.0,0.081,0.989],[761.0,49.0,0.064,0.0],[48.0,2.0,0.042,0.0],[25.0,3.0,0.12,0.0],[7479.0,356.0,0.048,1.353],[4044.0,52.0,0.013,1.296],[7035.0,98.0,0.014,0.0],[16109.0,628.0,0.039,0.836],[2980.0,36.0,0.012,0.835],[96.0,11.0,0.115,0.0],[6583.0,12.0,0.002,1.008],[20065.0,298.0,0.015,1.155],[85.0,7.0,0.082,0.0],[27730.0,156.0,0.006,1.012],[54644.0,8959.0,0.164,1.16],[18.0,2.0,0.111,0.0],[339.0,2.0,0.006,0.0],[21.0,0.0,0.0,0.2],[3577.0,164.0,0.046,0.915],[2236.0,128.0,0.057,0.486],[24.0,1.0,0.042,0.0],[220291.0,14962.0,0.068,1.315],[141.0,1.0,0.007,0.0],[2138.0,102.0,0.048,1.226],[780.0,51.0,0.065,0.0],[182.0,6.0,0.033,0.0],[15.0,1.0,0.067,0.0],[326.0,2.0,0.006,0.423],[122.0,0.0,0.0,0.0],[3105.0,140.0,0.045,0.981],[75945.0,5678.0,0.075,0.0],[301.0,0.0,0.0,0.0],[428.0,48.0,0.112,1.074],[39542.0,394.0,0.01,0.941],[84038.0,4637.0,0.055,0.0],[14216.0,546.0,0.038,0.891],[391.0,15.0,0.038,0.0],[1298.0,50.0,0.039,0.767],[843.0,9.0,0.011,0.867],[2017.0,24.0,0.012,0.78],[2222.0,95.0,0.043,0.125],[1840.0,79.0,0.043,0.5],[910.0,17.0,0.019,1.5],[8406.0,295.0,0.035,0.671],[10989.0,537.0,0.049,1.696],[712.0,13.0,0.018,0.0],[1309.0,4.0,0.003,1.562],[16.0,0.0,0.0,0.0],[11739.0,424.0,0.036,3.379],[31467.0,2594.0,0.082,60.312],[11228.0,592.0,0.053,1.003],[1210.0,25.0,0.021,1.307],[594.0,7.0,0.012,0.18],[39.0,0.0,0.0,0.0],[1766.0,63.0,0.036,1.143],[190.0,2.0,0.011,0.0],[287.0,5.0,0.017,1.667],[18.0,0.0,0.0,0.0],[6228.0,293.0,0.047,0.912],[179630.0,27532.0,0.153,0.83],[1209.0,10.0,0.008,1.05],[23.0,1.0,0.043,0.0],[671.0,12.0,0.018,0.2],[175233.0,7897.0,0.045,1.987],[5638.0,28.0,0.005,0.885],[2810.0,160.0,0.057,4.0],[22.0,0.0,0.0,0.0],[1643.0,30.0,0.018,0.71],[2473.0,15.0,0.006,0.0],[913.0,3.0,0.003,0.0],[116.0,10.0,0.086,0.0],[310.0,20.0,0.065,0.949],[12.0,0.0,0.0,0.0],[2460.0,134.0,0.054,2.254],[3417.0,442.0,0.129,0.949],[1802.0,10.0,0.006,0.0],[85784.0,2753.0,0.032,0.961],[16496.0,1076.0,0.065,0.863],[116635.0,6902.0,0.059,1.163],[3193.0,117.0,0.037,0.45],[23956.0,1518.0,0.063,0.303],[16589.0,266.0,0.016,0.323],[223885.0,31610.0,0.141,0.795],[511.0,9.0,0.018,0.0],[16203.0,713.0,0.044,1.169],[596.0,9.0,0.015,2.5],[5689.0,34.0,0.006,0.766],[781.0,45.0,0.058,1.095],[11037.0,262.0,0.024,0.704],[944.0,29.0,0.031,0.0],[12860.0,96.0,0.007,0.935],[1111.0,14.0,0.013,0.763],[19.0,0.0,0.0,0.0],[970.0,19.0,0.02,0.727],[891.0,26.0,0.029,0.625],[219.0,20.0,0.091,2.0],[64.0,3.0,0.047,0.0],[82.0,1.0,0.012,0.0],[1523.0,54.0,0.035,2.0],[3923.0,104.0,0.027,0.727],[9.0,2.0,0.222,0.0],[238.0,0.0,0.0,0.444],[63.0,3.0,0.048,0.0],[6855.0,112.0,0.016,0.9],[1031.0,4.0,0.004,1.815],[806.0,46.0,0.057,1.286],[532.0,6.0,0.011,0.714],[29.0,3.0,0.103,1.8],[332.0,10.0,0.03,0.0],[45032.0,4767.0,0.106,1.012],[5745.0,202.0,0.035,1.306],[96.0,4.0,0.042,0.0],[98.0,0.0,0.0,0.0],[324.0,9.0,0.028,0.0],[6652.0,190.0,0.029,0.474],[119.0,0.0,0.0,0.364],[16.0,0.0,0.0,0.0],[267.0,0.0,0.0,-18.0],[43880.0,5662.0,0.129,0.741],[1498.0,21.0,0.014,0.0],[25.0,8.0,0.32,0.0],[885.0,51.0,0.058,0.562],[5450.0,171.0,0.031,1.508],[1740.0,97.0,0.056,0.586],[8219.0,232.0,0.028,1.095],[4625.0,20.0,0.004,0.882],[38799.0,834.0,0.021,6.145],[9268.0,266.0,0.029,0.862],[8.0,0.0,0.0,0.0],[759.0,11.0,0.014,0.357],[84495.0,2392.0,0.028,0.905],[12091.0,806.0,0.067,0.833],[18016.0,907.0,0.05,0.976],[28583.0,1190.0,0.042,1.412],[29425.0,14.0,0.0,0.665],[16437.0,1070.0,0.065,0.776],[262843.0,2418.0,0.009,1.063],[287.0,0.0,0.0,0.0],[15.0,0.0,0.0,0.0],[18.0,0.0,0.0,0.0],[17.0,0.0,0.0,0.0],[652.0,41.0,0.063,0.8],[235.0,7.0,0.03,0.0],[49176.0,292.0,0.006,1.131],[2310.0,25.0,0.011,1.44],[10438.0,225.0,0.022,0.81],[11.0,0.0,0.0,0.0],[447.0,27.0,0.06,1.857],[26891.0,21.0,0.001,1.055],[1480.0,27.0,0.018,0.375],[1465.0,103.0,0.07,1.0],[1284.0,53.0,0.041,0.0],[13524.0,247.0,0.018,1.18],[236.0,4.0,0.017,0.0],[230183.0,27459.0,0.119,0.757],[935.0,9.0,0.01,1.0],[1964.0,91.0,0.046,0.0],[10.0,1.0,0.1,0.0],[29207.0,3646.0,0.125,0.929],[30514.0,1878.0,0.062,1.02],[50.0,3.0,0.06,0.0],[440.0,7.0,0.016,0.0],[509.0,21.0,0.041,0.0],[3025.0,56.0,0.019,7.0],[24.0,0.0,0.0,0.0],[263.0,11.0,0.042,1.316],[116.0,8.0,0.069,0.0],[1035.0,45.0,0.043,0.0],[146457.0,4055.0,0.028,1.045],[1442653.0,87525.0,0.061,1.154],[203.0,0.0,0.0,2.048],[17330.0,476.0,0.027,1.145],[21831.0,210.0,0.01,1.07],[238004.0,34078.0,0.143,1.033],[732.0,19.0,0.026,1.6],[2686.0,11.0,0.004,1.242],[459.0,10.0,0.022,0.125],[314.0,0.0,0.0,0.083],[375.0,2.0,0.005,0.0],[6.0,0.0,0.0,0.0],[654.0,7.0,0.011,0.0],[42.0,4.0,0.095,0.0]],\"geo\":\"geo\",\"hovertemplate\":\"<b>%{hovertext}</b><br><br>Country_Region=%{location}<br>ConfirmedCases=%{customdata[0]}<br>Fatalities=%{customdata[1]}<br>MortalityRate=%{customdata[2]}<br>GrowthFactor=%{customdata[3]}<br>Confirmed_log=%{z}<extra></extra>\",\"hovertext\":[\"Afghanistan\",\"Albania\",\"Algeria\",\"Andorra\",\"Angola\",\"Antigua and Barbuda\",\"Argentina\",\"Armenia\",\"Australia\",\"Austria\",\"Azerbaijan\",\"Bahamas\",\"Bahrain\",\"Bangladesh\",\"Barbados\",\"Belarus\",\"Belgium\",\"Belize\",\"Benin\",\"Bhutan\",\"Bolivia\",\"Bosnia and Herzegovina\",\"Botswana\",\"Brazil\",\"Brunei\",\"Bulgaria\",\"Burkina Faso\",\"Burma\",\"Burundi\",\"Cabo Verde\",\"Cambodia\",\"Cameroon\",\"Canada\",\"Central African Republic\",\"Chad\",\"Chile\",\"China\",\"Colombia\",\"Congo (Brazzaville)\",\"Congo (Kinshasa)\",\"Costa Rica\",\"Cote d'Ivoire\",\"Croatia\",\"Cuba\",\"Cyprus\",\"Czechia\",\"Denmark\",\"Diamond Princess\",\"Djibouti\",\"Dominica\",\"Dominican Republic\",\"Ecuador\",\"Egypt\",\"El Salvador\",\"Equatorial Guinea\",\"Eritrea\",\"Estonia\",\"Eswatini\",\"Ethiopia\",\"Fiji\",\"Finland\",\"France\",\"Gabon\",\"Gambia\",\"Georgia\",\"Germany\",\"Ghana\",\"Greece\",\"Grenada\",\"Guatemala\",\"Guinea\",\"Guinea-Bissau\",\"Guyana\",\"Haiti\",\"Holy See\",\"Honduras\",\"Hungary\",\"Iceland\",\"India\",\"Indonesia\",\"Iran\",\"Iraq\",\"Ireland\",\"Israel\",\"Italy\",\"Jamaica\",\"Japan\",\"Jordan\",\"Kazakhstan\",\"Kenya\",\"Korea, South\",\"Kosovo\",\"Kuwait\",\"Kyrgyzstan\",\"Laos\",\"Latvia\",\"Lebanon\",\"Liberia\",\"Libya\",\"Liechtenstein\",\"Lithuania\",\"Luxembourg\",\"MS Zaandam\",\"Madagascar\",\"Malawi\",\"Malaysia\",\"Maldives\",\"Mali\",\"Malta\",\"Mauritania\",\"Mauritius\",\"Mexico\",\"Moldova\",\"Monaco\",\"Mongolia\",\"Montenegro\",\"Morocco\",\"Mozambique\",\"Namibia\",\"Nepal\",\"Netherlands\",\"New Zealand\",\"Nicaragua\",\"Niger\",\"Nigeria\",\"North Macedonia\",\"Norway\",\"Oman\",\"Pakistan\",\"Panama\",\"Papua New Guinea\",\"Paraguay\",\"Peru\",\"Philippines\",\"Poland\",\"Portugal\",\"Qatar\",\"Romania\",\"Russia\",\"Rwanda\",\"Saint Kitts and Nevis\",\"Saint Lucia\",\"Saint Vincent and the Grenadines\",\"San Marino\",\"Sao Tome and Principe\",\"Saudi Arabia\",\"Senegal\",\"Serbia\",\"Seychelles\",\"Sierra Leone\",\"Singapore\",\"Slovakia\",\"Slovenia\",\"Somalia\",\"South Africa\",\"South Sudan\",\"Spain\",\"Sri Lanka\",\"Sudan\",\"Suriname\",\"Sweden\",\"Switzerland\",\"Syria\",\"Taiwan*\",\"Tanzania\",\"Thailand\",\"Timor-Leste\",\"Togo\",\"Trinidad and Tobago\",\"Tunisia\",\"Turkey\",\"US\",\"Uganda\",\"Ukraine\",\"United Arab Emirates\",\"United Kingdom\",\"Uruguay\",\"Uzbekistan\",\"Venezuela\",\"Vietnam\",\"West Bank and Gaza\",\"Western Sahara\",\"Zambia\",\"Zimbabwe\"],\"locationmode\":\"country names\",\"locations\":[\"Afghanistan\",\"Albania\",\"Algeria\",\"Andorra\",\"Angola\",\"Antigua and Barbuda\",\"Argentina\",\"Armenia\",\"Australia\",\"Austria\",\"Azerbaijan\",\"Bahamas\",\"Bahrain\",\"Bangladesh\",\"Barbados\",\"Belarus\",\"Belgium\",\"Belize\",\"Benin\",\"Bhutan\",\"Bolivia\",\"Bosnia and Herzegovina\",\"Botswana\",\"Brazil\",\"Brunei\",\"Bulgaria\",\"Burkina Faso\",\"Burma\",\"Burundi\",\"Cabo Verde\",\"Cambodia\",\"Cameroon\",\"Canada\",\"Central African Republic\",\"Chad\",\"Chile\",\"China\",\"Colombia\",\"Congo (Brazzaville)\",\"Congo (Kinshasa)\",\"Costa Rica\",\"Cote d'Ivoire\",\"Croatia\",\"Cuba\",\"Cyprus\",\"Czechia\",\"Denmark\",\"Diamond Princess\",\"Djibouti\",\"Dominica\",\"Dominican Republic\",\"Ecuador\",\"Egypt\",\"El Salvador\",\"Equatorial Guinea\",\"Eritrea\",\"Estonia\",\"Eswatini\",\"Ethiopia\",\"Fiji\",\"Finland\",\"France\",\"Gabon\",\"Gambia\",\"Georgia\",\"Germany\",\"Ghana\",\"Greece\",\"Grenada\",\"Guatemala\",\"Guinea\",\"Guinea-Bissau\",\"Guyana\",\"Haiti\",\"Holy See\",\"Honduras\",\"Hungary\",\"Iceland\",\"India\",\"Indonesia\",\"Iran\",\"Iraq\",\"Ireland\",\"Israel\",\"Italy\",\"Jamaica\",\"Japan\",\"Jordan\",\"Kazakhstan\",\"Kenya\",\"Korea, South\",\"Kosovo\",\"Kuwait\",\"Kyrgyzstan\",\"Laos\",\"Latvia\",\"Lebanon\",\"Liberia\",\"Libya\",\"Liechtenstein\",\"Lithuania\",\"Luxembourg\",\"MS Zaandam\",\"Madagascar\",\"Malawi\",\"Malaysia\",\"Maldives\",\"Mali\",\"Malta\",\"Mauritania\",\"Mauritius\",\"Mexico\",\"Moldova\",\"Monaco\",\"Mongolia\",\"Montenegro\",\"Morocco\",\"Mozambique\",\"Namibia\",\"Nepal\",\"Netherlands\",\"New Zealand\",\"Nicaragua\",\"Niger\",\"Nigeria\",\"North Macedonia\",\"Norway\",\"Oman\",\"Pakistan\",\"Panama\",\"Papua New Guinea\",\"Paraguay\",\"Peru\",\"Philippines\",\"Poland\",\"Portugal\",\"Qatar\",\"Romania\",\"Russia\",\"Rwanda\",\"Saint Kitts and Nevis\",\"Saint Lucia\",\"Saint Vincent and the Grenadines\",\"San Marino\",\"Sao Tome and Principe\",\"Saudi Arabia\",\"Senegal\",\"Serbia\",\"Seychelles\",\"Sierra Leone\",\"Singapore\",\"Slovakia\",\"Slovenia\",\"Somalia\",\"South Africa\",\"South Sudan\",\"Spain\",\"Sri Lanka\",\"Sudan\",\"Suriname\",\"Sweden\",\"Switzerland\",\"Syria\",\"Taiwan*\",\"Tanzania\",\"Thailand\",\"Timor-Leste\",\"Togo\",\"Trinidad and Tobago\",\"Tunisia\",\"Turkey\",\"US\",\"Uganda\",\"Ukraine\",\"United Arab Emirates\",\"United Kingdom\",\"Uruguay\",\"Uzbekistan\",\"Venezuela\",\"Vietnam\",\"West Bank and Gaza\",\"Western Sahara\",\"Zambia\",\"Zimbabwe\"],\"name\":\"\",\"z\":[3.782,2.962,3.822,2.882,1.69,1.415,3.874,3.607,3.847,4.207,3.474,1.987,3.818,4.302,1.934,4.443,4.738,1.279,2.531,1.342,3.554,3.35,1.398,5.343,2.152,3.33,2.893,2.262,1.204,2.515,2.09,3.492,4.881,2.48,2.632,4.597,4.924,4.153,2.593,3.114,2.926,3.305,3.347,3.265,2.96,3.925,4.041,2.853,3.117,1.23,4.07,4.498,4.05,3.083,2.775,1.602,3.247,2.281,2.459,1.279,3.794,5.254,3.083,1.38,2.827,5.244,3.751,3.449,1.362,3.216,3.393,2.961,2.068,2.493,1.114,3.391,3.534,3.256,4.933,4.217,5.067,3.504,4.379,4.22,5.35,2.709,4.21,2.776,3.755,2.893,4.043,2.975,4.109,3.046,1.301,2.987,2.95,2.342,1.813,1.919,3.183,3.594,1.0,2.378,1.806,3.836,3.014,2.907,2.727,1.477,2.522,4.654,3.759,1.987,1.996,2.512,3.823,2.079,1.23,2.428,4.642,3.176,1.415,2.947,3.736,3.241,3.915,3.665,4.589,3.967,0.954,2.881,4.927,4.082,4.256,4.456,4.469,4.216,5.42,2.459,1.204,1.279,1.255,2.815,2.373,4.692,3.364,4.019,1.079,2.651,4.43,3.171,3.166,3.109,4.131,2.375,5.362,2.971,3.293,1.041,4.466,4.485,1.708,2.644,2.708,3.481,1.398,2.422,2.068,3.015,5.166,6.159,2.31,4.239,4.339,5.377,2.865,3.429,2.663,2.498,2.575,0.845,2.816,1.633],\"type\":\"choropleth\"}],                        {\"template\":{\"data\":{\"histogram2dcontour\":[{\"type\":\"histogram2dcontour\",\"colorbar\":{\"outlinewidth\":0,\"ticks\":\"\"},\"colorscale\":[[0.0,\"#0d0887\"],[0.1111111111111111,\"#46039f\"],[0.2222222222222222,\"#7201a8\"],[0.3333333333333333,\"#9c179e\"],[0.4444444444444444,\"#bd3786\"],[0.5555555555555556,\"#d8576b\"],[0.6666666666666666,\"#ed7953\"],[0.7777777777777778,\"#fb9f3a\"],[0.8888888888888888,\"#fdca26\"],[1.0,\"#f0f921\"]]}],\"choropleth\":[{\"type\":\"choropleth\",\"colorbar\":{\"outlinewidth\":0,\"ticks\":\"\"}}],\"histogram2d\":[{\"type\":\"histogram2d\",\"colorbar\":{\"outlinewidth\":0,\"ticks\":\"\"},\"colorscale\":[[0.0,\"#0d0887\"],[0.1111111111111111,\"#46039f\"],[0.2222222222222222,\"#7201a8\"],[0.3333333333333333,\"#9c179e\"],[0.4444444444444444,\"#bd3786\"],[0.5555555555555556,\"#d8576b\"],[0.6666666666666666,\"#ed7953\"],[0.7777777777777778,\"#fb9f3a\"],[0.8888888888888888,\"#fdca26\"],[1.0,\"#f0f921\"]]}],\"heatmap\":[{\"type\":\"heatmap\",\"colorbar\":{\"outlinewidth\":0,\"ticks\":\"\"},\"colorscale\":[[0.0,\"#0d0887\"],[0.1111111111111111,\"#46039f\"],[0.2222222222222222,\"#7201a8\"],[0.3333333333333333,\"#9c179e\"],[0.4444444444444444,\"#bd3786\"],[0.5555555555555556,\"#d8576b\"],[0.6666666666666666,\"#ed7953\"],[0.7777777777777778,\"#fb9f3a\"],[0.8888888888888888,\"#fdca26\"],[1.0,\"#f0f921\"]]}],\"heatmapgl\":[{\"type\":\"heatmapgl\",\"colorbar\":{\"outlinewidth\":0,\"ticks\":\"\"},\"colorscale\":[[0.0,\"#0d0887\"],[0.1111111111111111,\"#46039f\"],[0.2222222222222222,\"#7201a8\"],[0.3333333333333333,\"#9c179e\"],[0.4444444444444444,\"#bd3786\"],[0.5555555555555556,\"#d8576b\"],[0.6666666666666666,\"#ed7953\"],[0.7777777777777778,\"#fb9f3a\"],[0.8888888888888888,\"#fdca26\"],[1.0,\"#f0f921\"]]}],\"contourcarpet\":[{\"type\":\"contourcarpet\",\"colorbar\":{\"outlinewidth\":0,\"ticks\":\"\"}}],\"contour\":[{\"type\":\"contour\",\"colorbar\":{\"outlinewidth\":0,\"ticks\":\"\"},\"colorscale\":[[0.0,\"#0d0887\"],[0.1111111111111111,\"#46039f\"],[0.2222222222222222,\"#7201a8\"],[0.3333333333333333,\"#9c179e\"],[0.4444444444444444,\"#bd3786\"],[0.5555555555555556,\"#d8576b\"],[0.6666666666666666,\"#ed7953\"],[0.7777777777777778,\"#fb9f3a\"],[0.8888888888888888,\"#fdca26\"],[1.0,\"#f0f921\"]]}],\"surface\":[{\"type\":\"surface\",\"colorbar\":{\"outlinewidth\":0,\"ticks\":\"\"},\"colorscale\":[[0.0,\"#0d0887\"],[0.1111111111111111,\"#46039f\"],[0.2222222222222222,\"#7201a8\"],[0.3333333333333333,\"#9c179e\"],[0.4444444444444444,\"#bd3786\"],[0.5555555555555556,\"#d8576b\"],[0.6666666666666666,\"#ed7953\"],[0.7777777777777778,\"#fb9f3a\"],[0.8888888888888888,\"#fdca26\"],[1.0,\"#f0f921\"]]}],\"mesh3d\":[{\"type\":\"mesh3d\",\"colorbar\":{\"outlinewidth\":0,\"ticks\":\"\"}}],\"scatter\":[{\"fillpattern\":{\"fillmode\":\"overlay\",\"size\":10,\"solidity\":0.2},\"type\":\"scatter\"}],\"parcoords\":[{\"type\":\"parcoords\",\"line\":{\"colorbar\":{\"outlinewidth\":0,\"ticks\":\"\"}}}],\"scatterpolargl\":[{\"type\":\"scatterpolargl\",\"marker\":{\"colorbar\":{\"outlinewidth\":0,\"ticks\":\"\"}}}],\"bar\":[{\"error_x\":{\"color\":\"#2a3f5f\"},\"error_y\":{\"color\":\"#2a3f5f\"},\"marker\":{\"line\":{\"color\":\"#E5ECF6\",\"width\":0.5},\"pattern\":{\"fillmode\":\"overlay\",\"size\":10,\"solidity\":0.2}},\"type\":\"bar\"}],\"scattergeo\":[{\"type\":\"scattergeo\",\"marker\":{\"colorbar\":{\"outlinewidth\":0,\"ticks\":\"\"}}}],\"scatterpolar\":[{\"type\":\"scatterpolar\",\"marker\":{\"colorbar\":{\"outlinewidth\":0,\"ticks\":\"\"}}}],\"histogram\":[{\"marker\":{\"pattern\":{\"fillmode\":\"overlay\",\"size\":10,\"solidity\":0.2}},\"type\":\"histogram\"}],\"scattergl\":[{\"type\":\"scattergl\",\"marker\":{\"colorbar\":{\"outlinewidth\":0,\"ticks\":\"\"}}}],\"scatter3d\":[{\"type\":\"scatter3d\",\"line\":{\"colorbar\":{\"outlinewidth\":0,\"ticks\":\"\"}},\"marker\":{\"colorbar\":{\"outlinewidth\":0,\"ticks\":\"\"}}}],\"scattermapbox\":[{\"type\":\"scattermapbox\",\"marker\":{\"colorbar\":{\"outlinewidth\":0,\"ticks\":\"\"}}}],\"scatterternary\":[{\"type\":\"scatterternary\",\"marker\":{\"colorbar\":{\"outlinewidth\":0,\"ticks\":\"\"}}}],\"scattercarpet\":[{\"type\":\"scattercarpet\",\"marker\":{\"colorbar\":{\"outlinewidth\":0,\"ticks\":\"\"}}}],\"carpet\":[{\"aaxis\":{\"endlinecolor\":\"#2a3f5f\",\"gridcolor\":\"white\",\"linecolor\":\"white\",\"minorgridcolor\":\"white\",\"startlinecolor\":\"#2a3f5f\"},\"baxis\":{\"endlinecolor\":\"#2a3f5f\",\"gridcolor\":\"white\",\"linecolor\":\"white\",\"minorgridcolor\":\"white\",\"startlinecolor\":\"#2a3f5f\"},\"type\":\"carpet\"}],\"table\":[{\"cells\":{\"fill\":{\"color\":\"#EBF0F8\"},\"line\":{\"color\":\"white\"}},\"header\":{\"fill\":{\"color\":\"#C8D4E3\"},\"line\":{\"color\":\"white\"}},\"type\":\"table\"}],\"barpolar\":[{\"marker\":{\"line\":{\"color\":\"#E5ECF6\",\"width\":0.5},\"pattern\":{\"fillmode\":\"overlay\",\"size\":10,\"solidity\":0.2}},\"type\":\"barpolar\"}],\"pie\":[{\"automargin\":true,\"type\":\"pie\"}]},\"layout\":{\"autotypenumbers\":\"strict\",\"colorway\":[\"#636efa\",\"#EF553B\",\"#00cc96\",\"#ab63fa\",\"#FFA15A\",\"#19d3f3\",\"#FF6692\",\"#B6E880\",\"#FF97FF\",\"#FECB52\"],\"font\":{\"color\":\"#2a3f5f\"},\"hovermode\":\"closest\",\"hoverlabel\":{\"align\":\"left\"},\"paper_bgcolor\":\"white\",\"plot_bgcolor\":\"#E5ECF6\",\"polar\":{\"bgcolor\":\"#E5ECF6\",\"angularaxis\":{\"gridcolor\":\"white\",\"linecolor\":\"white\",\"ticks\":\"\"},\"radialaxis\":{\"gridcolor\":\"white\",\"linecolor\":\"white\",\"ticks\":\"\"}},\"ternary\":{\"bgcolor\":\"#E5ECF6\",\"aaxis\":{\"gridcolor\":\"white\",\"linecolor\":\"white\",\"ticks\":\"\"},\"baxis\":{\"gridcolor\":\"white\",\"linecolor\":\"white\",\"ticks\":\"\"},\"caxis\":{\"gridcolor\":\"white\",\"linecolor\":\"white\",\"ticks\":\"\"}},\"coloraxis\":{\"colorbar\":{\"outlinewidth\":0,\"ticks\":\"\"}},\"colorscale\":{\"sequential\":[[0.0,\"#0d0887\"],[0.1111111111111111,\"#46039f\"],[0.2222222222222222,\"#7201a8\"],[0.3333333333333333,\"#9c179e\"],[0.4444444444444444,\"#bd3786\"],[0.5555555555555556,\"#d8576b\"],[0.6666666666666666,\"#ed7953\"],[0.7777777777777778,\"#fb9f3a\"],[0.8888888888888888,\"#fdca26\"],[1.0,\"#f0f921\"]],\"sequentialminus\":[[0.0,\"#0d0887\"],[0.1111111111111111,\"#46039f\"],[0.2222222222222222,\"#7201a8\"],[0.3333333333333333,\"#9c179e\"],[0.4444444444444444,\"#bd3786\"],[0.5555555555555556,\"#d8576b\"],[0.6666666666666666,\"#ed7953\"],[0.7777777777777778,\"#fb9f3a\"],[0.8888888888888888,\"#fdca26\"],[1.0,\"#f0f921\"]],\"diverging\":[[0,\"#8e0152\"],[0.1,\"#c51b7d\"],[0.2,\"#de77ae\"],[0.3,\"#f1b6da\"],[0.4,\"#fde0ef\"],[0.5,\"#f7f7f7\"],[0.6,\"#e6f5d0\"],[0.7,\"#b8e186\"],[0.8,\"#7fbc41\"],[0.9,\"#4d9221\"],[1,\"#276419\"]]},\"xaxis\":{\"gridcolor\":\"white\",\"linecolor\":\"white\",\"ticks\":\"\",\"title\":{\"standoff\":15},\"zerolinecolor\":\"white\",\"automargin\":true,\"zerolinewidth\":2},\"yaxis\":{\"gridcolor\":\"white\",\"linecolor\":\"white\",\"ticks\":\"\",\"title\":{\"standoff\":15},\"zerolinecolor\":\"white\",\"automargin\":true,\"zerolinewidth\":2},\"scene\":{\"xaxis\":{\"backgroundcolor\":\"#E5ECF6\",\"gridcolor\":\"white\",\"linecolor\":\"white\",\"showbackground\":true,\"ticks\":\"\",\"zerolinecolor\":\"white\",\"gridwidth\":2},\"yaxis\":{\"backgroundcolor\":\"#E5ECF6\",\"gridcolor\":\"white\",\"linecolor\":\"white\",\"showbackground\":true,\"ticks\":\"\",\"zerolinecolor\":\"white\",\"gridwidth\":2},\"zaxis\":{\"backgroundcolor\":\"#E5ECF6\",\"gridcolor\":\"white\",\"linecolor\":\"white\",\"showbackground\":true,\"ticks\":\"\",\"zerolinecolor\":\"white\",\"gridwidth\":2}},\"shapedefaults\":{\"line\":{\"color\":\"#2a3f5f\"}},\"annotationdefaults\":{\"arrowcolor\":\"#2a3f5f\",\"arrowhead\":0,\"arrowwidth\":1},\"geo\":{\"bgcolor\":\"white\",\"landcolor\":\"#E5ECF6\",\"subunitcolor\":\"white\",\"showland\":true,\"showlakes\":true,\"lakecolor\":\"white\"},\"title\":{\"x\":0.05},\"mapbox\":{\"style\":\"light\"}}},\"geo\":{\"domain\":{\"x\":[0.0,1.0],\"y\":[0.0,1.0]},\"center\":{}},\"coloraxis\":{\"colorbar\":{\"title\":{\"text\":\"Confirmed_log\"}},\"colorscale\":[[0.0,\"#0d0887\"],[0.1111111111111111,\"#46039f\"],[0.2222222222222222,\"#7201a8\"],[0.3333333333333333,\"#9c179e\"],[0.4444444444444444,\"#bd3786\"],[0.5555555555555556,\"#d8576b\"],[0.6666666666666666,\"#ed7953\"],[0.7777777777777778,\"#fb9f3a\"],[0.8888888888888888,\"#fdca26\"],[1.0,\"#f0f921\"]],\"cmin\":0.845,\"cmax\":6.159},\"legend\":{\"tracegroupgap\":0},\"title\":{\"text\":\"COVID-19: Confirmed Cases\"}},                        {\"responsive\": true}                    ).then(function(){\n",
       "                            \n",
       "var gd = document.getElementById('46e29788-9521-4c51-893e-12bf23f57be3');\n",
       "var x = new MutationObserver(function (mutations, observer) {{\n",
       "        var display = window.getComputedStyle(gd).display;\n",
       "        if (!display || display === 'none') {{\n",
       "            console.log([gd, 'removed!']);\n",
       "            Plotly.purge(gd);\n",
       "            observer.disconnect();\n",
       "        }}\n",
       "}});\n",
       "\n",
       "// Listen for the removal of the full notebook cells\n",
       "var notebookContainer = gd.closest('#notebook-container');\n",
       "if (notebookContainer) {{\n",
       "    x.observe(notebookContainer, {childList: true});\n",
       "}}\n",
       "\n",
       "// Listen for the clearing of the current output cell\n",
       "var outputEl = gd.closest('.output');\n",
       "if (outputEl) {{\n",
       "    x.observe(outputEl, {childList: true});\n",
       "}}\n",
       "\n",
       "                        })                };                });            </script>        </div>"
      ]
     },
     "metadata": {},
     "output_type": "display_data"
    }
   ],
   "source": [
    "#import plotly.io as pio              # to set shahin plot layout\n",
    "\n",
    "world_df = train_data_by_country.query('Date == @max_train_date')\n",
    "world_df.loc[:,'Date']           = world_df.loc[:,'Date'].apply(str)\n",
    "world_df.loc[:,'Confirmed_log']  = round(np.log10(world_df.loc[:,'ConfirmedCases'] + 1), 3)\n",
    "world_df.loc[:,'Fatalities_log'] = np.log10(world_df.loc[:,'Fatalities'] + 1)\n",
    "world_df.loc[:,'MortalityRate']  = round(world_df.loc[:, 'Fatalities'] / world_df.loc[:,'ConfirmedCases'], 3)\n",
    "world_df.loc[:,'GrowthFactor']  = round(world_df.loc[:,'GrowthRate'], 3)\n",
    "#display(world_df.head())\n",
    "\n",
    "fig1 = px.choropleth(world_df, locations=\"Country_Region\", \n",
    "                    locationmode=\"country names\",  \n",
    "                    color=\"Confirmed_log\",                     \n",
    "                    hover_name=\"Country_Region\",\n",
    "                    hover_data=['ConfirmedCases', 'Fatalities', 'MortalityRate', 'GrowthFactor'],\n",
    "                    range_color=[world_df['Confirmed_log'].min(), world_df['Confirmed_log'].max()], \n",
    "                    color_continuous_scale = px.colors.sequential.Plasma,\n",
    "                    title='COVID-19: Confirmed Cases')\n",
    "fig1.show()"
   ]
  },
  {
   "cell_type": "code",
   "execution_count": null,
   "metadata": {},
   "outputs": [],
   "source": []
  }
 ],
 "metadata": {
  "kernelspec": {
   "display_name": "Python 3",
   "language": "python",
   "name": "python3"
  },
  "language_info": {
   "codemirror_mode": {
    "name": "ipython",
    "version": 3
   },
   "file_extension": ".py",
   "mimetype": "text/x-python",
   "name": "python",
   "nbconvert_exporter": "python",
   "pygments_lexer": "ipython3",
   "version": "3.8.5"
  }
 },
 "nbformat": 4,
 "nbformat_minor": 4
}
